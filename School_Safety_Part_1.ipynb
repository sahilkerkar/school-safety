{
 "cells": [
  {
   "cell_type": "markdown",
   "metadata": {},
   "source": [
    "# School Safety - Part 1\n",
    "### *Data Preparation and Violence Regression*"
   ]
  },
  {
   "cell_type": "markdown",
   "metadata": {},
   "source": [
    "## 1. Background\n",
    "The US government makes many datasets publically available, and I had a particular interest in school safety. While the media often highlights tragic cases of gun violence, I wanted to dig deeper and see if there was anything to be learned about crime and safety in general at schools. Forunately, the Department of Education conducts a periodic survey of public schools in the country: The School Survey on Crime and Safety (SSOCS). More information on this survey can be found [here](https://nces.ed.gov/surveys/ssocs/index.asp?FType=3). For this project, I downloaded cross-sectional data from the 2015-2016 school year. The relevant files are available directly in my GitHub repository, although they can also be manually downloaded from the National Center for Education Statistics (NCES) [website](https://nces.ed.gov/pubsearch/pubsinfo.asp?pubid=2018109). After some preliminary analysis, I chose to focus on three main questions:\n",
    "\n",
    "1. Is it possible to predict how many violent incidents a school will have in a given year?\n",
    "2. Is it possible to predict the extent to which bullying occurs at a school?\n",
    "3. Is there discrimination based on race when it comes to disciplinary action at schools?\n",
    "\n",
    "This notebook will focus on cleaning/exploring the data and developing insights for the first question above. \n",
    "\n",
    "**The analysis resulted in the following conclusions:**\n",
    "1. OLS with RFE was the best model.\n",
    "2. Drug testing, required faculty ID, teacher training on substance abuse, and community involvement in school safety were all associated with a reduction in violent incidents. \n",
    "3. Larger schools were associated with more violent incidents. \n",
    "4. Metal detectors, required student IDs, required clear book bags/book bag bans, and presence of law enforcement were associated with an increase in violent incidents (correlation does not imply causation)."
   ]
  },
  {
   "cell_type": "markdown",
   "metadata": {},
   "source": [
    "## 2. Setup/Data Cleaning"
   ]
  },
  {
   "cell_type": "markdown",
   "metadata": {},
   "source": [
    "The following [module](https://pypi.org/project/sas7bdat/) needs to be installed in order to read the original data file:\n",
    "\n",
    "```pip install sas7bdat```\n"
   ]
  },
  {
   "cell_type": "code",
   "execution_count": 435,
   "metadata": {},
   "outputs": [],
   "source": [
    "import pandas as pd\n",
    "import numpy as np\n",
    "import matplotlib.pyplot as plt\n",
    "import seaborn as sns\n",
    "sns.set()\n",
    "from sas7bdat import SAS7BDAT\n",
    "\n",
    "%matplotlib inline\n",
    "\n",
    "pd.options.display.max_columns = 17"
   ]
  },
  {
   "cell_type": "code",
   "execution_count": 436,
   "metadata": {},
   "outputs": [],
   "source": [
    "#Load the full data file into a dataframe\n",
    "reader = SAS7BDAT('school_safety.sas7bdat', skip_header=False)\n",
    "school_df = reader.to_data_frame()\n",
    "\n",
    "#Load the target variable of interest into a series\n",
    "#VIOINC16 = Total number of violent incidents recorded\n",
    "y_regression = school_df[\"VIOINC16\"]"
   ]
  },
  {
   "cell_type": "markdown",
   "metadata": {},
   "source": [
    "Given that I was running a regression on total number of violent incidents at schools, I suspected that the target variable would contain many outliers. My first step was to visualize the data and remove any outliers that would prove troublesome for machine learning algorithms"
   ]
  },
  {
   "cell_type": "code",
   "execution_count": 437,
   "metadata": {
    "scrolled": false
   },
   "outputs": [
    {
     "data": {
      "text/plain": [
       "<matplotlib.axes._subplots.AxesSubplot at 0x1d3c5e862c8>"
      ]
     },
     "execution_count": 437,
     "metadata": {},
     "output_type": "execute_result"
    },
    {
     "data": {
      "image/png": "[encoded data removed]",
      "text/plain": [
       "<Figure size 864x648 with 1 Axes>"
      ]
     },
     "metadata": {
      "needs_background": "light"
     },
     "output_type": "display_data"
    }
   ],
   "source": [
    "y_regression.hist(bins=100, figsize=(12,9))"
   ]
  },
  {
   "cell_type": "code",
   "execution_count": 438,
   "metadata": {},
   "outputs": [
    {
     "data": {
      "text/plain": [
       "<matplotlib.axes._subplots.AxesSubplot at 0x1d3b483f308>"
      ]
     },
     "execution_count": 438,
     "metadata": {},
     "output_type": "execute_result"
    },
    {
     "data": {
      "image/png": "[encoded data removed]",
      "text/plain": [
       "<Figure size 864x648 with 1 Axes>"
      ]
     },
     "metadata": {
      "needs_background": "light"
     },
     "output_type": "display_data"
    }
   ],
   "source": [
    "y_regression.plot.box(figsize=(12,9))"
   ]
  },
  {
   "cell_type": "code",
   "execution_count": 439,
   "metadata": {},
   "outputs": [
    {
     "name": "stdout",
     "output_type": "stream",
     "text": [
      "Upper Bound: 31.0\n",
      "Lower Bound: -17.0\n"
     ]
    }
   ],
   "source": [
    "from scipy.stats import iqr\n",
    "\n",
    "#An observation is considered an outlier if it lies more than 1.5 * IQR from the median\n",
    "upper_bound = y_regression.median() + 1.5 * iqr(y_regression)\n",
    "lower_bound = y_regression.median() - 1.5 * iqr(y_regression)\n",
    "print(\"Upper Bound: \" + str(upper_bound))\n",
    "print(\"Lower Bound: \" + str(lower_bound))"
   ]
  },
  {
   "cell_type": "code",
   "execution_count": 440,
   "metadata": {},
   "outputs": [
    {
     "name": "stdout",
     "output_type": "stream",
     "text": [
      "Number of Target Points: 2092\n",
      "Number of Outliers: 278\n",
      "Proportion Outliers: 0.13288718929254303\n"
     ]
    }
   ],
   "source": [
    "print(\"Number of Target Points: \" + str(len(y_regression)))\n",
    "print(\"Number of Outliers: \" + str(sum(y_regression > upper_bound)))\n",
    "print(\"Proportion Outliers: \" + str(sum(y_regression > upper_bound)/len(y_regression)))"
   ]
  },
  {
   "cell_type": "markdown",
   "metadata": {},
   "source": [
    "Eliminating all 278 outliers unfortunately reduced my dataset by more than 10%, which isn't ideal given I didn't have an abundance of schools to start with. However, after running this analysis with different upper bound cutoffs, I decided it made sense to limit the data set to schools with 31 or fewer violent incidents."
   ]
  },
  {
   "cell_type": "code",
   "execution_count": 441,
   "metadata": {},
   "outputs": [],
   "source": [
    "y_regression_reduced = y_regression[y_regression <= 31]"
   ]
  },
  {
   "cell_type": "markdown",
   "metadata": {},
   "source": [
    "Next, it was time to develop a dataframe of features. I removed any rows corresponding to outliers as calculated above."
   ]
  },
  {
   "cell_type": "code",
   "execution_count": 442,
   "metadata": {
    "scrolled": false
   },
   "outputs": [
    {
     "data": {
      "text/html": [
       "<div>\n",
       "<style scoped>\n",
       "    .dataframe tbody tr th:only-of-type {\n",
       "        vertical-align: middle;\n",
       "    }\n",
       "\n",
       "    .dataframe tbody tr th {\n",
       "        vertical-align: top;\n",
       "    }\n",
       "\n",
       "    .dataframe thead th {\n",
       "        text-align: right;\n",
       "    }\n",
       "</style>\n",
       "<table border=\"1\" class=\"dataframe\">\n",
       "  <thead>\n",
       "    <tr style=\"text-align: right;\">\n",
       "      <th></th>\n",
       "      <th>SCHID</th>\n",
       "      <th>C0014_R</th>\n",
       "      <th>C0016_R</th>\n",
       "      <th>C0110</th>\n",
       "      <th>C0112</th>\n",
       "      <th>C0114</th>\n",
       "      <th>C0116</th>\n",
       "      <th>C0120</th>\n",
       "      <th>...</th>\n",
       "      <th>IC0538</th>\n",
       "      <th>IC0560</th>\n",
       "      <th>IC0562</th>\n",
       "      <th>IC0568</th>\n",
       "      <th>IC0570</th>\n",
       "      <th>IC0572</th>\n",
       "      <th>IC0578</th>\n",
       "      <th>IC0580</th>\n",
       "    </tr>\n",
       "  </thead>\n",
       "  <tbody>\n",
       "    <tr>\n",
       "      <th>0</th>\n",
       "      <td>1.0</td>\n",
       "      <td>1.0</td>\n",
       "      <td>5.0</td>\n",
       "      <td>1.0</td>\n",
       "      <td>1.0</td>\n",
       "      <td>1.0</td>\n",
       "      <td>2.0</td>\n",
       "      <td>2.0</td>\n",
       "      <td>...</td>\n",
       "      <td>0.0</td>\n",
       "      <td>0.0</td>\n",
       "      <td>0.0</td>\n",
       "      <td>0.0</td>\n",
       "      <td>0.0</td>\n",
       "      <td>0.0</td>\n",
       "      <td>0.0</td>\n",
       "      <td>0.0</td>\n",
       "    </tr>\n",
       "    <tr>\n",
       "      <th>1</th>\n",
       "      <td>2.0</td>\n",
       "      <td>2.0</td>\n",
       "      <td>8.0</td>\n",
       "      <td>2.0</td>\n",
       "      <td>1.0</td>\n",
       "      <td>1.0</td>\n",
       "      <td>2.0</td>\n",
       "      <td>2.0</td>\n",
       "      <td>...</td>\n",
       "      <td>0.0</td>\n",
       "      <td>0.0</td>\n",
       "      <td>0.0</td>\n",
       "      <td>0.0</td>\n",
       "      <td>0.0</td>\n",
       "      <td>0.0</td>\n",
       "      <td>0.0</td>\n",
       "      <td>0.0</td>\n",
       "    </tr>\n",
       "    <tr>\n",
       "      <th>2</th>\n",
       "      <td>3.0</td>\n",
       "      <td>1.0</td>\n",
       "      <td>2.0</td>\n",
       "      <td>1.0</td>\n",
       "      <td>1.0</td>\n",
       "      <td>1.0</td>\n",
       "      <td>2.0</td>\n",
       "      <td>2.0</td>\n",
       "      <td>...</td>\n",
       "      <td>7.0</td>\n",
       "      <td>0.0</td>\n",
       "      <td>0.0</td>\n",
       "      <td>0.0</td>\n",
       "      <td>7.0</td>\n",
       "      <td>7.0</td>\n",
       "      <td>0.0</td>\n",
       "      <td>0.0</td>\n",
       "    </tr>\n",
       "    <tr>\n",
       "      <th>3</th>\n",
       "      <td>4.0</td>\n",
       "      <td>1.0</td>\n",
       "      <td>0.0</td>\n",
       "      <td>1.0</td>\n",
       "      <td>1.0</td>\n",
       "      <td>1.0</td>\n",
       "      <td>2.0</td>\n",
       "      <td>2.0</td>\n",
       "      <td>...</td>\n",
       "      <td>0.0</td>\n",
       "      <td>0.0</td>\n",
       "      <td>0.0</td>\n",
       "      <td>0.0</td>\n",
       "      <td>0.0</td>\n",
       "      <td>0.0</td>\n",
       "      <td>0.0</td>\n",
       "      <td>0.0</td>\n",
       "    </tr>\n",
       "    <tr>\n",
       "      <th>4</th>\n",
       "      <td>8.0</td>\n",
       "      <td>1.0</td>\n",
       "      <td>-2.0</td>\n",
       "      <td>1.0</td>\n",
       "      <td>1.0</td>\n",
       "      <td>1.0</td>\n",
       "      <td>2.0</td>\n",
       "      <td>2.0</td>\n",
       "      <td>...</td>\n",
       "      <td>0.0</td>\n",
       "      <td>0.0</td>\n",
       "      <td>0.0</td>\n",
       "      <td>0.0</td>\n",
       "      <td>0.0</td>\n",
       "      <td>0.0</td>\n",
       "      <td>0.0</td>\n",
       "      <td>0.0</td>\n",
       "    </tr>\n",
       "    <tr>\n",
       "      <th>...</th>\n",
       "      <td>...</td>\n",
       "      <td>...</td>\n",
       "      <td>...</td>\n",
       "      <td>...</td>\n",
       "      <td>...</td>\n",
       "      <td>...</td>\n",
       "      <td>...</td>\n",
       "      <td>...</td>\n",
       "      <td>...</td>\n",
       "      <td>...</td>\n",
       "      <td>...</td>\n",
       "      <td>...</td>\n",
       "      <td>...</td>\n",
       "      <td>...</td>\n",
       "      <td>...</td>\n",
       "      <td>...</td>\n",
       "      <td>...</td>\n",
       "    </tr>\n",
       "    <tr>\n",
       "      <th>2087</th>\n",
       "      <td>3546.0</td>\n",
       "      <td>1.0</td>\n",
       "      <td>2.0</td>\n",
       "      <td>1.0</td>\n",
       "      <td>1.0</td>\n",
       "      <td>1.0</td>\n",
       "      <td>2.0</td>\n",
       "      <td>2.0</td>\n",
       "      <td>...</td>\n",
       "      <td>0.0</td>\n",
       "      <td>0.0</td>\n",
       "      <td>0.0</td>\n",
       "      <td>0.0</td>\n",
       "      <td>0.0</td>\n",
       "      <td>0.0</td>\n",
       "      <td>0.0</td>\n",
       "      <td>0.0</td>\n",
       "    </tr>\n",
       "    <tr>\n",
       "      <th>2088</th>\n",
       "      <td>3547.0</td>\n",
       "      <td>1.0</td>\n",
       "      <td>3.0</td>\n",
       "      <td>1.0</td>\n",
       "      <td>1.0</td>\n",
       "      <td>2.0</td>\n",
       "      <td>2.0</td>\n",
       "      <td>2.0</td>\n",
       "      <td>...</td>\n",
       "      <td>0.0</td>\n",
       "      <td>0.0</td>\n",
       "      <td>0.0</td>\n",
       "      <td>0.0</td>\n",
       "      <td>0.0</td>\n",
       "      <td>0.0</td>\n",
       "      <td>0.0</td>\n",
       "      <td>0.0</td>\n",
       "    </tr>\n",
       "    <tr>\n",
       "      <th>2089</th>\n",
       "      <td>3548.0</td>\n",
       "      <td>1.0</td>\n",
       "      <td>1.0</td>\n",
       "      <td>1.0</td>\n",
       "      <td>1.0</td>\n",
       "      <td>2.0</td>\n",
       "      <td>2.0</td>\n",
       "      <td>2.0</td>\n",
       "      <td>...</td>\n",
       "      <td>0.0</td>\n",
       "      <td>0.0</td>\n",
       "      <td>0.0</td>\n",
       "      <td>0.0</td>\n",
       "      <td>0.0</td>\n",
       "      <td>0.0</td>\n",
       "      <td>0.0</td>\n",
       "      <td>0.0</td>\n",
       "    </tr>\n",
       "    <tr>\n",
       "      <th>2090</th>\n",
       "      <td>3552.0</td>\n",
       "      <td>1.0</td>\n",
       "      <td>2.0</td>\n",
       "      <td>1.0</td>\n",
       "      <td>1.0</td>\n",
       "      <td>1.0</td>\n",
       "      <td>2.0</td>\n",
       "      <td>2.0</td>\n",
       "      <td>...</td>\n",
       "      <td>0.0</td>\n",
       "      <td>0.0</td>\n",
       "      <td>0.0</td>\n",
       "      <td>0.0</td>\n",
       "      <td>0.0</td>\n",
       "      <td>0.0</td>\n",
       "      <td>0.0</td>\n",
       "      <td>0.0</td>\n",
       "    </tr>\n",
       "    <tr>\n",
       "      <th>2091</th>\n",
       "      <td>3553.0</td>\n",
       "      <td>1.0</td>\n",
       "      <td>3.0</td>\n",
       "      <td>1.0</td>\n",
       "      <td>1.0</td>\n",
       "      <td>1.0</td>\n",
       "      <td>2.0</td>\n",
       "      <td>2.0</td>\n",
       "      <td>...</td>\n",
       "      <td>0.0</td>\n",
       "      <td>0.0</td>\n",
       "      <td>0.0</td>\n",
       "      <td>0.0</td>\n",
       "      <td>0.0</td>\n",
       "      <td>0.0</td>\n",
       "      <td>0.0</td>\n",
       "      <td>0.0</td>\n",
       "    </tr>\n",
       "  </tbody>\n",
       "</table>\n",
       "<p>1814 rows × 476 columns</p>\n",
       "</div>"
      ],
      "text/plain": [
       "       SCHID  C0014_R  C0016_R  C0110  C0112  C0114  C0116  C0120  ...  IC0538  IC0560  IC0562  IC0568  IC0570  IC0572  IC0578  IC0580\n",
       "0        1.0      1.0      5.0    1.0    1.0    1.0    2.0    2.0  ...     0.0     0.0     0.0     0.0     0.0     0.0     0.0     0.0\n",
       "1        2.0      2.0      8.0    2.0    1.0    1.0    2.0    2.0  ...     0.0     0.0     0.0     0.0     0.0     0.0     0.0     0.0\n",
       "2        3.0      1.0      2.0    1.0    1.0    1.0    2.0    2.0  ...     7.0     0.0     0.0     0.0     7.0     7.0     0.0     0.0\n",
       "3        4.0      1.0      0.0    1.0    1.0    1.0    2.0    2.0  ...     0.0     0.0     0.0     0.0     0.0     0.0     0.0     0.0\n",
       "4        8.0      1.0     -2.0    1.0    1.0    1.0    2.0    2.0  ...     0.0     0.0     0.0     0.0     0.0     0.0     0.0     0.0\n",
       "...      ...      ...      ...    ...    ...    ...    ...    ...  ...     ...     ...     ...     ...     ...     ...     ...     ...\n",
       "2087  3546.0      1.0      2.0    1.0    1.0    1.0    2.0    2.0  ...     0.0     0.0     0.0     0.0     0.0     0.0     0.0     0.0\n",
       "2088  3547.0      1.0      3.0    1.0    1.0    2.0    2.0    2.0  ...     0.0     0.0     0.0     0.0     0.0     0.0     0.0     0.0\n",
       "2089  3548.0      1.0      1.0    1.0    1.0    2.0    2.0    2.0  ...     0.0     0.0     0.0     0.0     0.0     0.0     0.0     0.0\n",
       "2090  3552.0      1.0      2.0    1.0    1.0    1.0    2.0    2.0  ...     0.0     0.0     0.0     0.0     0.0     0.0     0.0     0.0\n",
       "2091  3553.0      1.0      3.0    1.0    1.0    1.0    2.0    2.0  ...     0.0     0.0     0.0     0.0     0.0     0.0     0.0     0.0\n",
       "\n",
       "[1814 rows x 476 columns]"
      ]
     },
     "execution_count": 442,
     "metadata": {},
     "output_type": "execute_result"
    }
   ],
   "source": [
    "school_df_reduced = school_df.iloc[y_regression_reduced.index, :]\n",
    "school_df_reduced"
   ]
  },
  {
   "cell_type": "markdown",
   "metadata": {},
   "source": [
    "At a first glance, I noticed that there are a lot of columns in this dataset. To address this issue, I manually went through the column description list (**column_descriptions.docx** in this repository) and saved information for each column in **column_filter.csv**. Each row contains the following info:\n",
    "1. **Variable**: Coded representation of the survey question\n",
    "2. **Label**: Description of the survey question\n",
    "3. **Format**: Whether the answer is numerical or not\n",
    "4. **Target**: A value of 1 means the survey question is a target variable for predictions (these will not be used as features for any analysis)\n",
    "5. **Drop**: A value of 1 means that the variable is not useful in this project and will be dropped (I have chose to drop any qualitative (opinion-based) questions or irrelevant questions)\n",
    "6. **Binary**: A value of 1 means that the variable takes on Y/N values\n",
    "7. **Dummy**: A value of 1 means that the variable is categorical but not in Y/N format (these will need to be expanded into dummy representations)\n",
    "\n",
    "Below, I selected relevant feature columns for my analysis"
   ]
  },
  {
   "cell_type": "code",
   "execution_count": 443,
   "metadata": {
    "scrolled": true
   },
   "outputs": [
    {
     "data": {
      "text/html": [
       "<div>\n",
       "<style scoped>\n",
       "    .dataframe tbody tr th:only-of-type {\n",
       "        vertical-align: middle;\n",
       "    }\n",
       "\n",
       "    .dataframe tbody tr th {\n",
       "        vertical-align: top;\n",
       "    }\n",
       "\n",
       "    .dataframe thead th {\n",
       "        text-align: right;\n",
       "    }\n",
       "</style>\n",
       "<table border=\"1\" class=\"dataframe\">\n",
       "  <thead>\n",
       "    <tr style=\"text-align: right;\">\n",
       "      <th></th>\n",
       "      <th>Variable</th>\n",
       "      <th>Label</th>\n",
       "      <th>Format</th>\n",
       "      <th>Target</th>\n",
       "      <th>Drop</th>\n",
       "      <th>Binary</th>\n",
       "      <th>Dummy</th>\n",
       "      <th>Dummy_Dic</th>\n",
       "    </tr>\n",
       "  </thead>\n",
       "  <tbody>\n",
       "    <tr>\n",
       "      <th>0</th>\n",
       "      <td>SCHID</td>\n",
       "      <td>Unique school identifier</td>\n",
       "      <td>Num</td>\n",
       "      <td>NaN</td>\n",
       "      <td>1.0</td>\n",
       "      <td>NaN</td>\n",
       "      <td>NaN</td>\n",
       "      <td>NaN</td>\n",
       "    </tr>\n",
       "    <tr>\n",
       "      <th>1</th>\n",
       "      <td>C0014_R</td>\n",
       "      <td>Title/position of respondent (recoded)</td>\n",
       "      <td>Num</td>\n",
       "      <td>NaN</td>\n",
       "      <td>1.0</td>\n",
       "      <td>NaN</td>\n",
       "      <td>NaN</td>\n",
       "      <td>NaN</td>\n",
       "    </tr>\n",
       "    <tr>\n",
       "      <th>2</th>\n",
       "      <td>C0016_R</td>\n",
       "      <td># of years respondent at the school (topcoded)</td>\n",
       "      <td>Num</td>\n",
       "      <td>NaN</td>\n",
       "      <td>1.0</td>\n",
       "      <td>NaN</td>\n",
       "      <td>NaN</td>\n",
       "      <td>NaN</td>\n",
       "    </tr>\n",
       "    <tr>\n",
       "      <th>3</th>\n",
       "      <td>C0110</td>\n",
       "      <td>School practice require visitor check in and b...</td>\n",
       "      <td>Num</td>\n",
       "      <td>NaN</td>\n",
       "      <td>NaN</td>\n",
       "      <td>1.0</td>\n",
       "      <td>NaN</td>\n",
       "      <td>NaN</td>\n",
       "    </tr>\n",
       "    <tr>\n",
       "      <th>4</th>\n",
       "      <td>C0112</td>\n",
       "      <td>Building access controlled locked/monitored doors</td>\n",
       "      <td>Num</td>\n",
       "      <td>NaN</td>\n",
       "      <td>NaN</td>\n",
       "      <td>1.0</td>\n",
       "      <td>NaN</td>\n",
       "      <td>NaN</td>\n",
       "    </tr>\n",
       "  </tbody>\n",
       "</table>\n",
       "</div>"
      ],
      "text/plain": [
       "  Variable                                              Label Format  Target  Drop  Binary  Dummy Dummy_Dic\n",
       "0    SCHID                           Unique school identifier    Num     NaN   1.0     NaN    NaN       NaN\n",
       "1  C0014_R             Title/position of respondent (recoded)    Num     NaN   1.0     NaN    NaN       NaN\n",
       "2  C0016_R     # of years respondent at the school (topcoded)    Num     NaN   1.0     NaN    NaN       NaN\n",
       "3    C0110  School practice require visitor check in and b...    Num     NaN   NaN     1.0    NaN       NaN\n",
       "4    C0112  Building access controlled locked/monitored doors    Num     NaN   NaN     1.0    NaN       NaN"
      ]
     },
     "execution_count": 443,
     "metadata": {},
     "output_type": "execute_result"
    }
   ],
   "source": [
    "cols_to_keep_df = pd.read_csv(\"column_filter.csv\")\n",
    "cols_to_keep_df.head()"
   ]
  },
  {
   "cell_type": "code",
   "execution_count": 446,
   "metadata": {
    "scrolled": true
   },
   "outputs": [
    {
     "data": {
      "text/html": [
       "<div>\n",
       "<style scoped>\n",
       "    .dataframe tbody tr th:only-of-type {\n",
       "        vertical-align: middle;\n",
       "    }\n",
       "\n",
       "    .dataframe tbody tr th {\n",
       "        vertical-align: top;\n",
       "    }\n",
       "\n",
       "    .dataframe thead th {\n",
       "        text-align: right;\n",
       "    }\n",
       "</style>\n",
       "<table border=\"1\" class=\"dataframe\">\n",
       "  <thead>\n",
       "    <tr style=\"text-align: right;\">\n",
       "      <th></th>\n",
       "      <th>C0110</th>\n",
       "      <th>C0112</th>\n",
       "      <th>C0114</th>\n",
       "      <th>C0116</th>\n",
       "      <th>C0120</th>\n",
       "      <th>C0121</th>\n",
       "      <th>C0122</th>\n",
       "      <th>C0124</th>\n",
       "      <th>...</th>\n",
       "      <th>C0538</th>\n",
       "      <th>C0568</th>\n",
       "      <th>SEC_FT16</th>\n",
       "      <th>SEC_PT16</th>\n",
       "      <th>FR_URBAN</th>\n",
       "      <th>FR_LVEL</th>\n",
       "      <th>FR_SIZE</th>\n",
       "      <th>PERCWHT</th>\n",
       "    </tr>\n",
       "  </thead>\n",
       "  <tbody>\n",
       "    <tr>\n",
       "      <th>0</th>\n",
       "      <td>1.0</td>\n",
       "      <td>1.0</td>\n",
       "      <td>1.0</td>\n",
       "      <td>2.0</td>\n",
       "      <td>2.0</td>\n",
       "      <td>2.0</td>\n",
       "      <td>2.0</td>\n",
       "      <td>2.0</td>\n",
       "      <td>...</td>\n",
       "      <td>6.0</td>\n",
       "      <td>94.0</td>\n",
       "      <td>0.0</td>\n",
       "      <td>0.0</td>\n",
       "      <td>4.0</td>\n",
       "      <td>1</td>\n",
       "      <td>2.0</td>\n",
       "      <td>2</td>\n",
       "    </tr>\n",
       "    <tr>\n",
       "      <th>1</th>\n",
       "      <td>2.0</td>\n",
       "      <td>1.0</td>\n",
       "      <td>1.0</td>\n",
       "      <td>2.0</td>\n",
       "      <td>2.0</td>\n",
       "      <td>1.0</td>\n",
       "      <td>1.0</td>\n",
       "      <td>2.0</td>\n",
       "      <td>...</td>\n",
       "      <td>6.0</td>\n",
       "      <td>95.0</td>\n",
       "      <td>0.0</td>\n",
       "      <td>0.0</td>\n",
       "      <td>4.0</td>\n",
       "      <td>1</td>\n",
       "      <td>2.0</td>\n",
       "      <td>4</td>\n",
       "    </tr>\n",
       "    <tr>\n",
       "      <th>2</th>\n",
       "      <td>1.0</td>\n",
       "      <td>1.0</td>\n",
       "      <td>1.0</td>\n",
       "      <td>2.0</td>\n",
       "      <td>2.0</td>\n",
       "      <td>1.0</td>\n",
       "      <td>1.0</td>\n",
       "      <td>2.0</td>\n",
       "      <td>...</td>\n",
       "      <td>6.0</td>\n",
       "      <td>95.0</td>\n",
       "      <td>0.0</td>\n",
       "      <td>1.0</td>\n",
       "      <td>4.0</td>\n",
       "      <td>1</td>\n",
       "      <td>2.0</td>\n",
       "      <td>3</td>\n",
       "    </tr>\n",
       "    <tr>\n",
       "      <th>3</th>\n",
       "      <td>1.0</td>\n",
       "      <td>1.0</td>\n",
       "      <td>1.0</td>\n",
       "      <td>2.0</td>\n",
       "      <td>2.0</td>\n",
       "      <td>2.0</td>\n",
       "      <td>1.0</td>\n",
       "      <td>2.0</td>\n",
       "      <td>...</td>\n",
       "      <td>2.0</td>\n",
       "      <td>96.0</td>\n",
       "      <td>0.0</td>\n",
       "      <td>0.0</td>\n",
       "      <td>4.0</td>\n",
       "      <td>1</td>\n",
       "      <td>2.0</td>\n",
       "      <td>4</td>\n",
       "    </tr>\n",
       "    <tr>\n",
       "      <th>4</th>\n",
       "      <td>1.0</td>\n",
       "      <td>1.0</td>\n",
       "      <td>1.0</td>\n",
       "      <td>2.0</td>\n",
       "      <td>2.0</td>\n",
       "      <td>1.0</td>\n",
       "      <td>1.0</td>\n",
       "      <td>2.0</td>\n",
       "      <td>...</td>\n",
       "      <td>5.0</td>\n",
       "      <td>85.0</td>\n",
       "      <td>1.0</td>\n",
       "      <td>0.0</td>\n",
       "      <td>4.0</td>\n",
       "      <td>1</td>\n",
       "      <td>2.0</td>\n",
       "      <td>4</td>\n",
       "    </tr>\n",
       "  </tbody>\n",
       "</table>\n",
       "<p>5 rows × 146 columns</p>\n",
       "</div>"
      ],
      "text/plain": [
       "   C0110  C0112  C0114  C0116  C0120  C0121  C0122  C0124  ...  C0538  C0568  SEC_FT16  SEC_PT16  FR_URBAN  FR_LVEL  FR_SIZE  PERCWHT\n",
       "0    1.0    1.0    1.0    2.0    2.0    2.0    2.0    2.0  ...    6.0   94.0       0.0       0.0       4.0        1      2.0        2\n",
       "1    2.0    1.0    1.0    2.0    2.0    1.0    1.0    2.0  ...    6.0   95.0       0.0       0.0       4.0        1      2.0        4\n",
       "2    1.0    1.0    1.0    2.0    2.0    1.0    1.0    2.0  ...    6.0   95.0       0.0       1.0       4.0        1      2.0        3\n",
       "3    1.0    1.0    1.0    2.0    2.0    2.0    1.0    2.0  ...    2.0   96.0       0.0       0.0       4.0        1      2.0        4\n",
       "4    1.0    1.0    1.0    2.0    2.0    1.0    1.0    2.0  ...    5.0   85.0       1.0       0.0       4.0        1      2.0        4\n",
       "\n",
       "[5 rows x 146 columns]"
      ]
     },
     "execution_count": 446,
     "metadata": {},
     "output_type": "execute_result"
    }
   ],
   "source": [
    "#Remove any qualitative (opinion-based) questions, irrelevant questions or target variables\n",
    "cols_to_keep_df = cols_to_keep_df[(cols_to_keep_df[\"Drop\"] != 1) & (cols_to_keep_df[\"Target\"] != 1)]\n",
    "\n",
    "#Use the above df to filter the full school_df\n",
    "feature_df = school_df_reduced[cols_to_keep_df[\"Variable\"]]\n",
    "feature_df.head()"
   ]
  },
  {
   "cell_type": "markdown",
   "metadata": {},
   "source": [
    "Next, I created a function to map the full survey question to the coded representation. This will prove handy later on when analyzing model results."
   ]
  },
  {
   "cell_type": "code",
   "execution_count": 447,
   "metadata": {},
   "outputs": [],
   "source": [
    "def col_description_lookup(col_list):\n",
    "    result = pd.DataFrame({\"Variable\" : col_list})\n",
    "    result = result.merge(cols_to_keep_df[[\"Variable\", \"Label\"]], how=\"left\", on=\"Variable\")\n",
    "    return result"
   ]
  },
  {
   "cell_type": "markdown",
   "metadata": {},
   "source": [
    "Next, I cleaned the remaining feature columns."
   ]
  },
  {
   "cell_type": "code",
   "execution_count": 448,
   "metadata": {
    "scrolled": false
   },
   "outputs": [
    {
     "name": "stderr",
     "output_type": "stream",
     "text": [
      "C:\\Users\\Sahil\\anaconda3\\lib\\site-packages\\ipykernel_launcher.py:2: SettingWithCopyWarning: \n",
      "A value is trying to be set on a copy of a slice from a DataFrame.\n",
      "Try using .loc[row_indexer,col_indexer] = value instead\n",
      "\n",
      "See the caveats in the documentation: https://pandas.pydata.org/pandas-docs/stable/user_guide/indexing.html#returning-a-view-versus-a-copy\n",
      "  \n",
      "C:\\Users\\Sahil\\anaconda3\\lib\\site-packages\\pandas\\core\\frame.py:3089: SettingWithCopyWarning: \n",
      "A value is trying to be set on a copy of a slice from a DataFrame\n",
      "\n",
      "See the caveats in the documentation: https://pandas.pydata.org/pandas-docs/stable/user_guide/indexing.html#returning-a-view-versus-a-copy\n",
      "  self._where(-key, value, inplace=True)\n"
     ]
    },
    {
     "data": {
      "text/plain": [
       "<matplotlib.axes._subplots.AxesSubplot at 0x1d3c5362b88>"
      ]
     },
     "execution_count": 448,
     "metadata": {},
     "output_type": "execute_result"
    },
    {
     "data": {
      "image/png": "[encoded data removed]",
      "text/plain": [
       "<Figure size 1440x720 with 1 Axes>"
      ]
     },
     "metadata": {
      "needs_background": "light"
     },
     "output_type": "display_data"
    }
   ],
   "source": [
    "#A value of -1 represents a missing value. Convert -1 to np.nan\n",
    "feature_df[feature_df == -1] = np.nan\n",
    "\n",
    "#Create a heatmap to visualize missing values\n",
    "fig, ax = plt.subplots(figsize=(20,10))  \n",
    "sns.heatmap(feature_df.isnull(), cbar=False, ax=ax)"
   ]
  },
  {
   "cell_type": "markdown",
   "metadata": {},
   "source": [
    "In the above heatmap, white cells represent missing values. I noticed that the majority of columns have no missing values. Those that do have missing values tend to have a lot. Given that I had an abundance of feature columns, I wanted to check if it would be safe to just drop these missing value columns rather than come up with a messy imputation."
   ]
  },
  {
   "cell_type": "code",
   "execution_count": 451,
   "metadata": {
    "scrolled": false
   },
   "outputs": [
    {
     "data": {
      "text/html": [
       "<div>\n",
       "<style scoped>\n",
       "    .dataframe tbody tr th:only-of-type {\n",
       "        vertical-align: middle;\n",
       "    }\n",
       "\n",
       "    .dataframe tbody tr th {\n",
       "        vertical-align: top;\n",
       "    }\n",
       "\n",
       "    .dataframe thead th {\n",
       "        text-align: right;\n",
       "    }\n",
       "</style>\n",
       "<table border=\"1\" class=\"dataframe\">\n",
       "  <thead>\n",
       "    <tr style=\"text-align: right;\">\n",
       "      <th></th>\n",
       "      <th>Variable</th>\n",
       "      <th>Label</th>\n",
       "    </tr>\n",
       "  </thead>\n",
       "  <tbody>\n",
       "    <tr>\n",
       "      <th>0</th>\n",
       "      <td>C0612</td>\n",
       "      <td>Sworn law enforcement officers present during school</td>\n",
       "    </tr>\n",
       "    <tr>\n",
       "      <th>1</th>\n",
       "      <td>C0614</td>\n",
       "      <td>Sworn law enforcement officers while students arriving or leaving</td>\n",
       "    </tr>\n",
       "    <tr>\n",
       "      <th>2</th>\n",
       "      <td>C0616</td>\n",
       "      <td>Sworn law enforcement officers present at school activities</td>\n",
       "    </tr>\n",
       "    <tr>\n",
       "      <th>3</th>\n",
       "      <td>C0618</td>\n",
       "      <td>Sworn law enforcement officers present at other times</td>\n",
       "    </tr>\n",
       "    <tr>\n",
       "      <th>4</th>\n",
       "      <td>C0620</td>\n",
       "      <td>Sworn law enforcement officers with stun gun</td>\n",
       "    </tr>\n",
       "    <tr>\n",
       "      <th>...</th>\n",
       "      <td>...</td>\n",
       "      <td>...</td>\n",
       "    </tr>\n",
       "    <tr>\n",
       "      <th>32</th>\n",
       "      <td>C0440</td>\n",
       "      <td>Corporal punishment available - action used</td>\n",
       "    </tr>\n",
       "    <tr>\n",
       "      <th>33</th>\n",
       "      <td>C0444</td>\n",
       "      <td>School probation available - action used</td>\n",
       "    </tr>\n",
       "    <tr>\n",
       "      <th>34</th>\n",
       "      <td>C0448</td>\n",
       "      <td>Detention/Saturday school available - action used</td>\n",
       "    </tr>\n",
       "    <tr>\n",
       "      <th>35</th>\n",
       "      <td>C0452</td>\n",
       "      <td>Loss of student privileges available - action used</td>\n",
       "    </tr>\n",
       "    <tr>\n",
       "      <th>36</th>\n",
       "      <td>C0456</td>\n",
       "      <td>Require community service available - action used</td>\n",
       "    </tr>\n",
       "  </tbody>\n",
       "</table>\n",
       "<p>37 rows × 2 columns</p>\n",
       "</div>"
      ],
      "text/plain": [
       "   Variable                                                              Label\n",
       "0     C0612               Sworn law enforcement officers present during school\n",
       "1     C0614  Sworn law enforcement officers while students arriving or leaving\n",
       "2     C0616        Sworn law enforcement officers present at school activities\n",
       "3     C0618              Sworn law enforcement officers present at other times\n",
       "4     C0620                       Sworn law enforcement officers with stun gun\n",
       "..      ...                                                                ...\n",
       "32    C0440                        Corporal punishment available - action used\n",
       "33    C0444                           School probation available - action used\n",
       "34    C0448                  Detention/Saturday school available - action used\n",
       "35    C0452                 Loss of student privileges available - action used\n",
       "36    C0456                  Require community service available - action used\n",
       "\n",
       "[37 rows x 2 columns]"
      ]
     },
     "metadata": {},
     "output_type": "display_data"
    }
   ],
   "source": [
    "#Create a list of missing value columns\n",
    "nan_cols = [col for col in feature_df.columns if feature_df[col].isnull().any()]\n",
    "\n",
    "#Create a dataframe to see the corresponding questions\n",
    "with pd.option_context('display.max_colwidth', 150, 'display.max_rows', 10):\n",
    "    display(col_description_lookup(nan_cols))"
   ]
  },
  {
   "cell_type": "markdown",
   "metadata": {},
   "source": [
    "After some thought, I decided it would be best to just drop the above columns given that I had to reduce the dimensionality of my data and other questions are quite correlated with the above."
   ]
  },
  {
   "cell_type": "code",
   "execution_count": 452,
   "metadata": {},
   "outputs": [],
   "source": [
    "#Drop any columns with missing values\n",
    "feature_df = feature_df.dropna(axis = 1)"
   ]
  },
  {
   "cell_type": "markdown",
   "metadata": {},
   "source": [
    "I noticed that Y/N answers were encoded as Y=1 and N=2. I chose to reencode them as Y=1 and N=0. For categorical variables with more than 2 answer choices, I created mapping to custom values, as explained below. I chose to map most of these variables into binary buckets to keep data dimensionality in check. The one exception is the **PERCWHT** column which I split into 4 numerical values based on the middle value of the answer bucket (see survey PDF for more details)."
   ]
  },
  {
   "cell_type": "code",
   "execution_count": 453,
   "metadata": {},
   "outputs": [],
   "source": [
    "#Select binary columns\n",
    "binary_cols = [col for col in feature_df.columns if feature_df[col].isin([1,2]).all()]\n",
    "\n",
    "#Select non-binary columns\n",
    "non_binary_cols = [col for col in feature_df.columns if not feature_df[col].isin([1,2]).all()]"
   ]
  },
  {
   "cell_type": "code",
   "execution_count": 454,
   "metadata": {},
   "outputs": [],
   "source": [
    "#Convert non-binary categorical columns to custom values\n",
    "\n",
    "#1 if city else 0\n",
    "feature_df[\"FR_URBAN\"] = feature_df[\"FR_URBAN\"].apply(lambda x: 1 if x==1 else 0)\n",
    "#1 if high school else 0\n",
    "feature_df[\"FR_LVEL\"] = feature_df[\"FR_LVEL\"].apply(lambda x: 1 if x==3 else 0)\n",
    "#1 if >=500 students else 0\n",
    "feature_df[\"FR_SIZE\"] = feature_df[\"FR_SIZE\"].apply(lambda x: 1 if x in [3,4] else 0)\n",
    "#Convert categorical to numerical based on middle of answer bucket\n",
    "feature_df[\"PERCWHT\"] = feature_df[\"PERCWHT\"].map({\"1\":97.5, \"2\":87.5, \"3\":65, \"4\":25})"
   ]
  },
  {
   "cell_type": "code",
   "execution_count": 455,
   "metadata": {},
   "outputs": [],
   "source": [
    "#Convert Y/N columns to 0 or 1\n",
    "feature_df[binary_cols] = feature_df[binary_cols].applymap(lambda x: 1 if x==1 else 0)"
   ]
  },
  {
   "cell_type": "code",
   "execution_count": 456,
   "metadata": {},
   "outputs": [],
   "source": [
    "#Recalculate binary vs non-binary columns\n",
    "binary_cols = [col for col in feature_df.columns if feature_df[col].isin([0,1]).all()]\n",
    "non_binary_cols = [col for col in feature_df.columns if not feature_df[col].isin([0,1]).all()]"
   ]
  },
  {
   "cell_type": "markdown",
   "metadata": {},
   "source": [
    "After this data cleaning, I was still left with 109 features. Also, many of these features seemed to be redundant/correlated. Multicollinearity would make interpretation of regression models difficult so I utilized the variance inflation factor (VIF) calculation to remove highly correlated variables. I recursively eliminated the variable with the highest VIF until all remaining variables had a VIF below 5, which is the threshold commonly used in statistical literature. Given the large amount of starting columns, the below code took a while to run."
   ]
  },
  {
   "cell_type": "code",
   "execution_count": 373,
   "metadata": {},
   "outputs": [],
   "source": [
    "from statsmodels.stats.outliers_influence import variance_inflation_factor\n",
    "\n",
    "def VIF_reduce(df, threshold = 5):\n",
    "    cols_to_keep = list(df.columns)\n",
    "    reduced_df = df[cols_to_keep]\n",
    "    \n",
    "    vif = [variance_inflation_factor(reduced_df.values, i) for i in range(reduced_df.shape[1])]\n",
    "    \n",
    "    while max(vif) >= threshold:\n",
    "        col_to_remove = vif.index(max(vif))\n",
    "        \n",
    "        print(cols_to_keep.pop(col_to_remove) + \" has been removed: VIF = \" +str(max(vif)))\n",
    "        \n",
    "        reduced_df = df[cols_to_keep]\n",
    "        \n",
    "        vif = [variance_inflation_factor(reduced_df.values, i) for i in range(reduced_df.shape[1])]\n",
    "        \n",
    "    return df[cols_to_keep]"
   ]
  },
  {
   "cell_type": "code",
   "execution_count": 374,
   "metadata": {
    "scrolled": true
   },
   "outputs": [
    {
     "name": "stderr",
     "output_type": "stream",
     "text": [
      "C:\\Users\\Sahil\\anaconda3\\lib\\site-packages\\statsmodels\\regression\\linear_model.py:1687: RuntimeWarning: invalid value encountered in double_scalars\n",
      "  return 1 - self.ssr/self.uncentered_tss\n"
     ]
    },
    {
     "name": "stdout",
     "output_type": "stream",
     "text": [
      "C0568 has been removed: VIF = 88.9481242421213\n",
      "C0166 has been removed: VIF = 32.22691216002344\n",
      "C0536 has been removed: VIF = 26.061813584493297\n",
      "C0422 has been removed: VIF = 24.584240321765776\n",
      "C0165 has been removed: VIF = 23.891070796283433\n",
      "C0110 has been removed: VIF = 23.08214771193544\n",
      "C0178 has been removed: VIF = 22.657129716558288\n",
      "C0450 has been removed: VIF = 21.448341547201\n",
      "C0270 has been removed: VIF = 21.261035333947035\n",
      "C0155 has been removed: VIF = 19.66587603327097\n",
      "C0181 has been removed: VIF = 16.39117346128267\n",
      "C0176 has been removed: VIF = 16.10975461100661\n",
      "C0112 has been removed: VIF = 14.389599854850395\n",
      "C0163 has been removed: VIF = 12.90990126925419\n",
      "C0174 has been removed: VIF = 12.10344649790163\n",
      "C0267 has been removed: VIF = 11.898402641419715\n",
      "C0534 has been removed: VIF = 10.51074290671067\n",
      "C0169 has been removed: VIF = 10.382580398174706\n",
      "C0182 has been removed: VIF = 10.242257784182929\n",
      "C0538 has been removed: VIF = 9.881638419897971\n",
      "PERCWHT has been removed: VIF = 9.205268443232612\n",
      "C0151 has been removed: VIF = 8.871507922870759\n",
      "C0146 has been removed: VIF = 8.206059665247563\n",
      "C0266 has been removed: VIF = 8.093832823701337\n",
      "C0157 has been removed: VIF = 8.04277576230345\n",
      "C0434 has been removed: VIF = 7.613152264326595\n",
      "C0666 has been removed: VIF = 6.850958236519057\n",
      "C0276 has been removed: VIF = 6.353739203252675\n",
      "C0210 has been removed: VIF = 6.344023101814877\n",
      "C0273 has been removed: VIF = 6.266561212013833\n",
      "C0410 has been removed: VIF = 6.228291957717761\n",
      "C0186 has been removed: VIF = 6.076184116422001\n",
      "C0148 has been removed: VIF = 5.6348254715538095\n",
      "C0446 has been removed: VIF = 5.504187857157163\n",
      "C0418 has been removed: VIF = 5.407840487404265\n"
     ]
    }
   ],
   "source": [
    "feature_df = VIF_reduce(feature_df, threshold = 5)"
   ]
  },
  {
   "cell_type": "code",
   "execution_count": 459,
   "metadata": {},
   "outputs": [
    {
     "data": {
      "text/html": [
       "<div>\n",
       "<style scoped>\n",
       "    .dataframe tbody tr th:only-of-type {\n",
       "        vertical-align: middle;\n",
       "    }\n",
       "\n",
       "    .dataframe tbody tr th {\n",
       "        vertical-align: top;\n",
       "    }\n",
       "\n",
       "    .dataframe thead th {\n",
       "        text-align: right;\n",
       "    }\n",
       "</style>\n",
       "<table border=\"1\" class=\"dataframe\">\n",
       "  <thead>\n",
       "    <tr style=\"text-align: right;\">\n",
       "      <th></th>\n",
       "      <th>C0114</th>\n",
       "      <th>C0116</th>\n",
       "      <th>C0120</th>\n",
       "      <th>C0121</th>\n",
       "      <th>C0122</th>\n",
       "      <th>C0124</th>\n",
       "      <th>C0126</th>\n",
       "      <th>C0128</th>\n",
       "      <th>...</th>\n",
       "      <th>C0526</th>\n",
       "      <th>C0528</th>\n",
       "      <th>C0532</th>\n",
       "      <th>SEC_FT16</th>\n",
       "      <th>SEC_PT16</th>\n",
       "      <th>FR_URBAN</th>\n",
       "      <th>FR_LVEL</th>\n",
       "      <th>FR_SIZE</th>\n",
       "    </tr>\n",
       "  </thead>\n",
       "  <tbody>\n",
       "    <tr>\n",
       "      <th>0</th>\n",
       "      <td>1</td>\n",
       "      <td>0</td>\n",
       "      <td>0</td>\n",
       "      <td>0</td>\n",
       "      <td>0</td>\n",
       "      <td>0</td>\n",
       "      <td>0</td>\n",
       "      <td>0</td>\n",
       "      <td>...</td>\n",
       "      <td>2.0</td>\n",
       "      <td>17.0</td>\n",
       "      <td>30.0</td>\n",
       "      <td>0.0</td>\n",
       "      <td>0.0</td>\n",
       "      <td>0</td>\n",
       "      <td>0</td>\n",
       "      <td>0</td>\n",
       "    </tr>\n",
       "    <tr>\n",
       "      <th>1</th>\n",
       "      <td>1</td>\n",
       "      <td>0</td>\n",
       "      <td>0</td>\n",
       "      <td>1</td>\n",
       "      <td>1</td>\n",
       "      <td>0</td>\n",
       "      <td>0</td>\n",
       "      <td>0</td>\n",
       "      <td>...</td>\n",
       "      <td>25.0</td>\n",
       "      <td>2.0</td>\n",
       "      <td>0.0</td>\n",
       "      <td>0.0</td>\n",
       "      <td>0.0</td>\n",
       "      <td>0</td>\n",
       "      <td>0</td>\n",
       "      <td>0</td>\n",
       "    </tr>\n",
       "    <tr>\n",
       "      <th>2</th>\n",
       "      <td>1</td>\n",
       "      <td>0</td>\n",
       "      <td>0</td>\n",
       "      <td>1</td>\n",
       "      <td>1</td>\n",
       "      <td>0</td>\n",
       "      <td>0</td>\n",
       "      <td>0</td>\n",
       "      <td>...</td>\n",
       "      <td>5.0</td>\n",
       "      <td>9.0</td>\n",
       "      <td>18.0</td>\n",
       "      <td>0.0</td>\n",
       "      <td>1.0</td>\n",
       "      <td>0</td>\n",
       "      <td>0</td>\n",
       "      <td>0</td>\n",
       "    </tr>\n",
       "    <tr>\n",
       "      <th>3</th>\n",
       "      <td>1</td>\n",
       "      <td>0</td>\n",
       "      <td>0</td>\n",
       "      <td>0</td>\n",
       "      <td>1</td>\n",
       "      <td>0</td>\n",
       "      <td>0</td>\n",
       "      <td>0</td>\n",
       "      <td>...</td>\n",
       "      <td>61.0</td>\n",
       "      <td>9.0</td>\n",
       "      <td>15.0</td>\n",
       "      <td>0.0</td>\n",
       "      <td>0.0</td>\n",
       "      <td>0</td>\n",
       "      <td>0</td>\n",
       "      <td>0</td>\n",
       "    </tr>\n",
       "    <tr>\n",
       "      <th>4</th>\n",
       "      <td>1</td>\n",
       "      <td>0</td>\n",
       "      <td>0</td>\n",
       "      <td>1</td>\n",
       "      <td>1</td>\n",
       "      <td>0</td>\n",
       "      <td>0</td>\n",
       "      <td>0</td>\n",
       "      <td>...</td>\n",
       "      <td>35.0</td>\n",
       "      <td>8.0</td>\n",
       "      <td>40.0</td>\n",
       "      <td>1.0</td>\n",
       "      <td>0.0</td>\n",
       "      <td>0</td>\n",
       "      <td>0</td>\n",
       "      <td>0</td>\n",
       "    </tr>\n",
       "  </tbody>\n",
       "</table>\n",
       "<p>5 rows × 74 columns</p>\n",
       "</div>"
      ],
      "text/plain": [
       "   C0114  C0116  C0120  C0121  C0122  C0124  C0126  C0128  ...  C0526  C0528  C0532  SEC_FT16  SEC_PT16  FR_URBAN  FR_LVEL  FR_SIZE\n",
       "0      1      0      0      0      0      0      0      0  ...    2.0   17.0   30.0       0.0       0.0         0        0        0\n",
       "1      1      0      0      1      1      0      0      0  ...   25.0    2.0    0.0       0.0       0.0         0        0        0\n",
       "2      1      0      0      1      1      0      0      0  ...    5.0    9.0   18.0       0.0       1.0         0        0        0\n",
       "3      1      0      0      0      1      0      0      0  ...   61.0    9.0   15.0       0.0       0.0         0        0        0\n",
       "4      1      0      0      1      1      0      0      0  ...   35.0    8.0   40.0       1.0       0.0         0        0        0\n",
       "\n",
       "[5 rows x 74 columns]"
      ]
     },
     "execution_count": 459,
     "metadata": {},
     "output_type": "execute_result"
    }
   ],
   "source": [
    "#I exported the final feature dataframe to a CSV file for easy access. File available in this repository.\n",
    "feature_df = pd.read_csv(\"feature_df_regression.csv\",index_col=0)\n",
    "feature_df.head()"
   ]
  },
  {
   "cell_type": "code",
   "execution_count": 460,
   "metadata": {},
   "outputs": [],
   "source": [
    "#Recalculate binary and non-binary columns based on the VIF reduced feature df\n",
    "binary_cols = [col for col in feature_df.columns if feature_df[col].isin([0,1]).all()]\n",
    "non_binary_cols = [col for col in feature_df.columns if not feature_df[col].isin([0,1]).all()]"
   ]
  },
  {
   "cell_type": "markdown",
   "metadata": {},
   "source": [
    "After the VIF reduction, I was left with 74 feature variables. While still higher than I would have ideally liked, I chose to continue with the analysis and address feature selection as necessary in the following models."
   ]
  },
  {
   "cell_type": "markdown",
   "metadata": {},
   "source": [
    "## 3. Predictive Modeling\n",
    "In this section, I trained several different machine learning models to see if the features from section 2 above could be used to make predictions about how many incidents of violence would occur at a US public school. I chose root mean square error (RMSE) as my primary metric for evaluating model performance, although R-squared will also be calculated for linear regression models.\n",
    "### 3.1. Data Split and Scaling\n",
    "I began by splitting my data into a train and test set, setting 20% of the entries aside as test data. In order to ensure I was able to make maximal use of my available data, I incorporated k-fold cross validation with 5 folds rather than setting aside another 20% of entries for a separate cross validation set."
   ]
  },
  {
   "cell_type": "code",
   "execution_count": 461,
   "metadata": {},
   "outputs": [],
   "source": [
    "from sklearn.model_selection import train_test_split\n",
    "X_train, X_test, y_train, y_test = train_test_split(feature_df, y_regression_reduced, test_size=0.2, random_state=1)\n",
    "\n",
    "from sklearn.model_selection import KFold\n",
    "kf = KFold(n_splits=5, shuffle=True, random_state=1)"
   ]
  },
  {
   "cell_type": "markdown",
   "metadata": {},
   "source": [
    "Next, I had to standardize non-binary columns in order to ensure models would converge quickly and that the K-Nearest Neighbors algorithm would not be influeced by variable scale."
   ]
  },
  {
   "cell_type": "code",
   "execution_count": 472,
   "metadata": {
    "scrolled": true
   },
   "outputs": [
    {
     "name": "stderr",
     "output_type": "stream",
     "text": [
      "C:\\Users\\Sahil\\anaconda3\\lib\\site-packages\\ipykernel_launcher.py:9: SettingWithCopyWarning: \n",
      "A value is trying to be set on a copy of a slice from a DataFrame.\n",
      "Try using .loc[row_indexer,col_indexer] = value instead\n",
      "\n",
      "See the caveats in the documentation: https://pandas.pydata.org/pandas-docs/stable/user_guide/indexing.html#returning-a-view-versus-a-copy\n",
      "  if __name__ == '__main__':\n",
      "C:\\Users\\Sahil\\anaconda3\\lib\\site-packages\\pandas\\core\\indexing.py:1736: SettingWithCopyWarning: \n",
      "A value is trying to be set on a copy of a slice from a DataFrame.\n",
      "Try using .loc[row_indexer,col_indexer] = value instead\n",
      "\n",
      "See the caveats in the documentation: https://pandas.pydata.org/pandas-docs/stable/user_guide/indexing.html#returning-a-view-versus-a-copy\n",
      "  isetter(loc, value[:, i].tolist())\n",
      "C:\\Users\\Sahil\\anaconda3\\lib\\site-packages\\pandas\\core\\frame.py:3065: SettingWithCopyWarning: \n",
      "A value is trying to be set on a copy of a slice from a DataFrame.\n",
      "Try using .loc[row_indexer,col_indexer] = value instead\n",
      "\n",
      "See the caveats in the documentation: https://pandas.pydata.org/pandas-docs/stable/user_guide/indexing.html#returning-a-view-versus-a-copy\n",
      "  self[k1] = value[k2]\n"
     ]
    }
   ],
   "source": [
    "from sklearn.preprocessing import StandardScaler\n",
    "\n",
    "#We will only scale non-binary columns\n",
    "scaler = StandardScaler()\n",
    "\n",
    "X_train_scaled = X_train\n",
    "X_test_scaled = X_test\n",
    "\n",
    "X_train_scaled[non_binary_cols] = scaler.fit_transform(X_train[non_binary_cols])\n",
    "col_mean = scaler.mean_\n",
    "col_std = (scaler.var_)**.5\n",
    "\n",
    "X_test_scaled[non_binary_cols] = (X_test[non_binary_cols]-col_mean)/col_std"
   ]
  },
  {
   "cell_type": "markdown",
   "metadata": {},
   "source": [
    "### 3.2. Linear Regression\n",
    "The following models incorporate variations of linear regression. First, I ran a standard OLS regression on the entire feature set. In order to address overfitting, I next constructed recursive feature elimination, ridge, and lasso regressions.\n",
    "#### 3.2.1. OLS"
   ]
  },
  {
   "cell_type": "code",
   "execution_count": 463,
   "metadata": {},
   "outputs": [
    {
     "data": {
      "text/plain": [
       "-7.270023321646184"
      ]
     },
     "execution_count": 463,
     "metadata": {},
     "output_type": "execute_result"
    }
   ],
   "source": [
    "from sklearn.linear_model import LinearRegression\n",
    "from sklearn.model_selection import cross_val_score\n",
    "from sklearn.metrics import r2_score\n",
    "\n",
    "lr = LinearRegression()\n",
    "cvs_lr = cross_val_score(lr, X_train_scaled, y_train, scoring=\"neg_root_mean_squared_error\", cv=kf)\n",
    "rmse_lr = np.mean(cvs_lr)\n",
    "rmse_lr"
   ]
  },
  {
   "cell_type": "code",
   "execution_count": 464,
   "metadata": {},
   "outputs": [
    {
     "data": {
      "text/html": [
       "<div>\n",
       "<style scoped>\n",
       "    .dataframe tbody tr th:only-of-type {\n",
       "        vertical-align: middle;\n",
       "    }\n",
       "\n",
       "    .dataframe tbody tr th {\n",
       "        vertical-align: top;\n",
       "    }\n",
       "\n",
       "    .dataframe thead th {\n",
       "        text-align: right;\n",
       "    }\n",
       "</style>\n",
       "<table border=\"1\" class=\"dataframe\">\n",
       "  <thead>\n",
       "    <tr style=\"text-align: right;\">\n",
       "      <th></th>\n",
       "      <th>Variable</th>\n",
       "      <th>Label</th>\n",
       "      <th>coef</th>\n",
       "    </tr>\n",
       "  </thead>\n",
       "  <tbody>\n",
       "    <tr>\n",
       "      <th>8</th>\n",
       "      <td>C0130</td>\n",
       "      <td>Require drug testing for students in extra-cur...</td>\n",
       "      <td>-1.429294</td>\n",
       "    </tr>\n",
       "    <tr>\n",
       "      <th>53</th>\n",
       "      <td>C0274</td>\n",
       "      <td>Teacher training - student alcohol/drug abuse</td>\n",
       "      <td>-1.384337</td>\n",
       "    </tr>\n",
       "    <tr>\n",
       "      <th>17</th>\n",
       "      <td>C0144</td>\n",
       "      <td>Require faculty/staff to wear badge or photo ID</td>\n",
       "      <td>-1.301939</td>\n",
       "    </tr>\n",
       "    <tr>\n",
       "      <th>40</th>\n",
       "      <td>C0216</td>\n",
       "      <td>Community involvement - business</td>\n",
       "      <td>-1.025913</td>\n",
       "    </tr>\n",
       "    <tr>\n",
       "      <th>35</th>\n",
       "      <td>C0204</td>\n",
       "      <td>Community involvement - parent groups</td>\n",
       "      <td>-0.959094</td>\n",
       "    </tr>\n",
       "    <tr>\n",
       "      <th>...</th>\n",
       "      <td>...</td>\n",
       "      <td>...</td>\n",
       "      <td>...</td>\n",
       "    </tr>\n",
       "    <tr>\n",
       "      <th>2</th>\n",
       "      <td>C0120</td>\n",
       "      <td>Have random metal detector checks on students</td>\n",
       "      <td>1.539744</td>\n",
       "    </tr>\n",
       "    <tr>\n",
       "      <th>74</th>\n",
       "      <td>INTERCEPT</td>\n",
       "      <td>INTERCEPT</td>\n",
       "      <td>1.650945</td>\n",
       "    </tr>\n",
       "    <tr>\n",
       "      <th>15</th>\n",
       "      <td>C0142</td>\n",
       "      <td>Require students to wear badge or photo ID</td>\n",
       "      <td>1.960726</td>\n",
       "    </tr>\n",
       "    <tr>\n",
       "      <th>1</th>\n",
       "      <td>C0116</td>\n",
       "      <td>Students pass through metal detectors</td>\n",
       "      <td>2.085991</td>\n",
       "    </tr>\n",
       "    <tr>\n",
       "      <th>73</th>\n",
       "      <td>FR_SIZE</td>\n",
       "      <td>Size of school</td>\n",
       "      <td>3.722424</td>\n",
       "    </tr>\n",
       "  </tbody>\n",
       "</table>\n",
       "<p>75 rows × 3 columns</p>\n",
       "</div>"
      ],
      "text/plain": [
       "     Variable                                              Label      coef\n",
       "8       C0130  Require drug testing for students in extra-cur... -1.429294\n",
       "53      C0274      Teacher training - student alcohol/drug abuse -1.384337\n",
       "17      C0144    Require faculty/staff to wear badge or photo ID -1.301939\n",
       "40      C0216                   Community involvement - business -1.025913\n",
       "35      C0204              Community involvement - parent groups -0.959094\n",
       "..        ...                                                ...       ...\n",
       "2       C0120      Have random metal detector checks on students  1.539744\n",
       "74  INTERCEPT                                          INTERCEPT  1.650945\n",
       "15      C0142         Require students to wear badge or photo ID  1.960726\n",
       "1       C0116              Students pass through metal detectors  2.085991\n",
       "73    FR_SIZE                                     Size of school  3.722424\n",
       "\n",
       "[75 rows x 3 columns]"
      ]
     },
     "execution_count": 464,
     "metadata": {},
     "output_type": "execute_result"
    }
   ],
   "source": [
    "lr.fit(X_train_scaled, y_train)\n",
    "lr_coef = col_description_lookup(list(X_train_scaled.columns))\n",
    "lr_coef[\"coef\"] = lr.coef_\n",
    "lr_coef = lr_coef.append({\"Variable\" : \"INTERCEPT\", \"Label\" : \"INTERCEPT\", \"coef\" : lr.intercept_}, ignore_index=True)\n",
    "lr_coef.sort_values(by=\"coef\")"
   ]
  },
  {
   "cell_type": "code",
   "execution_count": 465,
   "metadata": {},
   "outputs": [
    {
     "data": {
      "text/plain": [
       "0.24366361041859552"
      ]
     },
     "execution_count": 465,
     "metadata": {},
     "output_type": "execute_result"
    }
   ],
   "source": [
    "r2_lr = r2_score(y_train, lr.predict(X_train_scaled))\n",
    "r2_lr"
   ]
  },
  {
   "cell_type": "markdown",
   "metadata": {},
   "source": [
    "#### 3.2.2. Linear Regression - OLS with Recursive Feature Elimination"
   ]
  },
  {
   "cell_type": "code",
   "execution_count": 466,
   "metadata": {
    "scrolled": true
   },
   "outputs": [
    {
     "data": {
      "text/plain": [
       "RFECV(cv=KFold(n_splits=5, random_state=1, shuffle=True),\n",
       "      estimator=LinearRegression(), scoring='neg_root_mean_squared_error')"
      ]
     },
     "execution_count": 466,
     "metadata": {},
     "output_type": "execute_result"
    }
   ],
   "source": [
    "from sklearn.feature_selection import RFECV\n",
    "lr_rfe = LinearRegression()\n",
    "selector = RFECV(lr_rfe, cv=kf, scoring=\"neg_root_mean_squared_error\")\n",
    "selector.fit(X_train_scaled,y_train)"
   ]
  },
  {
   "cell_type": "code",
   "execution_count": 467,
   "metadata": {},
   "outputs": [
    {
     "data": {
      "text/plain": [
       "24"
      ]
     },
     "execution_count": 467,
     "metadata": {},
     "output_type": "execute_result"
    }
   ],
   "source": [
    "selector.n_features_"
   ]
  },
  {
   "cell_type": "code",
   "execution_count": 473,
   "metadata": {},
   "outputs": [],
   "source": [
    "X_train_subset_scaled = X_train_scaled.iloc[:, selector.support_]\n",
    "#The following calculation will prove helpful later\n",
    "X_test_subset_scaled = X_test_scaled.iloc[:, selector.support_]"
   ]
  },
  {
   "cell_type": "code",
   "execution_count": 469,
   "metadata": {},
   "outputs": [
    {
     "data": {
      "text/plain": [
       "-7.0246549032362395"
      ]
     },
     "execution_count": 469,
     "metadata": {},
     "output_type": "execute_result"
    }
   ],
   "source": [
    "cvs_lr_rfe = cross_val_score(lr_rfe, X_train_subset_scaled, y_train, scoring=\"neg_root_mean_squared_error\", cv=kf)\n",
    "rmse_lr_rfe = np.mean(cvs_lr_rfe)\n",
    "rmse_lr_rfe"
   ]
  },
  {
   "cell_type": "code",
   "execution_count": 470,
   "metadata": {},
   "outputs": [
    {
     "data": {
      "text/html": [
       "<div>\n",
       "<style scoped>\n",
       "    .dataframe tbody tr th:only-of-type {\n",
       "        vertical-align: middle;\n",
       "    }\n",
       "\n",
       "    .dataframe tbody tr th {\n",
       "        vertical-align: top;\n",
       "    }\n",
       "\n",
       "    .dataframe thead th {\n",
       "        text-align: right;\n",
       "    }\n",
       "</style>\n",
       "<table border=\"1\" class=\"dataframe\">\n",
       "  <thead>\n",
       "    <tr style=\"text-align: right;\">\n",
       "      <th></th>\n",
       "      <th>Variable</th>\n",
       "      <th>Label</th>\n",
       "      <th>coef</th>\n",
       "    </tr>\n",
       "  </thead>\n",
       "  <tbody>\n",
       "    <tr>\n",
       "      <th>4</th>\n",
       "      <td>C0130</td>\n",
       "      <td>Require drug testing for students in extra-cur...</td>\n",
       "      <td>-1.382996</td>\n",
       "    </tr>\n",
       "    <tr>\n",
       "      <th>8</th>\n",
       "      <td>C0144</td>\n",
       "      <td>Require faculty/staff to wear badge or photo ID</td>\n",
       "      <td>-1.356947</td>\n",
       "    </tr>\n",
       "    <tr>\n",
       "      <th>17</th>\n",
       "      <td>C0274</td>\n",
       "      <td>Teacher training - student alcohol/drug abuse</td>\n",
       "      <td>-1.353353</td>\n",
       "    </tr>\n",
       "    <tr>\n",
       "      <th>12</th>\n",
       "      <td>C0216</td>\n",
       "      <td>Community involvement - business</td>\n",
       "      <td>-1.005540</td>\n",
       "    </tr>\n",
       "    <tr>\n",
       "      <th>10</th>\n",
       "      <td>C0204</td>\n",
       "      <td>Community involvement - parent groups</td>\n",
       "      <td>-0.979556</td>\n",
       "    </tr>\n",
       "    <tr>\n",
       "      <th>16</th>\n",
       "      <td>C0272</td>\n",
       "      <td>Teacher training - early warning signs for vio...</td>\n",
       "      <td>0.662518</td>\n",
       "    </tr>\n",
       "    <tr>\n",
       "      <th>9</th>\n",
       "      <td>C0604</td>\n",
       "      <td>LGBTQ acceptance group</td>\n",
       "      <td>0.673752</td>\n",
       "    </tr>\n",
       "    <tr>\n",
       "      <th>22</th>\n",
       "      <td>FR_URBAN</td>\n",
       "      <td>Urbanicity - Based on Urban-centric location o...</td>\n",
       "      <td>0.713277</td>\n",
       "    </tr>\n",
       "    <tr>\n",
       "      <th>15</th>\n",
       "      <td>C0662</td>\n",
       "      <td>Diagnostic assessment at school by school-empl...</td>\n",
       "      <td>0.770919</td>\n",
       "    </tr>\n",
       "    <tr>\n",
       "      <th>21</th>\n",
       "      <td>SEC_FT16</td>\n",
       "      <td>Total # of full-time security guards, SROs, or...</td>\n",
       "      <td>0.777064</td>\n",
       "    </tr>\n",
       "    <tr>\n",
       "      <th>20</th>\n",
       "      <td>C0454</td>\n",
       "      <td>Require community service available</td>\n",
       "      <td>0.836374</td>\n",
       "    </tr>\n",
       "    <tr>\n",
       "      <th>3</th>\n",
       "      <td>C0128</td>\n",
       "      <td>Require drug testing for athletes</td>\n",
       "      <td>0.852492</td>\n",
       "    </tr>\n",
       "    <tr>\n",
       "      <th>19</th>\n",
       "      <td>C0406</td>\n",
       "      <td>Outside suspension/no services available</td>\n",
       "      <td>0.868088</td>\n",
       "    </tr>\n",
       "    <tr>\n",
       "      <th>2</th>\n",
       "      <td>C0124</td>\n",
       "      <td>Practice random dog sniffs for drugs</td>\n",
       "      <td>0.925890</td>\n",
       "    </tr>\n",
       "    <tr>\n",
       "      <th>18</th>\n",
       "      <td>C0398</td>\n",
       "      <td>Transfer to specialized school available</td>\n",
       "      <td>0.978196</td>\n",
       "    </tr>\n",
       "    <tr>\n",
       "      <th>5</th>\n",
       "      <td>C0138</td>\n",
       "      <td>Provide school lockers to students</td>\n",
       "      <td>1.102573</td>\n",
       "    </tr>\n",
       "    <tr>\n",
       "      <th>13</th>\n",
       "      <td>C0218</td>\n",
       "      <td>Community involvement - religious organizations</td>\n",
       "      <td>1.233478</td>\n",
       "    </tr>\n",
       "    <tr>\n",
       "      <th>11</th>\n",
       "      <td>C0208</td>\n",
       "      <td>Community involvement - juvenile justice</td>\n",
       "      <td>1.268887</td>\n",
       "    </tr>\n",
       "    <tr>\n",
       "      <th>14</th>\n",
       "      <td>C0610</td>\n",
       "      <td>Sworn law enforcement officers at school</td>\n",
       "      <td>1.289926</td>\n",
       "    </tr>\n",
       "    <tr>\n",
       "      <th>6</th>\n",
       "      <td>C0140</td>\n",
       "      <td>Require clear book bags or ban book bags</td>\n",
       "      <td>1.633705</td>\n",
       "    </tr>\n",
       "    <tr>\n",
       "      <th>24</th>\n",
       "      <td>INTERCEPT</td>\n",
       "      <td>INTERCEPT</td>\n",
       "      <td>1.921409</td>\n",
       "    </tr>\n",
       "    <tr>\n",
       "      <th>1</th>\n",
       "      <td>C0120</td>\n",
       "      <td>Have random metal detector checks on students</td>\n",
       "      <td>1.944766</td>\n",
       "    </tr>\n",
       "    <tr>\n",
       "      <th>7</th>\n",
       "      <td>C0142</td>\n",
       "      <td>Require students to wear badge or photo ID</td>\n",
       "      <td>2.095281</td>\n",
       "    </tr>\n",
       "    <tr>\n",
       "      <th>0</th>\n",
       "      <td>C0116</td>\n",
       "      <td>Students pass through metal detectors</td>\n",
       "      <td>2.448417</td>\n",
       "    </tr>\n",
       "    <tr>\n",
       "      <th>23</th>\n",
       "      <td>FR_SIZE</td>\n",
       "      <td>Size of school</td>\n",
       "      <td>3.818910</td>\n",
       "    </tr>\n",
       "  </tbody>\n",
       "</table>\n",
       "</div>"
      ],
      "text/plain": [
       "     Variable                                              Label      coef\n",
       "4       C0130  Require drug testing for students in extra-cur... -1.382996\n",
       "8       C0144    Require faculty/staff to wear badge or photo ID -1.356947\n",
       "17      C0274      Teacher training - student alcohol/drug abuse -1.353353\n",
       "12      C0216                   Community involvement - business -1.005540\n",
       "10      C0204              Community involvement - parent groups -0.979556\n",
       "16      C0272  Teacher training - early warning signs for vio...  0.662518\n",
       "9       C0604                             LGBTQ acceptance group  0.673752\n",
       "22   FR_URBAN  Urbanicity - Based on Urban-centric location o...  0.713277\n",
       "15      C0662  Diagnostic assessment at school by school-empl...  0.770919\n",
       "21   SEC_FT16  Total # of full-time security guards, SROs, or...  0.777064\n",
       "20      C0454                Require community service available  0.836374\n",
       "3       C0128                  Require drug testing for athletes  0.852492\n",
       "19      C0406           Outside suspension/no services available  0.868088\n",
       "2       C0124               Practice random dog sniffs for drugs  0.925890\n",
       "18      C0398           Transfer to specialized school available  0.978196\n",
       "5       C0138                 Provide school lockers to students  1.102573\n",
       "13      C0218    Community involvement - religious organizations  1.233478\n",
       "11      C0208           Community involvement - juvenile justice  1.268887\n",
       "14      C0610           Sworn law enforcement officers at school  1.289926\n",
       "6       C0140           Require clear book bags or ban book bags  1.633705\n",
       "24  INTERCEPT                                          INTERCEPT  1.921409\n",
       "1       C0120      Have random metal detector checks on students  1.944766\n",
       "7       C0142         Require students to wear badge or photo ID  2.095281\n",
       "0       C0116              Students pass through metal detectors  2.448417\n",
       "23    FR_SIZE                                     Size of school  3.818910"
      ]
     },
     "execution_count": 470,
     "metadata": {},
     "output_type": "execute_result"
    }
   ],
   "source": [
    "lr_rfe.fit(X_train_subset_scaled, y_train)\n",
    "lr_rfe_coef = col_description_lookup(list(X_train_subset_scaled.columns))\n",
    "lr_rfe_coef[\"coef\"] = lr_rfe.coef_\n",
    "lr_rfe_coef = lr_rfe_coef.append({\"Variable\" : \"INTERCEPT\", \"Label\" : \"INTERCEPT\", \"coef\" : lr_rfe.intercept_}, ignore_index=True)\n",
    "lr_rfe_coef.sort_values(by=\"coef\")"
   ]
  },
  {
   "cell_type": "code",
   "execution_count": 392,
   "metadata": {
    "scrolled": true
   },
   "outputs": [
    {
     "data": {
      "text/plain": [
       "0.22360083647781182"
      ]
     },
     "execution_count": 392,
     "metadata": {},
     "output_type": "execute_result"
    }
   ],
   "source": [
    "r2_lr_rfe = r2_score(y_train, lr_rfe.predict(X_train_subset_scaled))\n",
    "r2_lr_rfe"
   ]
  },
  {
   "cell_type": "markdown",
   "metadata": {},
   "source": [
    "#### 3.2.3. Linear Regression - Ridge"
   ]
  },
  {
   "cell_type": "markdown",
   "metadata": {},
   "source": [
    "While the two models above don't incorporate hyperparameter optimization, the following regularized models require tuning of the alpha parameter. I utilized a grid search CV strategy to tune this value. Other models in this section will also take a similar approach and many involve optimizing multiple hyperparameters at once. "
   ]
  },
  {
   "cell_type": "code",
   "execution_count": 279,
   "metadata": {},
   "outputs": [
    {
     "data": {
      "text/plain": [
       "GridSearchCV(cv=KFold(n_splits=5, random_state=1, shuffle=True),\n",
       "             estimator=Ridge(),\n",
       "             param_grid={'alpha': [0.1, 0.3, 1, 3.3, 10, 33.3, 100, 333.3, 1000,\n",
       "                                   3333.3, 10000, 33333.3, 100000],\n",
       "                         'random_state': [1]},\n",
       "             scoring='neg_root_mean_squared_error')"
      ]
     },
     "execution_count": 279,
     "metadata": {},
     "output_type": "execute_result"
    }
   ],
   "source": [
    "from sklearn.model_selection import GridSearchCV\n",
    "from sklearn.linear_model import Ridge\n",
    "\n",
    "ridge_params = {\"alpha\" : [.1,.3,1,3.3,10,33.3,100,333.3,1000,3333.3,10000,33333.3,100000],\n",
    "                \"random_state\" : [1]}\n",
    "ridge = Ridge()\n",
    "ridge_grid = GridSearchCV(estimator=ridge,\n",
    "                          param_grid=ridge_params,\n",
    "                          scoring=\"neg_root_mean_squared_error\",\n",
    "                          cv=kf)\n",
    "ridge_grid.fit(X_train_scaled, y_train)"
   ]
  },
  {
   "cell_type": "code",
   "execution_count": 280,
   "metadata": {},
   "outputs": [
    {
     "data": {
      "text/plain": [
       "{'alpha': 100, 'random_state': 1}"
      ]
     },
     "execution_count": 280,
     "metadata": {},
     "output_type": "execute_result"
    }
   ],
   "source": [
    "ridge_grid.best_params_"
   ]
  },
  {
   "cell_type": "code",
   "execution_count": 281,
   "metadata": {},
   "outputs": [
    {
     "data": {
      "text/plain": [
       "-7.147173041344463"
      ]
     },
     "execution_count": 281,
     "metadata": {},
     "output_type": "execute_result"
    }
   ],
   "source": [
    "ridge_grid.best_score_"
   ]
  },
  {
   "cell_type": "code",
   "execution_count": 282,
   "metadata": {},
   "outputs": [
    {
     "data": {
      "text/plain": [
       "0.23320927578522033"
      ]
     },
     "execution_count": 282,
     "metadata": {},
     "output_type": "execute_result"
    }
   ],
   "source": [
    "ridge = ridge_grid.best_estimator_\n",
    "r2_ridge = r2_score(y_train, ridge.predict(X_train_scaled))\n",
    "r2_ridge"
   ]
  },
  {
   "cell_type": "markdown",
   "metadata": {},
   "source": [
    "#### 3.2.4 Linear Regression - Lasso"
   ]
  },
  {
   "cell_type": "code",
   "execution_count": 283,
   "metadata": {},
   "outputs": [
    {
     "data": {
      "text/plain": [
       "GridSearchCV(cv=KFold(n_splits=5, random_state=1, shuffle=True),\n",
       "             estimator=Lasso(),\n",
       "             param_grid={'alpha': [0.1, 0.3, 1, 3.3, 10, 33.3, 100, 333.3, 1000,\n",
       "                                   3333.3, 10000, 33333.3, 100000],\n",
       "                         'random_state': [1]},\n",
       "             scoring='neg_root_mean_squared_error')"
      ]
     },
     "execution_count": 283,
     "metadata": {},
     "output_type": "execute_result"
    }
   ],
   "source": [
    "from sklearn.linear_model import Lasso\n",
    "lasso_params = {\"alpha\" : [.1,.3,1,3.3,10,33.3,100,333.3,1000,3333.3,10000,33333.3,100000],\n",
    "                \"random_state\" : [1]}\n",
    "lasso = Lasso()\n",
    "lasso_grid = GridSearchCV(estimator=lasso,\n",
    "                          param_grid=lasso_params,\n",
    "                          scoring=\"neg_root_mean_squared_error\",\n",
    "                          cv=kf)\n",
    "lasso_grid.fit(X_train_scaled, y_train)"
   ]
  },
  {
   "cell_type": "code",
   "execution_count": 284,
   "metadata": {},
   "outputs": [
    {
     "data": {
      "text/plain": [
       "{'alpha': 0.1, 'random_state': 1}"
      ]
     },
     "execution_count": 284,
     "metadata": {},
     "output_type": "execute_result"
    }
   ],
   "source": [
    "lasso_grid.best_params_"
   ]
  },
  {
   "cell_type": "code",
   "execution_count": 285,
   "metadata": {
    "scrolled": true
   },
   "outputs": [
    {
     "data": {
      "text/plain": [
       "-7.1150815488163675"
      ]
     },
     "execution_count": 285,
     "metadata": {},
     "output_type": "execute_result"
    }
   ],
   "source": [
    "lasso_grid.best_score_"
   ]
  },
  {
   "cell_type": "code",
   "execution_count": 286,
   "metadata": {},
   "outputs": [
    {
     "data": {
      "text/plain": [
       "0.21482661046120932"
      ]
     },
     "execution_count": 286,
     "metadata": {},
     "output_type": "execute_result"
    }
   ],
   "source": [
    "lasso = lasso_grid.best_estimator_\n",
    "r2_lasso = r2_score(y_train, lasso.predict(X_train_scaled))\n",
    "r2_lasso"
   ]
  },
  {
   "cell_type": "code",
   "execution_count": 471,
   "metadata": {
    "scrolled": false
   },
   "outputs": [
    {
     "data": {
      "text/html": [
       "<div>\n",
       "<style scoped>\n",
       "    .dataframe tbody tr th:only-of-type {\n",
       "        vertical-align: middle;\n",
       "    }\n",
       "\n",
       "    .dataframe tbody tr th {\n",
       "        vertical-align: top;\n",
       "    }\n",
       "\n",
       "    .dataframe thead th {\n",
       "        text-align: right;\n",
       "    }\n",
       "</style>\n",
       "<table border=\"1\" class=\"dataframe\">\n",
       "  <thead>\n",
       "    <tr style=\"text-align: right;\">\n",
       "      <th></th>\n",
       "      <th>Variable</th>\n",
       "      <th>Label</th>\n",
       "      <th>coef</th>\n",
       "    </tr>\n",
       "  </thead>\n",
       "  <tbody>\n",
       "    <tr>\n",
       "      <th>8</th>\n",
       "      <td>C0144</td>\n",
       "      <td>Require faculty/staff to wear badge or photo ID</td>\n",
       "      <td>-0.862915</td>\n",
       "    </tr>\n",
       "    <tr>\n",
       "      <th>11</th>\n",
       "      <td>C0204</td>\n",
       "      <td>Community involvement - parent groups</td>\n",
       "      <td>-0.661126</td>\n",
       "    </tr>\n",
       "    <tr>\n",
       "      <th>19</th>\n",
       "      <td>C0274</td>\n",
       "      <td>Teacher training - student alcohol/drug abuse</td>\n",
       "      <td>-0.329472</td>\n",
       "    </tr>\n",
       "    <tr>\n",
       "      <th>13</th>\n",
       "      <td>C0216</td>\n",
       "      <td>Community involvement - business</td>\n",
       "      <td>-0.203013</td>\n",
       "    </tr>\n",
       "    <tr>\n",
       "      <th>9</th>\n",
       "      <td>C0170</td>\n",
       "      <td>Written plan for chemical, biological, or radi...</td>\n",
       "      <td>-0.042375</td>\n",
       "    </tr>\n",
       "    <tr>\n",
       "      <th>17</th>\n",
       "      <td>C0664</td>\n",
       "      <td>Diagnostic assessment at school by school-fund...</td>\n",
       "      <td>0.014629</td>\n",
       "    </tr>\n",
       "    <tr>\n",
       "      <th>0</th>\n",
       "      <td>C0114</td>\n",
       "      <td>Grounds access controlled locked/monitored gates</td>\n",
       "      <td>0.041184</td>\n",
       "    </tr>\n",
       "    <tr>\n",
       "      <th>28</th>\n",
       "      <td>SEC_PT16</td>\n",
       "      <td>Total # of part-time security guards, SROs, or...</td>\n",
       "      <td>0.061613</td>\n",
       "    </tr>\n",
       "    <tr>\n",
       "      <th>18</th>\n",
       "      <td>C0672</td>\n",
       "      <td>Treatment outside of school by school-funded m...</td>\n",
       "      <td>0.066941</td>\n",
       "    </tr>\n",
       "    <tr>\n",
       "      <th>2</th>\n",
       "      <td>C0122</td>\n",
       "      <td>Practice to close campus for lunch</td>\n",
       "      <td>0.100439</td>\n",
       "    </tr>\n",
       "    <tr>\n",
       "      <th>23</th>\n",
       "      <td>C0430</td>\n",
       "      <td>Outside school disciplinary plan available</td>\n",
       "      <td>0.120444</td>\n",
       "    </tr>\n",
       "    <tr>\n",
       "      <th>4</th>\n",
       "      <td>C0126</td>\n",
       "      <td>Random sweeps for contraband not including dog...</td>\n",
       "      <td>0.196289</td>\n",
       "    </tr>\n",
       "    <tr>\n",
       "      <th>29</th>\n",
       "      <td>FR_URBAN</td>\n",
       "      <td>Urbanicity - Based on Urban-centric location o...</td>\n",
       "      <td>0.248306</td>\n",
       "    </tr>\n",
       "    <tr>\n",
       "      <th>7</th>\n",
       "      <td>C0143</td>\n",
       "      <td>Provide a structured anonymous threat reportin...</td>\n",
       "      <td>0.277748</td>\n",
       "    </tr>\n",
       "    <tr>\n",
       "      <th>22</th>\n",
       "      <td>C0426</td>\n",
       "      <td>In-school disciplinary plan available</td>\n",
       "      <td>0.326208</td>\n",
       "    </tr>\n",
       "    <tr>\n",
       "      <th>25</th>\n",
       "      <td>C0528</td>\n",
       "      <td>Percent special education students</td>\n",
       "      <td>0.389510</td>\n",
       "    </tr>\n",
       "    <tr>\n",
       "      <th>16</th>\n",
       "      <td>C0662</td>\n",
       "      <td>Diagnostic assessment at school by school-empl...</td>\n",
       "      <td>0.390648</td>\n",
       "    </tr>\n",
       "    <tr>\n",
       "      <th>10</th>\n",
       "      <td>C0604</td>\n",
       "      <td>LGBTQ acceptance group</td>\n",
       "      <td>0.398516</td>\n",
       "    </tr>\n",
       "    <tr>\n",
       "      <th>26</th>\n",
       "      <td>C0532</td>\n",
       "      <td>Percent students below 15th percentile standar...</td>\n",
       "      <td>0.459031</td>\n",
       "    </tr>\n",
       "    <tr>\n",
       "      <th>14</th>\n",
       "      <td>C0218</td>\n",
       "      <td>Community involvement - religious organizations</td>\n",
       "      <td>0.466201</td>\n",
       "    </tr>\n",
       "    <tr>\n",
       "      <th>24</th>\n",
       "      <td>C0454</td>\n",
       "      <td>Require community service available</td>\n",
       "      <td>0.470828</td>\n",
       "    </tr>\n",
       "    <tr>\n",
       "      <th>21</th>\n",
       "      <td>C0406</td>\n",
       "      <td>Outside suspension/no services available</td>\n",
       "      <td>0.532425</td>\n",
       "    </tr>\n",
       "    <tr>\n",
       "      <th>20</th>\n",
       "      <td>C0398</td>\n",
       "      <td>Transfer to specialized school available</td>\n",
       "      <td>0.710005</td>\n",
       "    </tr>\n",
       "    <tr>\n",
       "      <th>1</th>\n",
       "      <td>C0120</td>\n",
       "      <td>Have random metal detector checks on students</td>\n",
       "      <td>0.716703</td>\n",
       "    </tr>\n",
       "    <tr>\n",
       "      <th>12</th>\n",
       "      <td>C0208</td>\n",
       "      <td>Community involvement - juvenile justice</td>\n",
       "      <td>0.751426</td>\n",
       "    </tr>\n",
       "    <tr>\n",
       "      <th>3</th>\n",
       "      <td>C0124</td>\n",
       "      <td>Practice random dog sniffs for drugs</td>\n",
       "      <td>0.773181</td>\n",
       "    </tr>\n",
       "    <tr>\n",
       "      <th>27</th>\n",
       "      <td>SEC_FT16</td>\n",
       "      <td>Total # of full-time security guards, SROs, or...</td>\n",
       "      <td>0.821699</td>\n",
       "    </tr>\n",
       "    <tr>\n",
       "      <th>15</th>\n",
       "      <td>C0610</td>\n",
       "      <td>Sworn law enforcement officers at school</td>\n",
       "      <td>1.036149</td>\n",
       "    </tr>\n",
       "    <tr>\n",
       "      <th>5</th>\n",
       "      <td>C0138</td>\n",
       "      <td>Provide school lockers to students</td>\n",
       "      <td>1.042252</td>\n",
       "    </tr>\n",
       "    <tr>\n",
       "      <th>6</th>\n",
       "      <td>C0142</td>\n",
       "      <td>Require students to wear badge or photo ID</td>\n",
       "      <td>1.367479</td>\n",
       "    </tr>\n",
       "    <tr>\n",
       "      <th>31</th>\n",
       "      <td>INTERCEPT</td>\n",
       "      <td>INTERCEPT</td>\n",
       "      <td>2.573676</td>\n",
       "    </tr>\n",
       "    <tr>\n",
       "      <th>30</th>\n",
       "      <td>FR_SIZE</td>\n",
       "      <td>Size of school</td>\n",
       "      <td>3.544573</td>\n",
       "    </tr>\n",
       "  </tbody>\n",
       "</table>\n",
       "</div>"
      ],
      "text/plain": [
       "     Variable                                              Label      coef\n",
       "8       C0144    Require faculty/staff to wear badge or photo ID -0.862915\n",
       "11      C0204              Community involvement - parent groups -0.661126\n",
       "19      C0274      Teacher training - student alcohol/drug abuse -0.329472\n",
       "13      C0216                   Community involvement - business -0.203013\n",
       "9       C0170  Written plan for chemical, biological, or radi... -0.042375\n",
       "17      C0664  Diagnostic assessment at school by school-fund...  0.014629\n",
       "0       C0114   Grounds access controlled locked/monitored gates  0.041184\n",
       "28   SEC_PT16  Total # of part-time security guards, SROs, or...  0.061613\n",
       "18      C0672  Treatment outside of school by school-funded m...  0.066941\n",
       "2       C0122                 Practice to close campus for lunch  0.100439\n",
       "23      C0430         Outside school disciplinary plan available  0.120444\n",
       "4       C0126  Random sweeps for contraband not including dog...  0.196289\n",
       "29   FR_URBAN  Urbanicity - Based on Urban-centric location o...  0.248306\n",
       "7       C0143  Provide a structured anonymous threat reportin...  0.277748\n",
       "22      C0426              In-school disciplinary plan available  0.326208\n",
       "25      C0528                 Percent special education students  0.389510\n",
       "16      C0662  Diagnostic assessment at school by school-empl...  0.390648\n",
       "10      C0604                             LGBTQ acceptance group  0.398516\n",
       "26      C0532  Percent students below 15th percentile standar...  0.459031\n",
       "14      C0218    Community involvement - religious organizations  0.466201\n",
       "24      C0454                Require community service available  0.470828\n",
       "21      C0406           Outside suspension/no services available  0.532425\n",
       "20      C0398           Transfer to specialized school available  0.710005\n",
       "1       C0120      Have random metal detector checks on students  0.716703\n",
       "12      C0208           Community involvement - juvenile justice  0.751426\n",
       "3       C0124               Practice random dog sniffs for drugs  0.773181\n",
       "27   SEC_FT16  Total # of full-time security guards, SROs, or...  0.821699\n",
       "15      C0610           Sworn law enforcement officers at school  1.036149\n",
       "5       C0138                 Provide school lockers to students  1.042252\n",
       "6       C0142         Require students to wear badge or photo ID  1.367479\n",
       "31  INTERCEPT                                          INTERCEPT  2.573676\n",
       "30    FR_SIZE                                     Size of school  3.544573"
      ]
     },
     "execution_count": 471,
     "metadata": {},
     "output_type": "execute_result"
    }
   ],
   "source": [
    "lasso_coef = col_description_lookup(list(X_train_scaled.columns))\n",
    "lasso_coef[\"coef\"] = lasso.coef_\n",
    "#Remove features that were eliminated by lasso\n",
    "lasso_coef = lasso_coef[lasso_coef[\"coef\"] != 0]\n",
    "lasso_features = lasso_coef[\"Variable\"]\n",
    "lasso_coef = lasso_coef.append({\"Variable\" : \"INTERCEPT\", \"Label\" : \"INTERCEPT\", \"coef\" : lasso.intercept_}, ignore_index=True)\n",
    "lasso_coef.sort_values(by=\"coef\")"
   ]
  },
  {
   "cell_type": "markdown",
   "metadata": {},
   "source": [
    "### 3.3. K-Nearest Neighbors\n",
    "While the above linear regression results seemed okay, I wanted to see if other ML models would result in better performance. I next built a KNN model. The main issue was that with 74 variables, my feature set had far too large dimensionality for KNN to make much sense as points become very sparse in high-dimensional space. To address this, I constructed a separate model on two subsets of variables: the RFE feature set and the lasso feature set.\n",
    "#### 3.3.1. KNN on RFE Feature Set"
   ]
  },
  {
   "cell_type": "code",
   "execution_count": 288,
   "metadata": {},
   "outputs": [
    {
     "data": {
      "text/plain": [
       "GridSearchCV(cv=KFold(n_splits=5, random_state=1, shuffle=True),\n",
       "             estimator=KNeighborsRegressor(),\n",
       "             param_grid={'n_neighbors': [2, 4, 8, 16, 32, 64, 128, 256, 512],\n",
       "                         'p': [1, 2], 'weights': ['uniform', 'distance']},\n",
       "             scoring='neg_root_mean_squared_error')"
      ]
     },
     "execution_count": 288,
     "metadata": {},
     "output_type": "execute_result"
    }
   ],
   "source": [
    "from sklearn.neighbors import KNeighborsRegressor\n",
    "knn_params = {\"n_neighbors\" : [2,4,8,16,32,64,128,256,512],\n",
    "              \"weights\" : [\"uniform\", \"distance\"],\n",
    "              \"p\" : [1,2]}\n",
    "knn = KNeighborsRegressor()\n",
    "\n",
    "#To avoid the curse of dimensionality, I used the features selected from OLS RFE\n",
    "knn_rfe_grid = GridSearchCV(estimator=knn,\n",
    "                            param_grid=knn_params,\n",
    "                            scoring=\"neg_root_mean_squared_error\", \n",
    "                            cv=kf)\n",
    "knn_rfe_grid.fit(X_train_subset_scaled, y_train)"
   ]
  },
  {
   "cell_type": "code",
   "execution_count": 289,
   "metadata": {},
   "outputs": [
    {
     "data": {
      "text/plain": [
       "{'n_neighbors': 64, 'p': 2, 'weights': 'uniform'}"
      ]
     },
     "execution_count": 289,
     "metadata": {},
     "output_type": "execute_result"
    }
   ],
   "source": [
    "knn_rfe_grid.best_params_"
   ]
  },
  {
   "cell_type": "code",
   "execution_count": 290,
   "metadata": {
    "scrolled": true
   },
   "outputs": [
    {
     "data": {
      "text/plain": [
       "-7.126393795790079"
      ]
     },
     "execution_count": 290,
     "metadata": {},
     "output_type": "execute_result"
    }
   ],
   "source": [
    "knn_rfe_grid.best_score_"
   ]
  },
  {
   "cell_type": "markdown",
   "metadata": {},
   "source": [
    "#### 3.3.2. KNN on Lasso Feature Set"
   ]
  },
  {
   "cell_type": "code",
   "execution_count": 296,
   "metadata": {},
   "outputs": [
    {
     "data": {
      "text/plain": [
       "GridSearchCV(cv=KFold(n_splits=5, random_state=1, shuffle=True),\n",
       "             estimator=KNeighborsRegressor(),\n",
       "             param_grid={'n_neighbors': [2, 4, 8, 16, 32, 64, 128, 256, 512],\n",
       "                         'p': [1, 2], 'weights': ['uniform', 'distance']},\n",
       "             scoring='neg_root_mean_squared_error')"
      ]
     },
     "execution_count": 296,
     "metadata": {},
     "output_type": "execute_result"
    }
   ],
   "source": [
    "#Next, I reran the above process on the features selected from lasso\n",
    "knn_lasso_grid = GridSearchCV(estimator=knn,\n",
    "                              param_grid=knn_params,\n",
    "                              scoring=\"neg_root_mean_squared_error\", \n",
    "                              cv=kf)\n",
    "knn_lasso_grid.fit(X_train_scaled[lasso_features], y_train)"
   ]
  },
  {
   "cell_type": "code",
   "execution_count": 297,
   "metadata": {},
   "outputs": [
    {
     "data": {
      "text/plain": [
       "{'n_neighbors': 64, 'p': 2, 'weights': 'distance'}"
      ]
     },
     "execution_count": 297,
     "metadata": {},
     "output_type": "execute_result"
    }
   ],
   "source": [
    "knn_lasso_grid.best_params_"
   ]
  },
  {
   "cell_type": "code",
   "execution_count": 298,
   "metadata": {},
   "outputs": [
    {
     "data": {
      "text/plain": [
       "-7.222649174341074"
      ]
     },
     "execution_count": 298,
     "metadata": {},
     "output_type": "execute_result"
    }
   ],
   "source": [
    "knn_lasso_grid.best_score_"
   ]
  },
  {
   "cell_type": "markdown",
   "metadata": {},
   "source": [
    "### 3.4. Random Forest"
   ]
  },
  {
   "cell_type": "code",
   "execution_count": 299,
   "metadata": {},
   "outputs": [
    {
     "data": {
      "text/plain": [
       "GridSearchCV(cv=KFold(n_splits=5, random_state=1, shuffle=True),\n",
       "             estimator=RandomForestRegressor(),\n",
       "             param_grid={'max_depth': [2, 4, 8, 16, 32, 64, 128, None],\n",
       "                         'max_features': ['sqrt', 'log2', 0.1, 0.25, 0.5, 5, 10,\n",
       "                                          25],\n",
       "                         'n_estimators': [100], 'random_state': [10]},\n",
       "             scoring='neg_root_mean_squared_error')"
      ]
     },
     "execution_count": 299,
     "metadata": {},
     "output_type": "execute_result"
    }
   ],
   "source": [
    "from sklearn.ensemble import RandomForestRegressor\n",
    "rf_params = {\"n_estimators\" : [100], \n",
    "             \"max_depth\" : [2,4,8,16,32,64,128,None], \n",
    "             \"max_features\" : [\"sqrt\", \"log2\", .1, .25, .5, 5, 10, 25], \n",
    "             \"random_state\" : [10]}\n",
    "rf = RandomForestRegressor()\n",
    "rf_grid = GridSearchCV(estimator=rf,\n",
    "                       param_grid=rf_params,\n",
    "                       scoring=\"neg_root_mean_squared_error\",\n",
    "                       cv=kf)\n",
    "rf_grid.fit(X_train_scaled, y_train)"
   ]
  },
  {
   "cell_type": "code",
   "execution_count": 300,
   "metadata": {},
   "outputs": [
    {
     "data": {
      "text/plain": [
       "{'max_depth': 8, 'max_features': 0.25, 'n_estimators': 100, 'random_state': 10}"
      ]
     },
     "execution_count": 300,
     "metadata": {},
     "output_type": "execute_result"
    }
   ],
   "source": [
    "rf_grid.best_params_"
   ]
  },
  {
   "cell_type": "code",
   "execution_count": 301,
   "metadata": {},
   "outputs": [
    {
     "data": {
      "text/plain": [
       "-7.032517937116582"
      ]
     },
     "execution_count": 301,
     "metadata": {},
     "output_type": "execute_result"
    }
   ],
   "source": [
    "rf_grid.best_score_"
   ]
  },
  {
   "cell_type": "markdown",
   "metadata": {},
   "source": [
    "### 3.5. Neural Network\n",
    "Given the computational requirements of multi-layer neural networks, the following block of code took quite some time to run."
   ]
  },
  {
   "cell_type": "code",
   "execution_count": 303,
   "metadata": {
    "scrolled": true
   },
   "outputs": [
    {
     "name": "stdout",
     "output_type": "stream",
     "text": [
      "Fitting 5 folds for each of 48 candidates, totalling 240 fits\n",
      "[CV] activation=logistic, alpha=0.0001, hidden_layer_sizes=(100,), max_iter=2500, random_state=10, warm_start=True \n"
     ]
    },
    {
     "name": "stderr",
     "output_type": "stream",
     "text": [
      "[Parallel(n_jobs=1)]: Using backend SequentialBackend with 1 concurrent workers.\n"
     ]
    },
    {
     "name": "stdout",
     "output_type": "stream",
     "text": [
      "[CV]  activation=logistic, alpha=0.0001, hidden_layer_sizes=(100,), max_iter=2500, random_state=10, warm_start=True, total=  29.3s\n",
      "[CV] activation=logistic, alpha=0.0001, hidden_layer_sizes=(100,), max_iter=2500, random_state=10, warm_start=True \n"
     ]
    },
    {
     "name": "stderr",
     "output_type": "stream",
     "text": [
      "[Parallel(n_jobs=1)]: Done   1 out of   1 | elapsed:   29.2s remaining:    0.0s\n"
     ]
    },
    {
     "name": "stdout",
     "output_type": "stream",
     "text": [
      "[CV]  activation=logistic, alpha=0.0001, hidden_layer_sizes=(100,), max_iter=2500, random_state=10, warm_start=True, total=  31.7s\n",
      "[CV] activation=logistic, alpha=0.0001, hidden_layer_sizes=(100,), max_iter=2500, random_state=10, warm_start=True \n",
      "[CV]  activation=logistic, alpha=0.0001, hidden_layer_sizes=(100,), max_iter=2500, random_state=10, warm_start=True, total=  33.6s\n",
      "[CV] activation=logistic, alpha=0.0001, hidden_layer_sizes=(100,), max_iter=2500, random_state=10, warm_start=True \n",
      "[CV]  activation=logistic, alpha=0.0001, hidden_layer_sizes=(100,), max_iter=2500, random_state=10, warm_start=True, total=  31.3s\n",
      "[CV] activation=logistic, alpha=0.0001, hidden_layer_sizes=(100,), max_iter=2500, random_state=10, warm_start=True \n",
      "[CV]  activation=logistic, alpha=0.0001, hidden_layer_sizes=(100,), max_iter=2500, random_state=10, warm_start=True, total=  31.3s\n",
      "[CV] activation=logistic, alpha=0.0001, hidden_layer_sizes=(100, 100), max_iter=2500, random_state=10, warm_start=True \n",
      "[CV]  activation=logistic, alpha=0.0001, hidden_layer_sizes=(100, 100), max_iter=2500, random_state=10, warm_start=True, total=  38.5s\n",
      "[CV] activation=logistic, alpha=0.0001, hidden_layer_sizes=(100, 100), max_iter=2500, random_state=10, warm_start=True \n",
      "[CV]  activation=logistic, alpha=0.0001, hidden_layer_sizes=(100, 100), max_iter=2500, random_state=10, warm_start=True, total=  38.6s\n",
      "[CV] activation=logistic, alpha=0.0001, hidden_layer_sizes=(100, 100), max_iter=2500, random_state=10, warm_start=True \n",
      "[CV]  activation=logistic, alpha=0.0001, hidden_layer_sizes=(100, 100), max_iter=2500, random_state=10, warm_start=True, total=  36.6s\n",
      "[CV] activation=logistic, alpha=0.0001, hidden_layer_sizes=(100, 100), max_iter=2500, random_state=10, warm_start=True \n",
      "[CV]  activation=logistic, alpha=0.0001, hidden_layer_sizes=(100, 100), max_iter=2500, random_state=10, warm_start=True, total=  39.6s\n",
      "[CV] activation=logistic, alpha=0.0001, hidden_layer_sizes=(100, 100), max_iter=2500, random_state=10, warm_start=True \n",
      "[CV]  activation=logistic, alpha=0.0001, hidden_layer_sizes=(100, 100), max_iter=2500, random_state=10, warm_start=True, total=  37.7s\n",
      "[CV] activation=logistic, alpha=0.001, hidden_layer_sizes=(100,), max_iter=2500, random_state=10, warm_start=True \n",
      "[CV]  activation=logistic, alpha=0.001, hidden_layer_sizes=(100,), max_iter=2500, random_state=10, warm_start=True, total=  32.6s\n",
      "[CV] activation=logistic, alpha=0.001, hidden_layer_sizes=(100,), max_iter=2500, random_state=10, warm_start=True \n",
      "[CV]  activation=logistic, alpha=0.001, hidden_layer_sizes=(100,), max_iter=2500, random_state=10, warm_start=True, total=  32.9s\n",
      "[CV] activation=logistic, alpha=0.001, hidden_layer_sizes=(100,), max_iter=2500, random_state=10, warm_start=True \n",
      "[CV]  activation=logistic, alpha=0.001, hidden_layer_sizes=(100,), max_iter=2500, random_state=10, warm_start=True, total=  33.6s\n",
      "[CV] activation=logistic, alpha=0.001, hidden_layer_sizes=(100,), max_iter=2500, random_state=10, warm_start=True \n",
      "[CV]  activation=logistic, alpha=0.001, hidden_layer_sizes=(100,), max_iter=2500, random_state=10, warm_start=True, total=  31.2s\n",
      "[CV] activation=logistic, alpha=0.001, hidden_layer_sizes=(100,), max_iter=2500, random_state=10, warm_start=True \n",
      "[CV]  activation=logistic, alpha=0.001, hidden_layer_sizes=(100,), max_iter=2500, random_state=10, warm_start=True, total=  32.1s\n",
      "[CV] activation=logistic, alpha=0.001, hidden_layer_sizes=(100, 100), max_iter=2500, random_state=10, warm_start=True \n",
      "[CV]  activation=logistic, alpha=0.001, hidden_layer_sizes=(100, 100), max_iter=2500, random_state=10, warm_start=True, total=  39.2s\n",
      "[CV] activation=logistic, alpha=0.001, hidden_layer_sizes=(100, 100), max_iter=2500, random_state=10, warm_start=True \n",
      "[CV]  activation=logistic, alpha=0.001, hidden_layer_sizes=(100, 100), max_iter=2500, random_state=10, warm_start=True, total=  40.5s\n",
      "[CV] activation=logistic, alpha=0.001, hidden_layer_sizes=(100, 100), max_iter=2500, random_state=10, warm_start=True \n",
      "[CV]  activation=logistic, alpha=0.001, hidden_layer_sizes=(100, 100), max_iter=2500, random_state=10, warm_start=True, total=  38.4s\n",
      "[CV] activation=logistic, alpha=0.001, hidden_layer_sizes=(100, 100), max_iter=2500, random_state=10, warm_start=True \n",
      "[CV]  activation=logistic, alpha=0.001, hidden_layer_sizes=(100, 100), max_iter=2500, random_state=10, warm_start=True, total=  40.4s\n",
      "[CV] activation=logistic, alpha=0.001, hidden_layer_sizes=(100, 100), max_iter=2500, random_state=10, warm_start=True \n",
      "[CV]  activation=logistic, alpha=0.001, hidden_layer_sizes=(100, 100), max_iter=2500, random_state=10, warm_start=True, total=  39.2s\n",
      "[CV] activation=logistic, alpha=0.01, hidden_layer_sizes=(100,), max_iter=2500, random_state=10, warm_start=True \n",
      "[CV]  activation=logistic, alpha=0.01, hidden_layer_sizes=(100,), max_iter=2500, random_state=10, warm_start=True, total=  33.0s\n",
      "[CV] activation=logistic, alpha=0.01, hidden_layer_sizes=(100,), max_iter=2500, random_state=10, warm_start=True \n",
      "[CV]  activation=logistic, alpha=0.01, hidden_layer_sizes=(100,), max_iter=2500, random_state=10, warm_start=True, total=  34.0s\n",
      "[CV] activation=logistic, alpha=0.01, hidden_layer_sizes=(100,), max_iter=2500, random_state=10, warm_start=True \n",
      "[CV]  activation=logistic, alpha=0.01, hidden_layer_sizes=(100,), max_iter=2500, random_state=10, warm_start=True, total=  36.9s\n",
      "[CV] activation=logistic, alpha=0.01, hidden_layer_sizes=(100,), max_iter=2500, random_state=10, warm_start=True \n",
      "[CV]  activation=logistic, alpha=0.01, hidden_layer_sizes=(100,), max_iter=2500, random_state=10, warm_start=True, total=  33.3s\n",
      "[CV] activation=logistic, alpha=0.01, hidden_layer_sizes=(100,), max_iter=2500, random_state=10, warm_start=True \n",
      "[CV]  activation=logistic, alpha=0.01, hidden_layer_sizes=(100,), max_iter=2500, random_state=10, warm_start=True, total=  34.0s\n",
      "[CV] activation=logistic, alpha=0.01, hidden_layer_sizes=(100, 100), max_iter=2500, random_state=10, warm_start=True \n",
      "[CV]  activation=logistic, alpha=0.01, hidden_layer_sizes=(100, 100), max_iter=2500, random_state=10, warm_start=True, total=  39.3s\n",
      "[CV] activation=logistic, alpha=0.01, hidden_layer_sizes=(100, 100), max_iter=2500, random_state=10, warm_start=True \n",
      "[CV]  activation=logistic, alpha=0.01, hidden_layer_sizes=(100, 100), max_iter=2500, random_state=10, warm_start=True, total=  39.4s\n",
      "[CV] activation=logistic, alpha=0.01, hidden_layer_sizes=(100, 100), max_iter=2500, random_state=10, warm_start=True \n",
      "[CV]  activation=logistic, alpha=0.01, hidden_layer_sizes=(100, 100), max_iter=2500, random_state=10, warm_start=True, total=  39.2s\n",
      "[CV] activation=logistic, alpha=0.01, hidden_layer_sizes=(100, 100), max_iter=2500, random_state=10, warm_start=True \n",
      "[CV]  activation=logistic, alpha=0.01, hidden_layer_sizes=(100, 100), max_iter=2500, random_state=10, warm_start=True, total=  41.1s\n",
      "[CV] activation=logistic, alpha=0.01, hidden_layer_sizes=(100, 100), max_iter=2500, random_state=10, warm_start=True \n",
      "[CV]  activation=logistic, alpha=0.01, hidden_layer_sizes=(100, 100), max_iter=2500, random_state=10, warm_start=True, total=  37.2s\n",
      "[CV] activation=logistic, alpha=0.1, hidden_layer_sizes=(100,), max_iter=2500, random_state=10, warm_start=True \n"
     ]
    },
    {
     "name": "stderr",
     "output_type": "stream",
     "text": [
      "C:\\Users\\Sahil\\anaconda3\\lib\\site-packages\\sklearn\\neural_network\\_multilayer_perceptron.py:585: ConvergenceWarning: Stochastic Optimizer: Maximum iterations (2500) reached and the optimization hasn't converged yet.\n",
      "  % self.max_iter, ConvergenceWarning)\n"
     ]
    },
    {
     "name": "stdout",
     "output_type": "stream",
     "text": [
      "[CV]  activation=logistic, alpha=0.1, hidden_layer_sizes=(100,), max_iter=2500, random_state=10, warm_start=True, total=  44.8s\n",
      "[CV] activation=logistic, alpha=0.1, hidden_layer_sizes=(100,), max_iter=2500, random_state=10, warm_start=True \n"
     ]
    },
    {
     "name": "stderr",
     "output_type": "stream",
     "text": [
      "C:\\Users\\Sahil\\anaconda3\\lib\\site-packages\\sklearn\\neural_network\\_multilayer_perceptron.py:585: ConvergenceWarning: Stochastic Optimizer: Maximum iterations (2500) reached and the optimization hasn't converged yet.\n",
      "  % self.max_iter, ConvergenceWarning)\n"
     ]
    },
    {
     "name": "stdout",
     "output_type": "stream",
     "text": [
      "[CV]  activation=logistic, alpha=0.1, hidden_layer_sizes=(100,), max_iter=2500, random_state=10, warm_start=True, total=  45.1s\n",
      "[CV] activation=logistic, alpha=0.1, hidden_layer_sizes=(100,), max_iter=2500, random_state=10, warm_start=True \n"
     ]
    },
    {
     "name": "stderr",
     "output_type": "stream",
     "text": [
      "C:\\Users\\Sahil\\anaconda3\\lib\\site-packages\\sklearn\\neural_network\\_multilayer_perceptron.py:585: ConvergenceWarning: Stochastic Optimizer: Maximum iterations (2500) reached and the optimization hasn't converged yet.\n",
      "  % self.max_iter, ConvergenceWarning)\n"
     ]
    },
    {
     "name": "stdout",
     "output_type": "stream",
     "text": [
      "[CV]  activation=logistic, alpha=0.1, hidden_layer_sizes=(100,), max_iter=2500, random_state=10, warm_start=True, total=  44.6s\n",
      "[CV] activation=logistic, alpha=0.1, hidden_layer_sizes=(100,), max_iter=2500, random_state=10, warm_start=True \n",
      "[CV]  activation=logistic, alpha=0.1, hidden_layer_sizes=(100,), max_iter=2500, random_state=10, warm_start=True, total=  45.1s\n",
      "[CV] activation=logistic, alpha=0.1, hidden_layer_sizes=(100,), max_iter=2500, random_state=10, warm_start=True \n"
     ]
    },
    {
     "name": "stderr",
     "output_type": "stream",
     "text": [
      "C:\\Users\\Sahil\\anaconda3\\lib\\site-packages\\sklearn\\neural_network\\_multilayer_perceptron.py:585: ConvergenceWarning: Stochastic Optimizer: Maximum iterations (2500) reached and the optimization hasn't converged yet.\n",
      "  % self.max_iter, ConvergenceWarning)\n"
     ]
    },
    {
     "name": "stdout",
     "output_type": "stream",
     "text": [
      "[CV]  activation=logistic, alpha=0.1, hidden_layer_sizes=(100,), max_iter=2500, random_state=10, warm_start=True, total=  44.7s\n",
      "[CV] activation=logistic, alpha=0.1, hidden_layer_sizes=(100, 100), max_iter=2500, random_state=10, warm_start=True \n",
      "[CV]  activation=logistic, alpha=0.1, hidden_layer_sizes=(100, 100), max_iter=2500, random_state=10, warm_start=True, total=  39.1s\n",
      "[CV] activation=logistic, alpha=0.1, hidden_layer_sizes=(100, 100), max_iter=2500, random_state=10, warm_start=True \n",
      "[CV]  activation=logistic, alpha=0.1, hidden_layer_sizes=(100, 100), max_iter=2500, random_state=10, warm_start=True, total=  32.1s\n",
      "[CV] activation=logistic, alpha=0.1, hidden_layer_sizes=(100, 100), max_iter=2500, random_state=10, warm_start=True \n",
      "[CV]  activation=logistic, alpha=0.1, hidden_layer_sizes=(100, 100), max_iter=2500, random_state=10, warm_start=True, total=  26.3s\n",
      "[CV] activation=logistic, alpha=0.1, hidden_layer_sizes=(100, 100), max_iter=2500, random_state=10, warm_start=True \n",
      "[CV]  activation=logistic, alpha=0.1, hidden_layer_sizes=(100, 100), max_iter=2500, random_state=10, warm_start=True, total=  30.2s\n",
      "[CV] activation=logistic, alpha=0.1, hidden_layer_sizes=(100, 100), max_iter=2500, random_state=10, warm_start=True \n",
      "[CV]  activation=logistic, alpha=0.1, hidden_layer_sizes=(100, 100), max_iter=2500, random_state=10, warm_start=True, total=  33.6s\n",
      "[CV] activation=logistic, alpha=1.0, hidden_layer_sizes=(100,), max_iter=2500, random_state=10, warm_start=True \n",
      "[CV]  activation=logistic, alpha=1.0, hidden_layer_sizes=(100,), max_iter=2500, random_state=10, warm_start=True, total=  38.6s\n",
      "[CV] activation=logistic, alpha=1.0, hidden_layer_sizes=(100,), max_iter=2500, random_state=10, warm_start=True \n",
      "[CV]  activation=logistic, alpha=1.0, hidden_layer_sizes=(100,), max_iter=2500, random_state=10, warm_start=True, total=  36.9s\n",
      "[CV] activation=logistic, alpha=1.0, hidden_layer_sizes=(100,), max_iter=2500, random_state=10, warm_start=True \n",
      "[CV]  activation=logistic, alpha=1.0, hidden_layer_sizes=(100,), max_iter=2500, random_state=10, warm_start=True, total=  35.9s\n",
      "[CV] activation=logistic, alpha=1.0, hidden_layer_sizes=(100,), max_iter=2500, random_state=10, warm_start=True \n",
      "[CV]  activation=logistic, alpha=1.0, hidden_layer_sizes=(100,), max_iter=2500, random_state=10, warm_start=True, total=  29.3s\n",
      "[CV] activation=logistic, alpha=1.0, hidden_layer_sizes=(100,), max_iter=2500, random_state=10, warm_start=True \n",
      "[CV]  activation=logistic, alpha=1.0, hidden_layer_sizes=(100,), max_iter=2500, random_state=10, warm_start=True, total=  33.9s\n",
      "[CV] activation=logistic, alpha=1.0, hidden_layer_sizes=(100, 100), max_iter=2500, random_state=10, warm_start=True \n",
      "[CV]  activation=logistic, alpha=1.0, hidden_layer_sizes=(100, 100), max_iter=2500, random_state=10, warm_start=True, total=  28.8s\n",
      "[CV] activation=logistic, alpha=1.0, hidden_layer_sizes=(100, 100), max_iter=2500, random_state=10, warm_start=True \n",
      "[CV]  activation=logistic, alpha=1.0, hidden_layer_sizes=(100, 100), max_iter=2500, random_state=10, warm_start=True, total=  38.8s\n",
      "[CV] activation=logistic, alpha=1.0, hidden_layer_sizes=(100, 100), max_iter=2500, random_state=10, warm_start=True \n",
      "[CV]  activation=logistic, alpha=1.0, hidden_layer_sizes=(100, 100), max_iter=2500, random_state=10, warm_start=True, total=  37.2s\n",
      "[CV] activation=logistic, alpha=1.0, hidden_layer_sizes=(100, 100), max_iter=2500, random_state=10, warm_start=True \n",
      "[CV]  activation=logistic, alpha=1.0, hidden_layer_sizes=(100, 100), max_iter=2500, random_state=10, warm_start=True, total=  30.3s\n",
      "[CV] activation=logistic, alpha=1.0, hidden_layer_sizes=(100, 100), max_iter=2500, random_state=10, warm_start=True \n",
      "[CV]  activation=logistic, alpha=1.0, hidden_layer_sizes=(100, 100), max_iter=2500, random_state=10, warm_start=True, total=  49.0s\n",
      "[CV] activation=logistic, alpha=10, hidden_layer_sizes=(100,), max_iter=2500, random_state=10, warm_start=True \n",
      "[CV]  activation=logistic, alpha=10, hidden_layer_sizes=(100,), max_iter=2500, random_state=10, warm_start=True, total=   7.3s\n",
      "[CV] activation=logistic, alpha=10, hidden_layer_sizes=(100,), max_iter=2500, random_state=10, warm_start=True \n",
      "[CV]  activation=logistic, alpha=10, hidden_layer_sizes=(100,), max_iter=2500, random_state=10, warm_start=True, total=   7.3s\n",
      "[CV] activation=logistic, alpha=10, hidden_layer_sizes=(100,), max_iter=2500, random_state=10, warm_start=True \n",
      "[CV]  activation=logistic, alpha=10, hidden_layer_sizes=(100,), max_iter=2500, random_state=10, warm_start=True, total=   7.2s\n",
      "[CV] activation=logistic, alpha=10, hidden_layer_sizes=(100,), max_iter=2500, random_state=10, warm_start=True \n",
      "[CV]  activation=logistic, alpha=10, hidden_layer_sizes=(100,), max_iter=2500, random_state=10, warm_start=True, total=   5.9s\n",
      "[CV] activation=logistic, alpha=10, hidden_layer_sizes=(100,), max_iter=2500, random_state=10, warm_start=True \n",
      "[CV]  activation=logistic, alpha=10, hidden_layer_sizes=(100,), max_iter=2500, random_state=10, warm_start=True, total=   6.8s\n",
      "[CV] activation=logistic, alpha=10, hidden_layer_sizes=(100, 100), max_iter=2500, random_state=10, warm_start=True \n",
      "[CV]  activation=logistic, alpha=10, hidden_layer_sizes=(100, 100), max_iter=2500, random_state=10, warm_start=True, total=   8.5s\n",
      "[CV] activation=logistic, alpha=10, hidden_layer_sizes=(100, 100), max_iter=2500, random_state=10, warm_start=True \n",
      "[CV]  activation=logistic, alpha=10, hidden_layer_sizes=(100, 100), max_iter=2500, random_state=10, warm_start=True, total=   9.2s\n",
      "[CV] activation=logistic, alpha=10, hidden_layer_sizes=(100, 100), max_iter=2500, random_state=10, warm_start=True \n",
      "[CV]  activation=logistic, alpha=10, hidden_layer_sizes=(100, 100), max_iter=2500, random_state=10, warm_start=True, total=   8.1s\n",
      "[CV] activation=logistic, alpha=10, hidden_layer_sizes=(100, 100), max_iter=2500, random_state=10, warm_start=True \n",
      "[CV]  activation=logistic, alpha=10, hidden_layer_sizes=(100, 100), max_iter=2500, random_state=10, warm_start=True, total=   7.3s\n",
      "[CV] activation=logistic, alpha=10, hidden_layer_sizes=(100, 100), max_iter=2500, random_state=10, warm_start=True \n",
      "[CV]  activation=logistic, alpha=10, hidden_layer_sizes=(100, 100), max_iter=2500, random_state=10, warm_start=True, total=   7.8s\n",
      "[CV] activation=logistic, alpha=100, hidden_layer_sizes=(100,), max_iter=2500, random_state=10, warm_start=True \n",
      "[CV]  activation=logistic, alpha=100, hidden_layer_sizes=(100,), max_iter=2500, random_state=10, warm_start=True, total=   6.1s\n",
      "[CV] activation=logistic, alpha=100, hidden_layer_sizes=(100,), max_iter=2500, random_state=10, warm_start=True \n",
      "[CV]  activation=logistic, alpha=100, hidden_layer_sizes=(100,), max_iter=2500, random_state=10, warm_start=True, total=   6.5s\n",
      "[CV] activation=logistic, alpha=100, hidden_layer_sizes=(100,), max_iter=2500, random_state=10, warm_start=True \n",
      "[CV]  activation=logistic, alpha=100, hidden_layer_sizes=(100,), max_iter=2500, random_state=10, warm_start=True, total=   6.9s\n",
      "[CV] activation=logistic, alpha=100, hidden_layer_sizes=(100,), max_iter=2500, random_state=10, warm_start=True \n",
      "[CV]  activation=logistic, alpha=100, hidden_layer_sizes=(100,), max_iter=2500, random_state=10, warm_start=True, total=   5.7s\n",
      "[CV] activation=logistic, alpha=100, hidden_layer_sizes=(100,), max_iter=2500, random_state=10, warm_start=True \n",
      "[CV]  activation=logistic, alpha=100, hidden_layer_sizes=(100,), max_iter=2500, random_state=10, warm_start=True, total=   5.6s\n",
      "[CV] activation=logistic, alpha=100, hidden_layer_sizes=(100, 100), max_iter=2500, random_state=10, warm_start=True \n",
      "[CV]  activation=logistic, alpha=100, hidden_layer_sizes=(100, 100), max_iter=2500, random_state=10, warm_start=True, total=   6.4s\n",
      "[CV] activation=logistic, alpha=100, hidden_layer_sizes=(100, 100), max_iter=2500, random_state=10, warm_start=True \n",
      "[CV]  activation=logistic, alpha=100, hidden_layer_sizes=(100, 100), max_iter=2500, random_state=10, warm_start=True, total=   7.1s\n",
      "[CV] activation=logistic, alpha=100, hidden_layer_sizes=(100, 100), max_iter=2500, random_state=10, warm_start=True \n",
      "[CV]  activation=logistic, alpha=100, hidden_layer_sizes=(100, 100), max_iter=2500, random_state=10, warm_start=True, total=  10.2s\n",
      "[CV] activation=logistic, alpha=100, hidden_layer_sizes=(100, 100), max_iter=2500, random_state=10, warm_start=True \n"
     ]
    },
    {
     "name": "stdout",
     "output_type": "stream",
     "text": [
      "[CV]  activation=logistic, alpha=100, hidden_layer_sizes=(100, 100), max_iter=2500, random_state=10, warm_start=True, total=   6.2s\n",
      "[CV] activation=logistic, alpha=100, hidden_layer_sizes=(100, 100), max_iter=2500, random_state=10, warm_start=True \n",
      "[CV]  activation=logistic, alpha=100, hidden_layer_sizes=(100, 100), max_iter=2500, random_state=10, warm_start=True, total=   8.3s\n",
      "[CV] activation=logistic, alpha=1000, hidden_layer_sizes=(100,), max_iter=2500, random_state=10, warm_start=True \n",
      "[CV]  activation=logistic, alpha=1000, hidden_layer_sizes=(100,), max_iter=2500, random_state=10, warm_start=True, total=  24.5s\n",
      "[CV] activation=logistic, alpha=1000, hidden_layer_sizes=(100,), max_iter=2500, random_state=10, warm_start=True \n",
      "[CV]  activation=logistic, alpha=1000, hidden_layer_sizes=(100,), max_iter=2500, random_state=10, warm_start=True, total=  28.7s\n",
      "[CV] activation=logistic, alpha=1000, hidden_layer_sizes=(100,), max_iter=2500, random_state=10, warm_start=True \n",
      "[CV]  activation=logistic, alpha=1000, hidden_layer_sizes=(100,), max_iter=2500, random_state=10, warm_start=True, total=  25.1s\n",
      "[CV] activation=logistic, alpha=1000, hidden_layer_sizes=(100,), max_iter=2500, random_state=10, warm_start=True \n",
      "[CV]  activation=logistic, alpha=1000, hidden_layer_sizes=(100,), max_iter=2500, random_state=10, warm_start=True, total=  26.1s\n",
      "[CV] activation=logistic, alpha=1000, hidden_layer_sizes=(100,), max_iter=2500, random_state=10, warm_start=True \n",
      "[CV]  activation=logistic, alpha=1000, hidden_layer_sizes=(100,), max_iter=2500, random_state=10, warm_start=True, total=  19.9s\n",
      "[CV] activation=logistic, alpha=1000, hidden_layer_sizes=(100, 100), max_iter=2500, random_state=10, warm_start=True \n",
      "[CV]  activation=logistic, alpha=1000, hidden_layer_sizes=(100, 100), max_iter=2500, random_state=10, warm_start=True, total=  46.2s\n",
      "[CV] activation=logistic, alpha=1000, hidden_layer_sizes=(100, 100), max_iter=2500, random_state=10, warm_start=True \n",
      "[CV]  activation=logistic, alpha=1000, hidden_layer_sizes=(100, 100), max_iter=2500, random_state=10, warm_start=True, total=  37.5s\n",
      "[CV] activation=logistic, alpha=1000, hidden_layer_sizes=(100, 100), max_iter=2500, random_state=10, warm_start=True \n",
      "[CV]  activation=logistic, alpha=1000, hidden_layer_sizes=(100, 100), max_iter=2500, random_state=10, warm_start=True, total=  46.4s\n",
      "[CV] activation=logistic, alpha=1000, hidden_layer_sizes=(100, 100), max_iter=2500, random_state=10, warm_start=True \n",
      "[CV]  activation=logistic, alpha=1000, hidden_layer_sizes=(100, 100), max_iter=2500, random_state=10, warm_start=True, total=  36.6s\n",
      "[CV] activation=logistic, alpha=1000, hidden_layer_sizes=(100, 100), max_iter=2500, random_state=10, warm_start=True \n",
      "[CV]  activation=logistic, alpha=1000, hidden_layer_sizes=(100, 100), max_iter=2500, random_state=10, warm_start=True, total=  42.9s\n",
      "[CV] activation=tanh, alpha=0.0001, hidden_layer_sizes=(100,), max_iter=2500, random_state=10, warm_start=True \n",
      "[CV]  activation=tanh, alpha=0.0001, hidden_layer_sizes=(100,), max_iter=2500, random_state=10, warm_start=True, total=  17.2s\n",
      "[CV] activation=tanh, alpha=0.0001, hidden_layer_sizes=(100,), max_iter=2500, random_state=10, warm_start=True \n",
      "[CV]  activation=tanh, alpha=0.0001, hidden_layer_sizes=(100,), max_iter=2500, random_state=10, warm_start=True, total=  17.4s\n",
      "[CV] activation=tanh, alpha=0.0001, hidden_layer_sizes=(100,), max_iter=2500, random_state=10, warm_start=True \n",
      "[CV]  activation=tanh, alpha=0.0001, hidden_layer_sizes=(100,), max_iter=2500, random_state=10, warm_start=True, total=  17.4s\n",
      "[CV] activation=tanh, alpha=0.0001, hidden_layer_sizes=(100,), max_iter=2500, random_state=10, warm_start=True \n",
      "[CV]  activation=tanh, alpha=0.0001, hidden_layer_sizes=(100,), max_iter=2500, random_state=10, warm_start=True, total=  17.3s\n",
      "[CV] activation=tanh, alpha=0.0001, hidden_layer_sizes=(100,), max_iter=2500, random_state=10, warm_start=True \n",
      "[CV]  activation=tanh, alpha=0.0001, hidden_layer_sizes=(100,), max_iter=2500, random_state=10, warm_start=True, total=  17.4s\n",
      "[CV] activation=tanh, alpha=0.0001, hidden_layer_sizes=(100, 100), max_iter=2500, random_state=10, warm_start=True \n",
      "[CV]  activation=tanh, alpha=0.0001, hidden_layer_sizes=(100, 100), max_iter=2500, random_state=10, warm_start=True, total=  14.2s\n",
      "[CV] activation=tanh, alpha=0.0001, hidden_layer_sizes=(100, 100), max_iter=2500, random_state=10, warm_start=True \n",
      "[CV]  activation=tanh, alpha=0.0001, hidden_layer_sizes=(100, 100), max_iter=2500, random_state=10, warm_start=True, total=  14.3s\n",
      "[CV] activation=tanh, alpha=0.0001, hidden_layer_sizes=(100, 100), max_iter=2500, random_state=10, warm_start=True \n",
      "[CV]  activation=tanh, alpha=0.0001, hidden_layer_sizes=(100, 100), max_iter=2500, random_state=10, warm_start=True, total=  12.1s\n",
      "[CV] activation=tanh, alpha=0.0001, hidden_layer_sizes=(100, 100), max_iter=2500, random_state=10, warm_start=True \n",
      "[CV]  activation=tanh, alpha=0.0001, hidden_layer_sizes=(100, 100), max_iter=2500, random_state=10, warm_start=True, total=  13.0s\n",
      "[CV] activation=tanh, alpha=0.0001, hidden_layer_sizes=(100, 100), max_iter=2500, random_state=10, warm_start=True \n",
      "[CV]  activation=tanh, alpha=0.0001, hidden_layer_sizes=(100, 100), max_iter=2500, random_state=10, warm_start=True, total=  11.0s\n",
      "[CV] activation=tanh, alpha=0.001, hidden_layer_sizes=(100,), max_iter=2500, random_state=10, warm_start=True \n",
      "[CV]  activation=tanh, alpha=0.001, hidden_layer_sizes=(100,), max_iter=2500, random_state=10, warm_start=True, total=  17.3s\n",
      "[CV] activation=tanh, alpha=0.001, hidden_layer_sizes=(100,), max_iter=2500, random_state=10, warm_start=True \n",
      "[CV]  activation=tanh, alpha=0.001, hidden_layer_sizes=(100,), max_iter=2500, random_state=10, warm_start=True, total=  17.4s\n",
      "[CV] activation=tanh, alpha=0.001, hidden_layer_sizes=(100,), max_iter=2500, random_state=10, warm_start=True \n",
      "[CV]  activation=tanh, alpha=0.001, hidden_layer_sizes=(100,), max_iter=2500, random_state=10, warm_start=True, total=  17.5s\n",
      "[CV] activation=tanh, alpha=0.001, hidden_layer_sizes=(100,), max_iter=2500, random_state=10, warm_start=True \n",
      "[CV]  activation=tanh, alpha=0.001, hidden_layer_sizes=(100,), max_iter=2500, random_state=10, warm_start=True, total=  17.2s\n",
      "[CV] activation=tanh, alpha=0.001, hidden_layer_sizes=(100,), max_iter=2500, random_state=10, warm_start=True \n",
      "[CV]  activation=tanh, alpha=0.001, hidden_layer_sizes=(100,), max_iter=2500, random_state=10, warm_start=True, total=  17.4s\n",
      "[CV] activation=tanh, alpha=0.001, hidden_layer_sizes=(100, 100), max_iter=2500, random_state=10, warm_start=True \n",
      "[CV]  activation=tanh, alpha=0.001, hidden_layer_sizes=(100, 100), max_iter=2500, random_state=10, warm_start=True, total=  14.1s\n",
      "[CV] activation=tanh, alpha=0.001, hidden_layer_sizes=(100, 100), max_iter=2500, random_state=10, warm_start=True \n",
      "[CV]  activation=tanh, alpha=0.001, hidden_layer_sizes=(100, 100), max_iter=2500, random_state=10, warm_start=True, total=  14.2s\n",
      "[CV] activation=tanh, alpha=0.001, hidden_layer_sizes=(100, 100), max_iter=2500, random_state=10, warm_start=True \n",
      "[CV]  activation=tanh, alpha=0.001, hidden_layer_sizes=(100, 100), max_iter=2500, random_state=10, warm_start=True, total=  12.1s\n",
      "[CV] activation=tanh, alpha=0.001, hidden_layer_sizes=(100, 100), max_iter=2500, random_state=10, warm_start=True \n",
      "[CV]  activation=tanh, alpha=0.001, hidden_layer_sizes=(100, 100), max_iter=2500, random_state=10, warm_start=True, total=  13.0s\n",
      "[CV] activation=tanh, alpha=0.001, hidden_layer_sizes=(100, 100), max_iter=2500, random_state=10, warm_start=True \n",
      "[CV]  activation=tanh, alpha=0.001, hidden_layer_sizes=(100, 100), max_iter=2500, random_state=10, warm_start=True, total=  10.9s\n",
      "[CV] activation=tanh, alpha=0.01, hidden_layer_sizes=(100,), max_iter=2500, random_state=10, warm_start=True \n",
      "[CV]  activation=tanh, alpha=0.01, hidden_layer_sizes=(100,), max_iter=2500, random_state=10, warm_start=True, total=  17.4s\n",
      "[CV] activation=tanh, alpha=0.01, hidden_layer_sizes=(100,), max_iter=2500, random_state=10, warm_start=True \n",
      "[CV]  activation=tanh, alpha=0.01, hidden_layer_sizes=(100,), max_iter=2500, random_state=10, warm_start=True, total=  17.1s\n",
      "[CV] activation=tanh, alpha=0.01, hidden_layer_sizes=(100,), max_iter=2500, random_state=10, warm_start=True \n"
     ]
    },
    {
     "name": "stdout",
     "output_type": "stream",
     "text": [
      "[CV]  activation=tanh, alpha=0.01, hidden_layer_sizes=(100,), max_iter=2500, random_state=10, warm_start=True, total=  17.6s\n",
      "[CV] activation=tanh, alpha=0.01, hidden_layer_sizes=(100,), max_iter=2500, random_state=10, warm_start=True \n",
      "[CV]  activation=tanh, alpha=0.01, hidden_layer_sizes=(100,), max_iter=2500, random_state=10, warm_start=True, total=  17.3s\n",
      "[CV] activation=tanh, alpha=0.01, hidden_layer_sizes=(100,), max_iter=2500, random_state=10, warm_start=True \n",
      "[CV]  activation=tanh, alpha=0.01, hidden_layer_sizes=(100,), max_iter=2500, random_state=10, warm_start=True, total=  17.5s\n",
      "[CV] activation=tanh, alpha=0.01, hidden_layer_sizes=(100, 100), max_iter=2500, random_state=10, warm_start=True \n",
      "[CV]  activation=tanh, alpha=0.01, hidden_layer_sizes=(100, 100), max_iter=2500, random_state=10, warm_start=True, total=  14.2s\n",
      "[CV] activation=tanh, alpha=0.01, hidden_layer_sizes=(100, 100), max_iter=2500, random_state=10, warm_start=True \n",
      "[CV]  activation=tanh, alpha=0.01, hidden_layer_sizes=(100, 100), max_iter=2500, random_state=10, warm_start=True, total=  14.1s\n",
      "[CV] activation=tanh, alpha=0.01, hidden_layer_sizes=(100, 100), max_iter=2500, random_state=10, warm_start=True \n",
      "[CV]  activation=tanh, alpha=0.01, hidden_layer_sizes=(100, 100), max_iter=2500, random_state=10, warm_start=True, total=  12.0s\n",
      "[CV] activation=tanh, alpha=0.01, hidden_layer_sizes=(100, 100), max_iter=2500, random_state=10, warm_start=True \n",
      "[CV]  activation=tanh, alpha=0.01, hidden_layer_sizes=(100, 100), max_iter=2500, random_state=10, warm_start=True, total=  13.0s\n",
      "[CV] activation=tanh, alpha=0.01, hidden_layer_sizes=(100, 100), max_iter=2500, random_state=10, warm_start=True \n",
      "[CV]  activation=tanh, alpha=0.01, hidden_layer_sizes=(100, 100), max_iter=2500, random_state=10, warm_start=True, total=  11.0s\n",
      "[CV] activation=tanh, alpha=0.1, hidden_layer_sizes=(100,), max_iter=2500, random_state=10, warm_start=True \n",
      "[CV]  activation=tanh, alpha=0.1, hidden_layer_sizes=(100,), max_iter=2500, random_state=10, warm_start=True, total=  19.7s\n",
      "[CV] activation=tanh, alpha=0.1, hidden_layer_sizes=(100,), max_iter=2500, random_state=10, warm_start=True \n",
      "[CV]  activation=tanh, alpha=0.1, hidden_layer_sizes=(100,), max_iter=2500, random_state=10, warm_start=True, total=  25.7s\n",
      "[CV] activation=tanh, alpha=0.1, hidden_layer_sizes=(100,), max_iter=2500, random_state=10, warm_start=True \n",
      "[CV]  activation=tanh, alpha=0.1, hidden_layer_sizes=(100,), max_iter=2500, random_state=10, warm_start=True, total=  24.8s\n",
      "[CV] activation=tanh, alpha=0.1, hidden_layer_sizes=(100,), max_iter=2500, random_state=10, warm_start=True \n",
      "[CV]  activation=tanh, alpha=0.1, hidden_layer_sizes=(100,), max_iter=2500, random_state=10, warm_start=True, total=  24.1s\n",
      "[CV] activation=tanh, alpha=0.1, hidden_layer_sizes=(100,), max_iter=2500, random_state=10, warm_start=True \n",
      "[CV]  activation=tanh, alpha=0.1, hidden_layer_sizes=(100,), max_iter=2500, random_state=10, warm_start=True, total=  25.0s\n",
      "[CV] activation=tanh, alpha=0.1, hidden_layer_sizes=(100, 100), max_iter=2500, random_state=10, warm_start=True \n",
      "[CV]  activation=tanh, alpha=0.1, hidden_layer_sizes=(100, 100), max_iter=2500, random_state=10, warm_start=True, total=  14.3s\n",
      "[CV] activation=tanh, alpha=0.1, hidden_layer_sizes=(100, 100), max_iter=2500, random_state=10, warm_start=True \n",
      "[CV]  activation=tanh, alpha=0.1, hidden_layer_sizes=(100, 100), max_iter=2500, random_state=10, warm_start=True, total=   9.5s\n",
      "[CV] activation=tanh, alpha=0.1, hidden_layer_sizes=(100, 100), max_iter=2500, random_state=10, warm_start=True \n",
      "[CV]  activation=tanh, alpha=0.1, hidden_layer_sizes=(100, 100), max_iter=2500, random_state=10, warm_start=True, total=  12.0s\n",
      "[CV] activation=tanh, alpha=0.1, hidden_layer_sizes=(100, 100), max_iter=2500, random_state=10, warm_start=True \n",
      "[CV]  activation=tanh, alpha=0.1, hidden_layer_sizes=(100, 100), max_iter=2500, random_state=10, warm_start=True, total=  12.8s\n",
      "[CV] activation=tanh, alpha=0.1, hidden_layer_sizes=(100, 100), max_iter=2500, random_state=10, warm_start=True \n",
      "[CV]  activation=tanh, alpha=0.1, hidden_layer_sizes=(100, 100), max_iter=2500, random_state=10, warm_start=True, total=  10.9s\n",
      "[CV] activation=tanh, alpha=1.0, hidden_layer_sizes=(100,), max_iter=2500, random_state=10, warm_start=True \n",
      "[CV]  activation=tanh, alpha=1.0, hidden_layer_sizes=(100,), max_iter=2500, random_state=10, warm_start=True, total=  24.5s\n",
      "[CV] activation=tanh, alpha=1.0, hidden_layer_sizes=(100,), max_iter=2500, random_state=10, warm_start=True \n",
      "[CV]  activation=tanh, alpha=1.0, hidden_layer_sizes=(100,), max_iter=2500, random_state=10, warm_start=True, total=  21.7s\n",
      "[CV] activation=tanh, alpha=1.0, hidden_layer_sizes=(100,), max_iter=2500, random_state=10, warm_start=True \n",
      "[CV]  activation=tanh, alpha=1.0, hidden_layer_sizes=(100,), max_iter=2500, random_state=10, warm_start=True, total=  21.5s\n",
      "[CV] activation=tanh, alpha=1.0, hidden_layer_sizes=(100,), max_iter=2500, random_state=10, warm_start=True \n",
      "[CV]  activation=tanh, alpha=1.0, hidden_layer_sizes=(100,), max_iter=2500, random_state=10, warm_start=True, total=  20.8s\n",
      "[CV] activation=tanh, alpha=1.0, hidden_layer_sizes=(100,), max_iter=2500, random_state=10, warm_start=True \n",
      "[CV]  activation=tanh, alpha=1.0, hidden_layer_sizes=(100,), max_iter=2500, random_state=10, warm_start=True, total=  22.8s\n",
      "[CV] activation=tanh, alpha=1.0, hidden_layer_sizes=(100, 100), max_iter=2500, random_state=10, warm_start=True \n",
      "[CV]  activation=tanh, alpha=1.0, hidden_layer_sizes=(100, 100), max_iter=2500, random_state=10, warm_start=True, total=  15.2s\n",
      "[CV] activation=tanh, alpha=1.0, hidden_layer_sizes=(100, 100), max_iter=2500, random_state=10, warm_start=True \n",
      "[CV]  activation=tanh, alpha=1.0, hidden_layer_sizes=(100, 100), max_iter=2500, random_state=10, warm_start=True, total=   9.3s\n",
      "[CV] activation=tanh, alpha=1.0, hidden_layer_sizes=(100, 100), max_iter=2500, random_state=10, warm_start=True \n",
      "[CV]  activation=tanh, alpha=1.0, hidden_layer_sizes=(100, 100), max_iter=2500, random_state=10, warm_start=True, total=  11.8s\n",
      "[CV] activation=tanh, alpha=1.0, hidden_layer_sizes=(100, 100), max_iter=2500, random_state=10, warm_start=True \n",
      "[CV]  activation=tanh, alpha=1.0, hidden_layer_sizes=(100, 100), max_iter=2500, random_state=10, warm_start=True, total=  14.0s\n",
      "[CV] activation=tanh, alpha=1.0, hidden_layer_sizes=(100, 100), max_iter=2500, random_state=10, warm_start=True \n",
      "[CV]  activation=tanh, alpha=1.0, hidden_layer_sizes=(100, 100), max_iter=2500, random_state=10, warm_start=True, total=  10.8s\n",
      "[CV] activation=tanh, alpha=10, hidden_layer_sizes=(100,), max_iter=2500, random_state=10, warm_start=True \n",
      "[CV]  activation=tanh, alpha=10, hidden_layer_sizes=(100,), max_iter=2500, random_state=10, warm_start=True, total=  20.4s\n",
      "[CV] activation=tanh, alpha=10, hidden_layer_sizes=(100,), max_iter=2500, random_state=10, warm_start=True \n",
      "[CV]  activation=tanh, alpha=10, hidden_layer_sizes=(100,), max_iter=2500, random_state=10, warm_start=True, total=  18.0s\n",
      "[CV] activation=tanh, alpha=10, hidden_layer_sizes=(100,), max_iter=2500, random_state=10, warm_start=True \n",
      "[CV]  activation=tanh, alpha=10, hidden_layer_sizes=(100,), max_iter=2500, random_state=10, warm_start=True, total=  18.7s\n",
      "[CV] activation=tanh, alpha=10, hidden_layer_sizes=(100,), max_iter=2500, random_state=10, warm_start=True \n",
      "[CV]  activation=tanh, alpha=10, hidden_layer_sizes=(100,), max_iter=2500, random_state=10, warm_start=True, total=  14.2s\n",
      "[CV] activation=tanh, alpha=10, hidden_layer_sizes=(100,), max_iter=2500, random_state=10, warm_start=True \n",
      "[CV]  activation=tanh, alpha=10, hidden_layer_sizes=(100,), max_iter=2500, random_state=10, warm_start=True, total=  16.8s\n",
      "[CV] activation=tanh, alpha=10, hidden_layer_sizes=(100, 100), max_iter=2500, random_state=10, warm_start=True \n",
      "[CV]  activation=tanh, alpha=10, hidden_layer_sizes=(100, 100), max_iter=2500, random_state=10, warm_start=True, total=  11.0s\n",
      "[CV] activation=tanh, alpha=10, hidden_layer_sizes=(100, 100), max_iter=2500, random_state=10, warm_start=True \n",
      "[CV]  activation=tanh, alpha=10, hidden_layer_sizes=(100, 100), max_iter=2500, random_state=10, warm_start=True, total=  10.8s\n",
      "[CV] activation=tanh, alpha=10, hidden_layer_sizes=(100, 100), max_iter=2500, random_state=10, warm_start=True \n"
     ]
    },
    {
     "name": "stdout",
     "output_type": "stream",
     "text": [
      "[CV]  activation=tanh, alpha=10, hidden_layer_sizes=(100, 100), max_iter=2500, random_state=10, warm_start=True, total=   7.2s\n",
      "[CV] activation=tanh, alpha=10, hidden_layer_sizes=(100, 100), max_iter=2500, random_state=10, warm_start=True \n",
      "[CV]  activation=tanh, alpha=10, hidden_layer_sizes=(100, 100), max_iter=2500, random_state=10, warm_start=True, total=  10.4s\n",
      "[CV] activation=tanh, alpha=10, hidden_layer_sizes=(100, 100), max_iter=2500, random_state=10, warm_start=True \n",
      "[CV]  activation=tanh, alpha=10, hidden_layer_sizes=(100, 100), max_iter=2500, random_state=10, warm_start=True, total=   9.2s\n",
      "[CV] activation=tanh, alpha=100, hidden_layer_sizes=(100,), max_iter=2500, random_state=10, warm_start=True \n",
      "[CV]  activation=tanh, alpha=100, hidden_layer_sizes=(100,), max_iter=2500, random_state=10, warm_start=True, total=   2.4s\n",
      "[CV] activation=tanh, alpha=100, hidden_layer_sizes=(100,), max_iter=2500, random_state=10, warm_start=True \n",
      "[CV]  activation=tanh, alpha=100, hidden_layer_sizes=(100,), max_iter=2500, random_state=10, warm_start=True, total=   2.3s\n",
      "[CV] activation=tanh, alpha=100, hidden_layer_sizes=(100,), max_iter=2500, random_state=10, warm_start=True \n",
      "[CV]  activation=tanh, alpha=100, hidden_layer_sizes=(100,), max_iter=2500, random_state=10, warm_start=True, total=   2.4s\n",
      "[CV] activation=tanh, alpha=100, hidden_layer_sizes=(100,), max_iter=2500, random_state=10, warm_start=True \n",
      "[CV]  activation=tanh, alpha=100, hidden_layer_sizes=(100,), max_iter=2500, random_state=10, warm_start=True, total=   2.3s\n",
      "[CV] activation=tanh, alpha=100, hidden_layer_sizes=(100,), max_iter=2500, random_state=10, warm_start=True \n",
      "[CV]  activation=tanh, alpha=100, hidden_layer_sizes=(100,), max_iter=2500, random_state=10, warm_start=True, total=   2.5s\n",
      "[CV] activation=tanh, alpha=100, hidden_layer_sizes=(100, 100), max_iter=2500, random_state=10, warm_start=True \n",
      "[CV]  activation=tanh, alpha=100, hidden_layer_sizes=(100, 100), max_iter=2500, random_state=10, warm_start=True, total=   3.8s\n",
      "[CV] activation=tanh, alpha=100, hidden_layer_sizes=(100, 100), max_iter=2500, random_state=10, warm_start=True \n",
      "[CV]  activation=tanh, alpha=100, hidden_layer_sizes=(100, 100), max_iter=2500, random_state=10, warm_start=True, total=   4.0s\n",
      "[CV] activation=tanh, alpha=100, hidden_layer_sizes=(100, 100), max_iter=2500, random_state=10, warm_start=True \n",
      "[CV]  activation=tanh, alpha=100, hidden_layer_sizes=(100, 100), max_iter=2500, random_state=10, warm_start=True, total=   4.3s\n",
      "[CV] activation=tanh, alpha=100, hidden_layer_sizes=(100, 100), max_iter=2500, random_state=10, warm_start=True \n",
      "[CV]  activation=tanh, alpha=100, hidden_layer_sizes=(100, 100), max_iter=2500, random_state=10, warm_start=True, total=   3.4s\n",
      "[CV] activation=tanh, alpha=100, hidden_layer_sizes=(100, 100), max_iter=2500, random_state=10, warm_start=True \n",
      "[CV]  activation=tanh, alpha=100, hidden_layer_sizes=(100, 100), max_iter=2500, random_state=10, warm_start=True, total=   3.4s\n",
      "[CV] activation=tanh, alpha=1000, hidden_layer_sizes=(100,), max_iter=2500, random_state=10, warm_start=True \n",
      "[CV]  activation=tanh, alpha=1000, hidden_layer_sizes=(100,), max_iter=2500, random_state=10, warm_start=True, total=  31.9s\n",
      "[CV] activation=tanh, alpha=1000, hidden_layer_sizes=(100,), max_iter=2500, random_state=10, warm_start=True \n",
      "[CV]  activation=tanh, alpha=1000, hidden_layer_sizes=(100,), max_iter=2500, random_state=10, warm_start=True, total=  37.1s\n",
      "[CV] activation=tanh, alpha=1000, hidden_layer_sizes=(100,), max_iter=2500, random_state=10, warm_start=True \n",
      "[CV]  activation=tanh, alpha=1000, hidden_layer_sizes=(100,), max_iter=2500, random_state=10, warm_start=True, total=  32.6s\n",
      "[CV] activation=tanh, alpha=1000, hidden_layer_sizes=(100,), max_iter=2500, random_state=10, warm_start=True \n",
      "[CV]  activation=tanh, alpha=1000, hidden_layer_sizes=(100,), max_iter=2500, random_state=10, warm_start=True, total=  28.8s\n",
      "[CV] activation=tanh, alpha=1000, hidden_layer_sizes=(100,), max_iter=2500, random_state=10, warm_start=True \n",
      "[CV]  activation=tanh, alpha=1000, hidden_layer_sizes=(100,), max_iter=2500, random_state=10, warm_start=True, total=  25.3s\n",
      "[CV] activation=tanh, alpha=1000, hidden_layer_sizes=(100, 100), max_iter=2500, random_state=10, warm_start=True \n",
      "[CV]  activation=tanh, alpha=1000, hidden_layer_sizes=(100, 100), max_iter=2500, random_state=10, warm_start=True, total=  48.4s\n",
      "[CV] activation=tanh, alpha=1000, hidden_layer_sizes=(100, 100), max_iter=2500, random_state=10, warm_start=True \n",
      "[CV]  activation=tanh, alpha=1000, hidden_layer_sizes=(100, 100), max_iter=2500, random_state=10, warm_start=True, total=  42.3s\n",
      "[CV] activation=tanh, alpha=1000, hidden_layer_sizes=(100, 100), max_iter=2500, random_state=10, warm_start=True \n",
      "[CV]  activation=tanh, alpha=1000, hidden_layer_sizes=(100, 100), max_iter=2500, random_state=10, warm_start=True, total=  53.2s\n",
      "[CV] activation=tanh, alpha=1000, hidden_layer_sizes=(100, 100), max_iter=2500, random_state=10, warm_start=True \n",
      "[CV]  activation=tanh, alpha=1000, hidden_layer_sizes=(100, 100), max_iter=2500, random_state=10, warm_start=True, total=  42.3s\n",
      "[CV] activation=tanh, alpha=1000, hidden_layer_sizes=(100, 100), max_iter=2500, random_state=10, warm_start=True \n",
      "[CV]  activation=tanh, alpha=1000, hidden_layer_sizes=(100, 100), max_iter=2500, random_state=10, warm_start=True, total=  36.4s\n",
      "[CV] activation=relu, alpha=0.0001, hidden_layer_sizes=(100,), max_iter=2500, random_state=10, warm_start=True \n",
      "[CV]  activation=relu, alpha=0.0001, hidden_layer_sizes=(100,), max_iter=2500, random_state=10, warm_start=True, total=  17.1s\n",
      "[CV] activation=relu, alpha=0.0001, hidden_layer_sizes=(100,), max_iter=2500, random_state=10, warm_start=True \n",
      "[CV]  activation=relu, alpha=0.0001, hidden_layer_sizes=(100,), max_iter=2500, random_state=10, warm_start=True, total=  17.0s\n",
      "[CV] activation=relu, alpha=0.0001, hidden_layer_sizes=(100,), max_iter=2500, random_state=10, warm_start=True \n",
      "[CV]  activation=relu, alpha=0.0001, hidden_layer_sizes=(100,), max_iter=2500, random_state=10, warm_start=True, total=  17.7s\n",
      "[CV] activation=relu, alpha=0.0001, hidden_layer_sizes=(100,), max_iter=2500, random_state=10, warm_start=True \n",
      "[CV]  activation=relu, alpha=0.0001, hidden_layer_sizes=(100,), max_iter=2500, random_state=10, warm_start=True, total=  17.5s\n",
      "[CV] activation=relu, alpha=0.0001, hidden_layer_sizes=(100,), max_iter=2500, random_state=10, warm_start=True \n",
      "[CV]  activation=relu, alpha=0.0001, hidden_layer_sizes=(100,), max_iter=2500, random_state=10, warm_start=True, total=  17.6s\n",
      "[CV] activation=relu, alpha=0.0001, hidden_layer_sizes=(100, 100), max_iter=2500, random_state=10, warm_start=True \n",
      "[CV]  activation=relu, alpha=0.0001, hidden_layer_sizes=(100, 100), max_iter=2500, random_state=10, warm_start=True, total=   8.8s\n",
      "[CV] activation=relu, alpha=0.0001, hidden_layer_sizes=(100, 100), max_iter=2500, random_state=10, warm_start=True \n",
      "[CV]  activation=relu, alpha=0.0001, hidden_layer_sizes=(100, 100), max_iter=2500, random_state=10, warm_start=True, total=   9.6s\n",
      "[CV] activation=relu, alpha=0.0001, hidden_layer_sizes=(100, 100), max_iter=2500, random_state=10, warm_start=True \n",
      "[CV]  activation=relu, alpha=0.0001, hidden_layer_sizes=(100, 100), max_iter=2500, random_state=10, warm_start=True, total=   9.1s\n",
      "[CV] activation=relu, alpha=0.0001, hidden_layer_sizes=(100, 100), max_iter=2500, random_state=10, warm_start=True \n",
      "[CV]  activation=relu, alpha=0.0001, hidden_layer_sizes=(100, 100), max_iter=2500, random_state=10, warm_start=True, total=   8.3s\n",
      "[CV] activation=relu, alpha=0.0001, hidden_layer_sizes=(100, 100), max_iter=2500, random_state=10, warm_start=True \n",
      "[CV]  activation=relu, alpha=0.0001, hidden_layer_sizes=(100, 100), max_iter=2500, random_state=10, warm_start=True, total=  10.3s\n",
      "[CV] activation=relu, alpha=0.001, hidden_layer_sizes=(100,), max_iter=2500, random_state=10, warm_start=True \n",
      "[CV]  activation=relu, alpha=0.001, hidden_layer_sizes=(100,), max_iter=2500, random_state=10, warm_start=True, total=  16.2s\n",
      "[CV] activation=relu, alpha=0.001, hidden_layer_sizes=(100,), max_iter=2500, random_state=10, warm_start=True \n",
      "[CV]  activation=relu, alpha=0.001, hidden_layer_sizes=(100,), max_iter=2500, random_state=10, warm_start=True, total=  17.0s\n",
      "[CV] activation=relu, alpha=0.001, hidden_layer_sizes=(100,), max_iter=2500, random_state=10, warm_start=True \n"
     ]
    },
    {
     "name": "stdout",
     "output_type": "stream",
     "text": [
      "[CV]  activation=relu, alpha=0.001, hidden_layer_sizes=(100,), max_iter=2500, random_state=10, warm_start=True, total=  16.3s\n",
      "[CV] activation=relu, alpha=0.001, hidden_layer_sizes=(100,), max_iter=2500, random_state=10, warm_start=True \n",
      "[CV]  activation=relu, alpha=0.001, hidden_layer_sizes=(100,), max_iter=2500, random_state=10, warm_start=True, total=  17.2s\n",
      "[CV] activation=relu, alpha=0.001, hidden_layer_sizes=(100,), max_iter=2500, random_state=10, warm_start=True \n",
      "[CV]  activation=relu, alpha=0.001, hidden_layer_sizes=(100,), max_iter=2500, random_state=10, warm_start=True, total=  17.4s\n",
      "[CV] activation=relu, alpha=0.001, hidden_layer_sizes=(100, 100), max_iter=2500, random_state=10, warm_start=True \n",
      "[CV]  activation=relu, alpha=0.001, hidden_layer_sizes=(100, 100), max_iter=2500, random_state=10, warm_start=True, total=   8.7s\n",
      "[CV] activation=relu, alpha=0.001, hidden_layer_sizes=(100, 100), max_iter=2500, random_state=10, warm_start=True \n",
      "[CV]  activation=relu, alpha=0.001, hidden_layer_sizes=(100, 100), max_iter=2500, random_state=10, warm_start=True, total=   7.5s\n",
      "[CV] activation=relu, alpha=0.001, hidden_layer_sizes=(100, 100), max_iter=2500, random_state=10, warm_start=True \n",
      "[CV]  activation=relu, alpha=0.001, hidden_layer_sizes=(100, 100), max_iter=2500, random_state=10, warm_start=True, total=   8.0s\n",
      "[CV] activation=relu, alpha=0.001, hidden_layer_sizes=(100, 100), max_iter=2500, random_state=10, warm_start=True \n",
      "[CV]  activation=relu, alpha=0.001, hidden_layer_sizes=(100, 100), max_iter=2500, random_state=10, warm_start=True, total=   8.3s\n",
      "[CV] activation=relu, alpha=0.001, hidden_layer_sizes=(100, 100), max_iter=2500, random_state=10, warm_start=True \n",
      "[CV]  activation=relu, alpha=0.001, hidden_layer_sizes=(100, 100), max_iter=2500, random_state=10, warm_start=True, total=   9.3s\n",
      "[CV] activation=relu, alpha=0.01, hidden_layer_sizes=(100,), max_iter=2500, random_state=10, warm_start=True \n",
      "[CV]  activation=relu, alpha=0.01, hidden_layer_sizes=(100,), max_iter=2500, random_state=10, warm_start=True, total=  16.9s\n",
      "[CV] activation=relu, alpha=0.01, hidden_layer_sizes=(100,), max_iter=2500, random_state=10, warm_start=True \n",
      "[CV]  activation=relu, alpha=0.01, hidden_layer_sizes=(100,), max_iter=2500, random_state=10, warm_start=True, total=  17.6s\n",
      "[CV] activation=relu, alpha=0.01, hidden_layer_sizes=(100,), max_iter=2500, random_state=10, warm_start=True \n",
      "[CV]  activation=relu, alpha=0.01, hidden_layer_sizes=(100,), max_iter=2500, random_state=10, warm_start=True, total=  16.2s\n",
      "[CV] activation=relu, alpha=0.01, hidden_layer_sizes=(100,), max_iter=2500, random_state=10, warm_start=True \n",
      "[CV]  activation=relu, alpha=0.01, hidden_layer_sizes=(100,), max_iter=2500, random_state=10, warm_start=True, total=  16.7s\n",
      "[CV] activation=relu, alpha=0.01, hidden_layer_sizes=(100,), max_iter=2500, random_state=10, warm_start=True \n",
      "[CV]  activation=relu, alpha=0.01, hidden_layer_sizes=(100,), max_iter=2500, random_state=10, warm_start=True, total=  20.9s\n",
      "[CV] activation=relu, alpha=0.01, hidden_layer_sizes=(100, 100), max_iter=2500, random_state=10, warm_start=True \n",
      "[CV]  activation=relu, alpha=0.01, hidden_layer_sizes=(100, 100), max_iter=2500, random_state=10, warm_start=True, total=  18.8s\n",
      "[CV] activation=relu, alpha=0.01, hidden_layer_sizes=(100, 100), max_iter=2500, random_state=10, warm_start=True \n",
      "[CV]  activation=relu, alpha=0.01, hidden_layer_sizes=(100, 100), max_iter=2500, random_state=10, warm_start=True, total=   6.4s\n",
      "[CV] activation=relu, alpha=0.01, hidden_layer_sizes=(100, 100), max_iter=2500, random_state=10, warm_start=True \n",
      "[CV]  activation=relu, alpha=0.01, hidden_layer_sizes=(100, 100), max_iter=2500, random_state=10, warm_start=True, total=   9.4s\n",
      "[CV] activation=relu, alpha=0.01, hidden_layer_sizes=(100, 100), max_iter=2500, random_state=10, warm_start=True \n",
      "[CV]  activation=relu, alpha=0.01, hidden_layer_sizes=(100, 100), max_iter=2500, random_state=10, warm_start=True, total=   8.1s\n",
      "[CV] activation=relu, alpha=0.01, hidden_layer_sizes=(100, 100), max_iter=2500, random_state=10, warm_start=True \n",
      "[CV]  activation=relu, alpha=0.01, hidden_layer_sizes=(100, 100), max_iter=2500, random_state=10, warm_start=True, total=  10.4s\n",
      "[CV] activation=relu, alpha=0.1, hidden_layer_sizes=(100,), max_iter=2500, random_state=10, warm_start=True \n",
      "[CV]  activation=relu, alpha=0.1, hidden_layer_sizes=(100,), max_iter=2500, random_state=10, warm_start=True, total=  15.9s\n",
      "[CV] activation=relu, alpha=0.1, hidden_layer_sizes=(100,), max_iter=2500, random_state=10, warm_start=True \n",
      "[CV]  activation=relu, alpha=0.1, hidden_layer_sizes=(100,), max_iter=2500, random_state=10, warm_start=True, total=  17.6s\n",
      "[CV] activation=relu, alpha=0.1, hidden_layer_sizes=(100,), max_iter=2500, random_state=10, warm_start=True \n",
      "[CV]  activation=relu, alpha=0.1, hidden_layer_sizes=(100,), max_iter=2500, random_state=10, warm_start=True, total=  16.9s\n",
      "[CV] activation=relu, alpha=0.1, hidden_layer_sizes=(100,), max_iter=2500, random_state=10, warm_start=True \n",
      "[CV]  activation=relu, alpha=0.1, hidden_layer_sizes=(100,), max_iter=2500, random_state=10, warm_start=True, total=  16.2s\n",
      "[CV] activation=relu, alpha=0.1, hidden_layer_sizes=(100,), max_iter=2500, random_state=10, warm_start=True \n",
      "[CV]  activation=relu, alpha=0.1, hidden_layer_sizes=(100,), max_iter=2500, random_state=10, warm_start=True, total=  18.6s\n",
      "[CV] activation=relu, alpha=0.1, hidden_layer_sizes=(100, 100), max_iter=2500, random_state=10, warm_start=True \n",
      "[CV]  activation=relu, alpha=0.1, hidden_layer_sizes=(100, 100), max_iter=2500, random_state=10, warm_start=True, total=   8.8s\n",
      "[CV] activation=relu, alpha=0.1, hidden_layer_sizes=(100, 100), max_iter=2500, random_state=10, warm_start=True \n",
      "[CV]  activation=relu, alpha=0.1, hidden_layer_sizes=(100, 100), max_iter=2500, random_state=10, warm_start=True, total=  10.7s\n",
      "[CV] activation=relu, alpha=0.1, hidden_layer_sizes=(100, 100), max_iter=2500, random_state=10, warm_start=True \n",
      "[CV]  activation=relu, alpha=0.1, hidden_layer_sizes=(100, 100), max_iter=2500, random_state=10, warm_start=True, total=   9.2s\n",
      "[CV] activation=relu, alpha=0.1, hidden_layer_sizes=(100, 100), max_iter=2500, random_state=10, warm_start=True \n",
      "[CV]  activation=relu, alpha=0.1, hidden_layer_sizes=(100, 100), max_iter=2500, random_state=10, warm_start=True, total=   7.0s\n",
      "[CV] activation=relu, alpha=0.1, hidden_layer_sizes=(100, 100), max_iter=2500, random_state=10, warm_start=True \n",
      "[CV]  activation=relu, alpha=0.1, hidden_layer_sizes=(100, 100), max_iter=2500, random_state=10, warm_start=True, total=   8.8s\n",
      "[CV] activation=relu, alpha=1.0, hidden_layer_sizes=(100,), max_iter=2500, random_state=10, warm_start=True \n",
      "[CV]  activation=relu, alpha=1.0, hidden_layer_sizes=(100,), max_iter=2500, random_state=10, warm_start=True, total=  20.0s\n",
      "[CV] activation=relu, alpha=1.0, hidden_layer_sizes=(100,), max_iter=2500, random_state=10, warm_start=True \n",
      "[CV]  activation=relu, alpha=1.0, hidden_layer_sizes=(100,), max_iter=2500, random_state=10, warm_start=True, total=  16.1s\n",
      "[CV] activation=relu, alpha=1.0, hidden_layer_sizes=(100,), max_iter=2500, random_state=10, warm_start=True \n",
      "[CV]  activation=relu, alpha=1.0, hidden_layer_sizes=(100,), max_iter=2500, random_state=10, warm_start=True, total=  20.8s\n",
      "[CV] activation=relu, alpha=1.0, hidden_layer_sizes=(100,), max_iter=2500, random_state=10, warm_start=True \n",
      "[CV]  activation=relu, alpha=1.0, hidden_layer_sizes=(100,), max_iter=2500, random_state=10, warm_start=True, total=  20.3s\n",
      "[CV] activation=relu, alpha=1.0, hidden_layer_sizes=(100,), max_iter=2500, random_state=10, warm_start=True \n",
      "[CV]  activation=relu, alpha=1.0, hidden_layer_sizes=(100,), max_iter=2500, random_state=10, warm_start=True, total=  19.2s\n",
      "[CV] activation=relu, alpha=1.0, hidden_layer_sizes=(100, 100), max_iter=2500, random_state=10, warm_start=True \n",
      "[CV]  activation=relu, alpha=1.0, hidden_layer_sizes=(100, 100), max_iter=2500, random_state=10, warm_start=True, total=  11.6s\n",
      "[CV] activation=relu, alpha=1.0, hidden_layer_sizes=(100, 100), max_iter=2500, random_state=10, warm_start=True \n",
      "[CV]  activation=relu, alpha=1.0, hidden_layer_sizes=(100, 100), max_iter=2500, random_state=10, warm_start=True, total=  10.8s\n",
      "[CV] activation=relu, alpha=1.0, hidden_layer_sizes=(100, 100), max_iter=2500, random_state=10, warm_start=True \n"
     ]
    },
    {
     "name": "stdout",
     "output_type": "stream",
     "text": [
      "[CV]  activation=relu, alpha=1.0, hidden_layer_sizes=(100, 100), max_iter=2500, random_state=10, warm_start=True, total=  10.6s\n",
      "[CV] activation=relu, alpha=1.0, hidden_layer_sizes=(100, 100), max_iter=2500, random_state=10, warm_start=True \n",
      "[CV]  activation=relu, alpha=1.0, hidden_layer_sizes=(100, 100), max_iter=2500, random_state=10, warm_start=True, total=  11.9s\n",
      "[CV] activation=relu, alpha=1.0, hidden_layer_sizes=(100, 100), max_iter=2500, random_state=10, warm_start=True \n",
      "[CV]  activation=relu, alpha=1.0, hidden_layer_sizes=(100, 100), max_iter=2500, random_state=10, warm_start=True, total=  11.5s\n",
      "[CV] activation=relu, alpha=10, hidden_layer_sizes=(100,), max_iter=2500, random_state=10, warm_start=True \n",
      "[CV]  activation=relu, alpha=10, hidden_layer_sizes=(100,), max_iter=2500, random_state=10, warm_start=True, total=  13.0s\n",
      "[CV] activation=relu, alpha=10, hidden_layer_sizes=(100,), max_iter=2500, random_state=10, warm_start=True \n",
      "[CV]  activation=relu, alpha=10, hidden_layer_sizes=(100,), max_iter=2500, random_state=10, warm_start=True, total=  15.8s\n",
      "[CV] activation=relu, alpha=10, hidden_layer_sizes=(100,), max_iter=2500, random_state=10, warm_start=True \n",
      "[CV]  activation=relu, alpha=10, hidden_layer_sizes=(100,), max_iter=2500, random_state=10, warm_start=True, total=  12.9s\n",
      "[CV] activation=relu, alpha=10, hidden_layer_sizes=(100,), max_iter=2500, random_state=10, warm_start=True \n",
      "[CV]  activation=relu, alpha=10, hidden_layer_sizes=(100,), max_iter=2500, random_state=10, warm_start=True, total=  12.5s\n",
      "[CV] activation=relu, alpha=10, hidden_layer_sizes=(100,), max_iter=2500, random_state=10, warm_start=True \n",
      "[CV]  activation=relu, alpha=10, hidden_layer_sizes=(100,), max_iter=2500, random_state=10, warm_start=True, total=  13.2s\n",
      "[CV] activation=relu, alpha=10, hidden_layer_sizes=(100, 100), max_iter=2500, random_state=10, warm_start=True \n",
      "[CV]  activation=relu, alpha=10, hidden_layer_sizes=(100, 100), max_iter=2500, random_state=10, warm_start=True, total=  14.1s\n",
      "[CV] activation=relu, alpha=10, hidden_layer_sizes=(100, 100), max_iter=2500, random_state=10, warm_start=True \n",
      "[CV]  activation=relu, alpha=10, hidden_layer_sizes=(100, 100), max_iter=2500, random_state=10, warm_start=True, total=  10.4s\n",
      "[CV] activation=relu, alpha=10, hidden_layer_sizes=(100, 100), max_iter=2500, random_state=10, warm_start=True \n",
      "[CV]  activation=relu, alpha=10, hidden_layer_sizes=(100, 100), max_iter=2500, random_state=10, warm_start=True, total=  15.0s\n",
      "[CV] activation=relu, alpha=10, hidden_layer_sizes=(100, 100), max_iter=2500, random_state=10, warm_start=True \n",
      "[CV]  activation=relu, alpha=10, hidden_layer_sizes=(100, 100), max_iter=2500, random_state=10, warm_start=True, total=  10.5s\n",
      "[CV] activation=relu, alpha=10, hidden_layer_sizes=(100, 100), max_iter=2500, random_state=10, warm_start=True \n",
      "[CV]  activation=relu, alpha=10, hidden_layer_sizes=(100, 100), max_iter=2500, random_state=10, warm_start=True, total=  14.5s\n",
      "[CV] activation=relu, alpha=100, hidden_layer_sizes=(100,), max_iter=2500, random_state=10, warm_start=True \n",
      "[CV]  activation=relu, alpha=100, hidden_layer_sizes=(100,), max_iter=2500, random_state=10, warm_start=True, total=   3.4s\n",
      "[CV] activation=relu, alpha=100, hidden_layer_sizes=(100,), max_iter=2500, random_state=10, warm_start=True \n",
      "[CV]  activation=relu, alpha=100, hidden_layer_sizes=(100,), max_iter=2500, random_state=10, warm_start=True, total=   3.0s\n",
      "[CV] activation=relu, alpha=100, hidden_layer_sizes=(100,), max_iter=2500, random_state=10, warm_start=True \n",
      "[CV]  activation=relu, alpha=100, hidden_layer_sizes=(100,), max_iter=2500, random_state=10, warm_start=True, total=   3.2s\n",
      "[CV] activation=relu, alpha=100, hidden_layer_sizes=(100,), max_iter=2500, random_state=10, warm_start=True \n",
      "[CV]  activation=relu, alpha=100, hidden_layer_sizes=(100,), max_iter=2500, random_state=10, warm_start=True, total=   3.3s\n",
      "[CV] activation=relu, alpha=100, hidden_layer_sizes=(100,), max_iter=2500, random_state=10, warm_start=True \n",
      "[CV]  activation=relu, alpha=100, hidden_layer_sizes=(100,), max_iter=2500, random_state=10, warm_start=True, total=   3.2s\n",
      "[CV] activation=relu, alpha=100, hidden_layer_sizes=(100, 100), max_iter=2500, random_state=10, warm_start=True \n",
      "[CV]  activation=relu, alpha=100, hidden_layer_sizes=(100, 100), max_iter=2500, random_state=10, warm_start=True, total=  11.4s\n",
      "[CV] activation=relu, alpha=100, hidden_layer_sizes=(100, 100), max_iter=2500, random_state=10, warm_start=True \n",
      "[CV]  activation=relu, alpha=100, hidden_layer_sizes=(100, 100), max_iter=2500, random_state=10, warm_start=True, total=  11.5s\n",
      "[CV] activation=relu, alpha=100, hidden_layer_sizes=(100, 100), max_iter=2500, random_state=10, warm_start=True \n",
      "[CV]  activation=relu, alpha=100, hidden_layer_sizes=(100, 100), max_iter=2500, random_state=10, warm_start=True, total=  12.4s\n",
      "[CV] activation=relu, alpha=100, hidden_layer_sizes=(100, 100), max_iter=2500, random_state=10, warm_start=True \n",
      "[CV]  activation=relu, alpha=100, hidden_layer_sizes=(100, 100), max_iter=2500, random_state=10, warm_start=True, total=   7.6s\n",
      "[CV] activation=relu, alpha=100, hidden_layer_sizes=(100, 100), max_iter=2500, random_state=10, warm_start=True \n",
      "[CV]  activation=relu, alpha=100, hidden_layer_sizes=(100, 100), max_iter=2500, random_state=10, warm_start=True, total=   9.5s\n",
      "[CV] activation=relu, alpha=1000, hidden_layer_sizes=(100,), max_iter=2500, random_state=10, warm_start=True \n",
      "[CV]  activation=relu, alpha=1000, hidden_layer_sizes=(100,), max_iter=2500, random_state=10, warm_start=True, total=  13.4s\n",
      "[CV] activation=relu, alpha=1000, hidden_layer_sizes=(100,), max_iter=2500, random_state=10, warm_start=True \n",
      "[CV]  activation=relu, alpha=1000, hidden_layer_sizes=(100,), max_iter=2500, random_state=10, warm_start=True, total=  13.9s\n",
      "[CV] activation=relu, alpha=1000, hidden_layer_sizes=(100,), max_iter=2500, random_state=10, warm_start=True \n",
      "[CV]  activation=relu, alpha=1000, hidden_layer_sizes=(100,), max_iter=2500, random_state=10, warm_start=True, total=  14.8s\n",
      "[CV] activation=relu, alpha=1000, hidden_layer_sizes=(100,), max_iter=2500, random_state=10, warm_start=True \n",
      "[CV]  activation=relu, alpha=1000, hidden_layer_sizes=(100,), max_iter=2500, random_state=10, warm_start=True, total=  12.9s\n",
      "[CV] activation=relu, alpha=1000, hidden_layer_sizes=(100,), max_iter=2500, random_state=10, warm_start=True \n",
      "[CV]  activation=relu, alpha=1000, hidden_layer_sizes=(100,), max_iter=2500, random_state=10, warm_start=True, total=  11.9s\n",
      "[CV] activation=relu, alpha=1000, hidden_layer_sizes=(100, 100), max_iter=2500, random_state=10, warm_start=True \n",
      "[CV]  activation=relu, alpha=1000, hidden_layer_sizes=(100, 100), max_iter=2500, random_state=10, warm_start=True, total=  23.6s\n",
      "[CV] activation=relu, alpha=1000, hidden_layer_sizes=(100, 100), max_iter=2500, random_state=10, warm_start=True \n",
      "[CV]  activation=relu, alpha=1000, hidden_layer_sizes=(100, 100), max_iter=2500, random_state=10, warm_start=True, total=  27.3s\n",
      "[CV] activation=relu, alpha=1000, hidden_layer_sizes=(100, 100), max_iter=2500, random_state=10, warm_start=True \n",
      "[CV]  activation=relu, alpha=1000, hidden_layer_sizes=(100, 100), max_iter=2500, random_state=10, warm_start=True, total=  31.2s\n",
      "[CV] activation=relu, alpha=1000, hidden_layer_sizes=(100, 100), max_iter=2500, random_state=10, warm_start=True \n",
      "[CV]  activation=relu, alpha=1000, hidden_layer_sizes=(100, 100), max_iter=2500, random_state=10, warm_start=True, total=  19.9s\n",
      "[CV] activation=relu, alpha=1000, hidden_layer_sizes=(100, 100), max_iter=2500, random_state=10, warm_start=True \n",
      "[CV]  activation=relu, alpha=1000, hidden_layer_sizes=(100, 100), max_iter=2500, random_state=10, warm_start=True, total=  23.5s\n"
     ]
    },
    {
     "name": "stderr",
     "output_type": "stream",
     "text": [
      "[Parallel(n_jobs=1)]: Done 240 out of 240 | elapsed: 78.8min finished\n"
     ]
    },
    {
     "data": {
      "text/plain": [
       "GridSearchCV(cv=KFold(n_splits=5, random_state=1, shuffle=True),\n",
       "             estimator=MLPRegressor(),\n",
       "             param_grid={'activation': ['logistic', 'tanh', 'relu'],\n",
       "                         'alpha': [0.0001, 0.001, 0.01, 0.1, 1.0, 10, 100,\n",
       "                                   1000],\n",
       "                         'hidden_layer_sizes': [(100,), (100, 100)],\n",
       "                         'max_iter': [2500], 'random_state': [10],\n",
       "                         'warm_start': [True]},\n",
       "             scoring='neg_root_mean_squared_error', verbose=2)"
      ]
     },
     "execution_count": 303,
     "metadata": {},
     "output_type": "execute_result"
    }
   ],
   "source": [
    "from sklearn.neural_network import MLPRegressor\n",
    "nn_params = {\"hidden_layer_sizes\" : [(100,),(100,100)], \n",
    "             \"activation\" : [\"logistic\", \"tanh\", \"relu\"], \n",
    "             \"alpha\" : [.0001,.001,.01,.1,1.0,10,100,1000],\n",
    "             \"max_iter\" : [2500],\n",
    "             \"random_state\" : [10], \n",
    "             \"warm_start\" : [True]}\n",
    "nn = MLPRegressor()\n",
    "nn_grid = GridSearchCV(estimator=nn,\n",
    "                       param_grid=nn_params,\n",
    "                       scoring=\"neg_root_mean_squared_error\",\n",
    "                       cv=kf, \n",
    "                       verbose=2)\n",
    "nn_grid.fit(X_train_scaled, y_train)"
   ]
  },
  {
   "cell_type": "code",
   "execution_count": 304,
   "metadata": {},
   "outputs": [
    {
     "data": {
      "text/plain": [
       "{'activation': 'tanh',\n",
       " 'alpha': 100,\n",
       " 'hidden_layer_sizes': (100,),\n",
       " 'max_iter': 2500,\n",
       " 'random_state': 10,\n",
       " 'warm_start': True}"
      ]
     },
     "execution_count": 304,
     "metadata": {},
     "output_type": "execute_result"
    }
   ],
   "source": [
    "nn_grid.best_params_"
   ]
  },
  {
   "cell_type": "code",
   "execution_count": 305,
   "metadata": {},
   "outputs": [
    {
     "data": {
      "text/plain": [
       "-7.143236596379731"
      ]
     },
     "execution_count": 305,
     "metadata": {},
     "output_type": "execute_result"
    }
   ],
   "source": [
    "nn_grid.best_score_"
   ]
  },
  {
   "cell_type": "markdown",
   "metadata": {},
   "source": [
    "### 3.6. Model Selection and Interpretation"
   ]
  },
  {
   "cell_type": "markdown",
   "metadata": {},
   "source": [
    "The results of the above models are summarized in the table below (ordered from best to worst performance):"
   ]
  },
  {
   "cell_type": "code",
   "execution_count": 393,
   "metadata": {},
   "outputs": [
    {
     "data": {
      "text/html": [
       "<div>\n",
       "<style scoped>\n",
       "    .dataframe tbody tr th:only-of-type {\n",
       "        vertical-align: middle;\n",
       "    }\n",
       "\n",
       "    .dataframe tbody tr th {\n",
       "        vertical-align: top;\n",
       "    }\n",
       "\n",
       "    .dataframe thead th {\n",
       "        text-align: right;\n",
       "    }\n",
       "</style>\n",
       "<table border=\"1\" class=\"dataframe\">\n",
       "  <thead>\n",
       "    <tr style=\"text-align: right;\">\n",
       "      <th></th>\n",
       "      <th>model</th>\n",
       "      <th>optimized_parameters</th>\n",
       "      <th>R2</th>\n",
       "      <th>RMSE</th>\n",
       "    </tr>\n",
       "  </thead>\n",
       "  <tbody>\n",
       "    <tr>\n",
       "      <th>1</th>\n",
       "      <td>Linear Regression - OLS w/ RFE</td>\n",
       "      <td>{'n_features': 24}</td>\n",
       "      <td>0.223601</td>\n",
       "      <td>7.024655</td>\n",
       "    </tr>\n",
       "    <tr>\n",
       "      <th>6</th>\n",
       "      <td>Random Forest</td>\n",
       "      <td>{'max_depth': 8, 'max_features': 0.25, 'n_estimators': 100, 'random_state': 10}</td>\n",
       "      <td>N/A</td>\n",
       "      <td>7.032518</td>\n",
       "    </tr>\n",
       "    <tr>\n",
       "      <th>3</th>\n",
       "      <td>Linear Regression - Lasso</td>\n",
       "      <td>{'alpha': 0.1, 'random_state': 1}</td>\n",
       "      <td>0.214827</td>\n",
       "      <td>7.115082</td>\n",
       "    </tr>\n",
       "    <tr>\n",
       "      <th>4</th>\n",
       "      <td>K-Nearest Neighbors - RFE</td>\n",
       "      <td>{'n_neighbors': 64, 'p': 2, 'weights': 'uniform'}</td>\n",
       "      <td>N/A</td>\n",
       "      <td>7.126394</td>\n",
       "    </tr>\n",
       "    <tr>\n",
       "      <th>7</th>\n",
       "      <td>Neural Network</td>\n",
       "      <td>{'activation': 'tanh', 'alpha': 100, 'hidden_layer_sizes': (100,), 'max_iter': 2500, 'random_state': 10, 'warm_start': True}</td>\n",
       "      <td>N/A</td>\n",
       "      <td>7.143237</td>\n",
       "    </tr>\n",
       "    <tr>\n",
       "      <th>2</th>\n",
       "      <td>Linear Regression - Ridge</td>\n",
       "      <td>{'alpha': 100, 'random_state': 1}</td>\n",
       "      <td>0.233209</td>\n",
       "      <td>7.147173</td>\n",
       "    </tr>\n",
       "    <tr>\n",
       "      <th>5</th>\n",
       "      <td>K-Nearest Neighbors - Lasso</td>\n",
       "      <td>{'n_neighbors': 64, 'p': 2, 'weights': 'distance'}</td>\n",
       "      <td>N/A</td>\n",
       "      <td>7.222649</td>\n",
       "    </tr>\n",
       "    <tr>\n",
       "      <th>0</th>\n",
       "      <td>Linear Regression - OLS</td>\n",
       "      <td>N/A</td>\n",
       "      <td>0.243664</td>\n",
       "      <td>7.270023</td>\n",
       "    </tr>\n",
       "  </tbody>\n",
       "</table>\n",
       "</div>"
      ],
      "text/plain": [
       "                            model                                                                                                          optimized_parameters        R2      RMSE\n",
       "1  Linear Regression - OLS w/ RFE                                                                                                            {'n_features': 24}  0.223601  7.024655\n",
       "6                   Random Forest                                               {'max_depth': 8, 'max_features': 0.25, 'n_estimators': 100, 'random_state': 10}       N/A  7.032518\n",
       "3       Linear Regression - Lasso                                                                                             {'alpha': 0.1, 'random_state': 1}  0.214827  7.115082\n",
       "4       K-Nearest Neighbors - RFE                                                                             {'n_neighbors': 64, 'p': 2, 'weights': 'uniform'}       N/A  7.126394\n",
       "7                  Neural Network  {'activation': 'tanh', 'alpha': 100, 'hidden_layer_sizes': (100,), 'max_iter': 2500, 'random_state': 10, 'warm_start': True}       N/A  7.143237\n",
       "2       Linear Regression - Ridge                                                                                             {'alpha': 100, 'random_state': 1}  0.233209  7.147173\n",
       "5     K-Nearest Neighbors - Lasso                                                                            {'n_neighbors': 64, 'p': 2, 'weights': 'distance'}       N/A  7.222649\n",
       "0         Linear Regression - OLS                                                                                                                           N/A  0.243664  7.270023"
      ]
     },
     "metadata": {},
     "output_type": "display_data"
    }
   ],
   "source": [
    "models = [\"Linear Regression - OLS\", \n",
    "          \"Linear Regression - OLS w/ RFE\", \n",
    "          \"Linear Regression - Ridge\", \n",
    "          \"Linear Regression - Lasso\", \n",
    "          \"K-Nearest Neighbors - RFE\",\n",
    "          \"K-Nearest Neighbors - Lasso\",\n",
    "          \"Random Forest\", \n",
    "          \"Neural Network\"]\n",
    "\n",
    "optimized_parameters = [\"N/A\", \n",
    "                        {\"n_features\": selector.n_features_}, \n",
    "                        ridge_grid.best_params_, \n",
    "                        lasso_grid.best_params_, \n",
    "                        knn_rfe_grid.best_params_, \n",
    "                        knn_lasso_grid.best_params_, \n",
    "                        rf_grid.best_params_, \n",
    "                        nn_grid.best_params_]\n",
    "\n",
    "RMSEs = [-rmse_lr, \n",
    "         -rmse_lr_rfe, \n",
    "         -ridge_grid.best_score_, \n",
    "         -lasso_grid.best_score_, \n",
    "         -knn_rfe_grid.best_score_, \n",
    "         -knn_lasso_grid.best_score_, \n",
    "         -rf_grid.best_score_, \n",
    "         -nn_grid.best_score_]\n",
    "\n",
    "R2 = [r2_lr, \n",
    "      r2_lr_rfe, \n",
    "      r2_ridge, \n",
    "      r2_lasso, \n",
    "      \"N/A\", \n",
    "      \"N/A\", \n",
    "      \"N/A\", \n",
    "      \"N/A\"]\n",
    "\n",
    "model_df = pd.DataFrame({\"model\" : models, \n",
    "                         \"optimized_parameters\" : optimized_parameters, \n",
    "                         \"R2\" : R2,\n",
    "                         \"RMSE\" : RMSEs})\n",
    "\n",
    "with pd.option_context('display.max_colwidth', 150):\n",
    "    display(model_df.sort_values(by=\"RMSE\"))"
   ]
  },
  {
   "cell_type": "markdown",
   "metadata": {},
   "source": [
    "Based on RMSE, the performance of all models was fairly similar. When it comes to model selection, there is often a tradeoff between performance and interpretability. Interestingly, the model with the lowest RMSE (OLS with RFE) is also quite easy to interpret. Below, I once again list the coefficients associated with the model selected features."
   ]
  },
  {
   "cell_type": "code",
   "execution_count": 394,
   "metadata": {},
   "outputs": [
    {
     "data": {
      "text/html": [
       "<div>\n",
       "<style scoped>\n",
       "    .dataframe tbody tr th:only-of-type {\n",
       "        vertical-align: middle;\n",
       "    }\n",
       "\n",
       "    .dataframe tbody tr th {\n",
       "        vertical-align: top;\n",
       "    }\n",
       "\n",
       "    .dataframe thead th {\n",
       "        text-align: right;\n",
       "    }\n",
       "</style>\n",
       "<table border=\"1\" class=\"dataframe\">\n",
       "  <thead>\n",
       "    <tr style=\"text-align: right;\">\n",
       "      <th></th>\n",
       "      <th>Variable</th>\n",
       "      <th>Label</th>\n",
       "      <th>coef</th>\n",
       "    </tr>\n",
       "  </thead>\n",
       "  <tbody>\n",
       "    <tr>\n",
       "      <th>4</th>\n",
       "      <td>C0130</td>\n",
       "      <td>Require drug testing for students in extra-curricular activities</td>\n",
       "      <td>-1.382996</td>\n",
       "    </tr>\n",
       "    <tr>\n",
       "      <th>8</th>\n",
       "      <td>C0144</td>\n",
       "      <td>Require faculty/staff to wear badge or photo ID</td>\n",
       "      <td>-1.356947</td>\n",
       "    </tr>\n",
       "    <tr>\n",
       "      <th>17</th>\n",
       "      <td>C0274</td>\n",
       "      <td>Teacher training - student alcohol/drug abuse</td>\n",
       "      <td>-1.353353</td>\n",
       "    </tr>\n",
       "    <tr>\n",
       "      <th>12</th>\n",
       "      <td>C0216</td>\n",
       "      <td>Community involvement - business</td>\n",
       "      <td>-1.005540</td>\n",
       "    </tr>\n",
       "    <tr>\n",
       "      <th>10</th>\n",
       "      <td>C0204</td>\n",
       "      <td>Community involvement - parent groups</td>\n",
       "      <td>-0.979556</td>\n",
       "    </tr>\n",
       "    <tr>\n",
       "      <th>16</th>\n",
       "      <td>C0272</td>\n",
       "      <td>Teacher training - early warning signs for violent behavior</td>\n",
       "      <td>0.662518</td>\n",
       "    </tr>\n",
       "    <tr>\n",
       "      <th>9</th>\n",
       "      <td>C0604</td>\n",
       "      <td>LGBTQ acceptance group</td>\n",
       "      <td>0.673752</td>\n",
       "    </tr>\n",
       "    <tr>\n",
       "      <th>22</th>\n",
       "      <td>FR_URBAN</td>\n",
       "      <td>Urbanicity - Based on Urban-centric location of school</td>\n",
       "      <td>0.713277</td>\n",
       "    </tr>\n",
       "    <tr>\n",
       "      <th>15</th>\n",
       "      <td>C0662</td>\n",
       "      <td>Diagnostic assessment at school by school-employed mental health professional</td>\n",
       "      <td>0.770919</td>\n",
       "    </tr>\n",
       "    <tr>\n",
       "      <th>21</th>\n",
       "      <td>SEC_FT16</td>\n",
       "      <td>Total # of full-time security guards, SROs, or sworn law enforcement officers</td>\n",
       "      <td>0.777064</td>\n",
       "    </tr>\n",
       "    <tr>\n",
       "      <th>20</th>\n",
       "      <td>C0454</td>\n",
       "      <td>Require community service available</td>\n",
       "      <td>0.836374</td>\n",
       "    </tr>\n",
       "    <tr>\n",
       "      <th>3</th>\n",
       "      <td>C0128</td>\n",
       "      <td>Require drug testing for athletes</td>\n",
       "      <td>0.852492</td>\n",
       "    </tr>\n",
       "    <tr>\n",
       "      <th>19</th>\n",
       "      <td>C0406</td>\n",
       "      <td>Outside suspension/no services available</td>\n",
       "      <td>0.868088</td>\n",
       "    </tr>\n",
       "    <tr>\n",
       "      <th>2</th>\n",
       "      <td>C0124</td>\n",
       "      <td>Practice random dog sniffs for drugs</td>\n",
       "      <td>0.925890</td>\n",
       "    </tr>\n",
       "    <tr>\n",
       "      <th>18</th>\n",
       "      <td>C0398</td>\n",
       "      <td>Transfer to specialized school available</td>\n",
       "      <td>0.978196</td>\n",
       "    </tr>\n",
       "    <tr>\n",
       "      <th>5</th>\n",
       "      <td>C0138</td>\n",
       "      <td>Provide school lockers to students</td>\n",
       "      <td>1.102573</td>\n",
       "    </tr>\n",
       "    <tr>\n",
       "      <th>13</th>\n",
       "      <td>C0218</td>\n",
       "      <td>Community involvement - religious organizations</td>\n",
       "      <td>1.233478</td>\n",
       "    </tr>\n",
       "    <tr>\n",
       "      <th>11</th>\n",
       "      <td>C0208</td>\n",
       "      <td>Community involvement - juvenile justice</td>\n",
       "      <td>1.268887</td>\n",
       "    </tr>\n",
       "    <tr>\n",
       "      <th>14</th>\n",
       "      <td>C0610</td>\n",
       "      <td>Sworn law enforcement officers at school</td>\n",
       "      <td>1.289926</td>\n",
       "    </tr>\n",
       "    <tr>\n",
       "      <th>6</th>\n",
       "      <td>C0140</td>\n",
       "      <td>Require clear book bags or ban book bags</td>\n",
       "      <td>1.633705</td>\n",
       "    </tr>\n",
       "    <tr>\n",
       "      <th>24</th>\n",
       "      <td>INTERCEPT</td>\n",
       "      <td>INTERCEPT</td>\n",
       "      <td>1.921409</td>\n",
       "    </tr>\n",
       "    <tr>\n",
       "      <th>1</th>\n",
       "      <td>C0120</td>\n",
       "      <td>Have random metal detector checks on students</td>\n",
       "      <td>1.944766</td>\n",
       "    </tr>\n",
       "    <tr>\n",
       "      <th>7</th>\n",
       "      <td>C0142</td>\n",
       "      <td>Require students to wear badge or photo ID</td>\n",
       "      <td>2.095281</td>\n",
       "    </tr>\n",
       "    <tr>\n",
       "      <th>0</th>\n",
       "      <td>C0116</td>\n",
       "      <td>Students pass through metal detectors</td>\n",
       "      <td>2.448417</td>\n",
       "    </tr>\n",
       "    <tr>\n",
       "      <th>23</th>\n",
       "      <td>FR_SIZE</td>\n",
       "      <td>Size of school</td>\n",
       "      <td>3.818910</td>\n",
       "    </tr>\n",
       "  </tbody>\n",
       "</table>\n",
       "</div>"
      ],
      "text/plain": [
       "     Variable                                                                          Label      coef\n",
       "4       C0130               Require drug testing for students in extra-curricular activities -1.382996\n",
       "8       C0144                                Require faculty/staff to wear badge or photo ID -1.356947\n",
       "17      C0274                                  Teacher training - student alcohol/drug abuse -1.353353\n",
       "12      C0216                                               Community involvement - business -1.005540\n",
       "10      C0204                                          Community involvement - parent groups -0.979556\n",
       "16      C0272                    Teacher training - early warning signs for violent behavior  0.662518\n",
       "9       C0604                                                         LGBTQ acceptance group  0.673752\n",
       "22   FR_URBAN                         Urbanicity - Based on Urban-centric location of school  0.713277\n",
       "15      C0662  Diagnostic assessment at school by school-employed mental health professional  0.770919\n",
       "21   SEC_FT16  Total # of full-time security guards, SROs, or sworn law enforcement officers  0.777064\n",
       "20      C0454                                            Require community service available  0.836374\n",
       "3       C0128                                              Require drug testing for athletes  0.852492\n",
       "19      C0406                                       Outside suspension/no services available  0.868088\n",
       "2       C0124                                           Practice random dog sniffs for drugs  0.925890\n",
       "18      C0398                                       Transfer to specialized school available  0.978196\n",
       "5       C0138                                             Provide school lockers to students  1.102573\n",
       "13      C0218                                Community involvement - religious organizations  1.233478\n",
       "11      C0208                                       Community involvement - juvenile justice  1.268887\n",
       "14      C0610                                       Sworn law enforcement officers at school  1.289926\n",
       "6       C0140                                       Require clear book bags or ban book bags  1.633705\n",
       "24  INTERCEPT                                                                      INTERCEPT  1.921409\n",
       "1       C0120                                  Have random metal detector checks on students  1.944766\n",
       "7       C0142                                     Require students to wear badge or photo ID  2.095281\n",
       "0       C0116                                          Students pass through metal detectors  2.448417\n",
       "23    FR_SIZE                                                                 Size of school  3.818910"
      ]
     },
     "metadata": {},
     "output_type": "display_data"
    }
   ],
   "source": [
    "with pd.option_context('display.max_colwidth', 150):\n",
    "    display(lr_rfe_coef.sort_values(by=\"coef\"))"
   ]
  },
  {
   "cell_type": "markdown",
   "metadata": {},
   "source": [
    "Drug testing, required faculty ID, teacher training on substance abuse, and community involvement in school safety were all associated with a reduction in violent incidents. Not surprisingly, larger schools (FR_SIZE = 1) were associated with more violent incidents. Less expected was that metal detectors, required student IDs, required clear book bags/book bag bans, presence of law enforcement, etc. were associated with an increase in violent incidents. This seems like a classic case of correlation not implying causation. For example, schools with measures as stringent as requiring students to pass through metal detectors likely already have a history of school violence which resulted in those measures being instated.\n",
    "\n",
    "Next, I wanted to check the significance of the calculated coefficients. Below, I used a separate module to calculate p-values and confidence intervals. The majority of these coefficients were statistically different from 0 (can reject the null-hypothesis)."
   ]
  },
  {
   "cell_type": "code",
   "execution_count": 395,
   "metadata": {},
   "outputs": [
    {
     "data": {
      "text/html": [
       "<div>\n",
       "<style scoped>\n",
       "    .dataframe tbody tr th:only-of-type {\n",
       "        vertical-align: middle;\n",
       "    }\n",
       "\n",
       "    .dataframe tbody tr th {\n",
       "        vertical-align: top;\n",
       "    }\n",
       "\n",
       "    .dataframe thead th {\n",
       "        text-align: right;\n",
       "    }\n",
       "</style>\n",
       "<table border=\"1\" class=\"dataframe\">\n",
       "  <thead>\n",
       "    <tr style=\"text-align: right;\">\n",
       "      <th></th>\n",
       "      <th>Coef.</th>\n",
       "      <th>Std.Err.</th>\n",
       "      <th>t</th>\n",
       "      <th>P&gt;|t|</th>\n",
       "      <th>[0.025</th>\n",
       "      <th>0.975]</th>\n",
       "      <th>reject_null</th>\n",
       "    </tr>\n",
       "  </thead>\n",
       "  <tbody>\n",
       "    <tr>\n",
       "      <th>C0130</th>\n",
       "      <td>-1.382996</td>\n",
       "      <td>1.133629</td>\n",
       "      <td>-1.219972</td>\n",
       "      <td>2.226772e-01</td>\n",
       "      <td>-3.606755</td>\n",
       "      <td>0.840764</td>\n",
       "      <td>0</td>\n",
       "    </tr>\n",
       "    <tr>\n",
       "      <th>C0144</th>\n",
       "      <td>-1.356947</td>\n",
       "      <td>0.418056</td>\n",
       "      <td>-3.245851</td>\n",
       "      <td>1.198183e-03</td>\n",
       "      <td>-2.177018</td>\n",
       "      <td>-0.536877</td>\n",
       "      <td>1</td>\n",
       "    </tr>\n",
       "    <tr>\n",
       "      <th>C0274</th>\n",
       "      <td>-1.353353</td>\n",
       "      <td>0.443583</td>\n",
       "      <td>-3.050956</td>\n",
       "      <td>2.323242e-03</td>\n",
       "      <td>-2.223498</td>\n",
       "      <td>-0.483207</td>\n",
       "      <td>1</td>\n",
       "    </tr>\n",
       "    <tr>\n",
       "      <th>C0216</th>\n",
       "      <td>-1.005540</td>\n",
       "      <td>0.445951</td>\n",
       "      <td>-2.254821</td>\n",
       "      <td>2.429574e-02</td>\n",
       "      <td>-1.880330</td>\n",
       "      <td>-0.130749</td>\n",
       "      <td>1</td>\n",
       "    </tr>\n",
       "    <tr>\n",
       "      <th>C0204</th>\n",
       "      <td>-0.979556</td>\n",
       "      <td>0.393092</td>\n",
       "      <td>-2.491924</td>\n",
       "      <td>1.281819e-02</td>\n",
       "      <td>-1.750658</td>\n",
       "      <td>-0.208455</td>\n",
       "      <td>1</td>\n",
       "    </tr>\n",
       "    <tr>\n",
       "      <th>C0272</th>\n",
       "      <td>0.662518</td>\n",
       "      <td>0.419554</td>\n",
       "      <td>1.579103</td>\n",
       "      <td>1.145342e-01</td>\n",
       "      <td>-0.160490</td>\n",
       "      <td>1.485527</td>\n",
       "      <td>0</td>\n",
       "    </tr>\n",
       "    <tr>\n",
       "      <th>C0604</th>\n",
       "      <td>0.673752</td>\n",
       "      <td>0.477979</td>\n",
       "      <td>1.409584</td>\n",
       "      <td>1.588805e-01</td>\n",
       "      <td>-0.263866</td>\n",
       "      <td>1.611370</td>\n",
       "      <td>0</td>\n",
       "    </tr>\n",
       "    <tr>\n",
       "      <th>FR_URBAN</th>\n",
       "      <td>0.713277</td>\n",
       "      <td>0.458781</td>\n",
       "      <td>1.554723</td>\n",
       "      <td>1.202339e-01</td>\n",
       "      <td>-0.186680</td>\n",
       "      <td>1.613234</td>\n",
       "      <td>0</td>\n",
       "    </tr>\n",
       "    <tr>\n",
       "      <th>C0662</th>\n",
       "      <td>0.770919</td>\n",
       "      <td>0.375821</td>\n",
       "      <td>2.051292</td>\n",
       "      <td>4.042085e-02</td>\n",
       "      <td>0.033697</td>\n",
       "      <td>1.508142</td>\n",
       "      <td>1</td>\n",
       "    </tr>\n",
       "    <tr>\n",
       "      <th>SEC_FT16</th>\n",
       "      <td>0.777064</td>\n",
       "      <td>0.197007</td>\n",
       "      <td>3.944346</td>\n",
       "      <td>8.390546e-05</td>\n",
       "      <td>0.390609</td>\n",
       "      <td>1.163519</td>\n",
       "      <td>1</td>\n",
       "    </tr>\n",
       "    <tr>\n",
       "      <th>C0454</th>\n",
       "      <td>0.836374</td>\n",
       "      <td>0.399654</td>\n",
       "      <td>2.092748</td>\n",
       "      <td>3.654799e-02</td>\n",
       "      <td>0.052402</td>\n",
       "      <td>1.620346</td>\n",
       "      <td>1</td>\n",
       "    </tr>\n",
       "    <tr>\n",
       "      <th>C0128</th>\n",
       "      <td>0.852492</td>\n",
       "      <td>1.030691</td>\n",
       "      <td>0.827107</td>\n",
       "      <td>4.083149e-01</td>\n",
       "      <td>-1.169342</td>\n",
       "      <td>2.874326</td>\n",
       "      <td>0</td>\n",
       "    </tr>\n",
       "    <tr>\n",
       "      <th>C0406</th>\n",
       "      <td>0.868088</td>\n",
       "      <td>0.374437</td>\n",
       "      <td>2.318384</td>\n",
       "      <td>2.056930e-02</td>\n",
       "      <td>0.133582</td>\n",
       "      <td>1.602595</td>\n",
       "      <td>1</td>\n",
       "    </tr>\n",
       "    <tr>\n",
       "      <th>C0124</th>\n",
       "      <td>0.925890</td>\n",
       "      <td>0.426987</td>\n",
       "      <td>2.168427</td>\n",
       "      <td>3.029107e-02</td>\n",
       "      <td>0.088300</td>\n",
       "      <td>1.763480</td>\n",
       "      <td>1</td>\n",
       "    </tr>\n",
       "    <tr>\n",
       "      <th>C0398</th>\n",
       "      <td>0.978196</td>\n",
       "      <td>0.406333</td>\n",
       "      <td>2.407378</td>\n",
       "      <td>1.619391e-02</td>\n",
       "      <td>0.181122</td>\n",
       "      <td>1.775270</td>\n",
       "      <td>1</td>\n",
       "    </tr>\n",
       "    <tr>\n",
       "      <th>C0138</th>\n",
       "      <td>1.102573</td>\n",
       "      <td>0.427371</td>\n",
       "      <td>2.579900</td>\n",
       "      <td>9.982199e-03</td>\n",
       "      <td>0.264231</td>\n",
       "      <td>1.940916</td>\n",
       "      <td>1</td>\n",
       "    </tr>\n",
       "    <tr>\n",
       "      <th>C0218</th>\n",
       "      <td>1.233478</td>\n",
       "      <td>0.439413</td>\n",
       "      <td>2.807105</td>\n",
       "      <td>5.066935e-03</td>\n",
       "      <td>0.371513</td>\n",
       "      <td>2.095444</td>\n",
       "      <td>1</td>\n",
       "    </tr>\n",
       "    <tr>\n",
       "      <th>C0208</th>\n",
       "      <td>1.268887</td>\n",
       "      <td>0.413898</td>\n",
       "      <td>3.065704</td>\n",
       "      <td>2.212381e-03</td>\n",
       "      <td>0.456974</td>\n",
       "      <td>2.080801</td>\n",
       "      <td>1</td>\n",
       "    </tr>\n",
       "    <tr>\n",
       "      <th>C0610</th>\n",
       "      <td>1.289926</td>\n",
       "      <td>0.422929</td>\n",
       "      <td>3.049981</td>\n",
       "      <td>2.330742e-03</td>\n",
       "      <td>0.460296</td>\n",
       "      <td>2.119555</td>\n",
       "      <td>1</td>\n",
       "    </tr>\n",
       "    <tr>\n",
       "      <th>C0140</th>\n",
       "      <td>1.633705</td>\n",
       "      <td>0.813904</td>\n",
       "      <td>2.007245</td>\n",
       "      <td>4.491197e-02</td>\n",
       "      <td>0.037127</td>\n",
       "      <td>3.230283</td>\n",
       "      <td>1</td>\n",
       "    </tr>\n",
       "    <tr>\n",
       "      <th>const</th>\n",
       "      <td>1.921409</td>\n",
       "      <td>0.620655</td>\n",
       "      <td>3.095774</td>\n",
       "      <td>2.001226e-03</td>\n",
       "      <td>0.703913</td>\n",
       "      <td>3.138904</td>\n",
       "      <td>1</td>\n",
       "    </tr>\n",
       "    <tr>\n",
       "      <th>C0120</th>\n",
       "      <td>1.944766</td>\n",
       "      <td>0.970100</td>\n",
       "      <td>2.004706</td>\n",
       "      <td>4.518321e-02</td>\n",
       "      <td>0.041789</td>\n",
       "      <td>3.847742</td>\n",
       "      <td>1</td>\n",
       "    </tr>\n",
       "    <tr>\n",
       "      <th>C0142</th>\n",
       "      <td>2.095281</td>\n",
       "      <td>0.616348</td>\n",
       "      <td>3.399511</td>\n",
       "      <td>6.936949e-04</td>\n",
       "      <td>0.886235</td>\n",
       "      <td>3.304326</td>\n",
       "      <td>1</td>\n",
       "    </tr>\n",
       "    <tr>\n",
       "      <th>C0116</th>\n",
       "      <td>2.448417</td>\n",
       "      <td>1.503155</td>\n",
       "      <td>1.628852</td>\n",
       "      <td>1.035653e-01</td>\n",
       "      <td>-0.500216</td>\n",
       "      <td>5.397051</td>\n",
       "      <td>0</td>\n",
       "    </tr>\n",
       "    <tr>\n",
       "      <th>FR_SIZE</th>\n",
       "      <td>3.818910</td>\n",
       "      <td>0.426632</td>\n",
       "      <td>8.951300</td>\n",
       "      <td>1.068442e-18</td>\n",
       "      <td>2.982017</td>\n",
       "      <td>4.655804</td>\n",
       "      <td>1</td>\n",
       "    </tr>\n",
       "  </tbody>\n",
       "</table>\n",
       "</div>"
      ],
      "text/plain": [
       "             Coef.  Std.Err.         t         P>|t|    [0.025    0.975]  reject_null\n",
       "C0130    -1.382996  1.133629 -1.219972  2.226772e-01 -3.606755  0.840764            0\n",
       "C0144    -1.356947  0.418056 -3.245851  1.198183e-03 -2.177018 -0.536877            1\n",
       "C0274    -1.353353  0.443583 -3.050956  2.323242e-03 -2.223498 -0.483207            1\n",
       "C0216    -1.005540  0.445951 -2.254821  2.429574e-02 -1.880330 -0.130749            1\n",
       "C0204    -0.979556  0.393092 -2.491924  1.281819e-02 -1.750658 -0.208455            1\n",
       "C0272     0.662518  0.419554  1.579103  1.145342e-01 -0.160490  1.485527            0\n",
       "C0604     0.673752  0.477979  1.409584  1.588805e-01 -0.263866  1.611370            0\n",
       "FR_URBAN  0.713277  0.458781  1.554723  1.202339e-01 -0.186680  1.613234            0\n",
       "C0662     0.770919  0.375821  2.051292  4.042085e-02  0.033697  1.508142            1\n",
       "SEC_FT16  0.777064  0.197007  3.944346  8.390546e-05  0.390609  1.163519            1\n",
       "C0454     0.836374  0.399654  2.092748  3.654799e-02  0.052402  1.620346            1\n",
       "C0128     0.852492  1.030691  0.827107  4.083149e-01 -1.169342  2.874326            0\n",
       "C0406     0.868088  0.374437  2.318384  2.056930e-02  0.133582  1.602595            1\n",
       "C0124     0.925890  0.426987  2.168427  3.029107e-02  0.088300  1.763480            1\n",
       "C0398     0.978196  0.406333  2.407378  1.619391e-02  0.181122  1.775270            1\n",
       "C0138     1.102573  0.427371  2.579900  9.982199e-03  0.264231  1.940916            1\n",
       "C0218     1.233478  0.439413  2.807105  5.066935e-03  0.371513  2.095444            1\n",
       "C0208     1.268887  0.413898  3.065704  2.212381e-03  0.456974  2.080801            1\n",
       "C0610     1.289926  0.422929  3.049981  2.330742e-03  0.460296  2.119555            1\n",
       "C0140     1.633705  0.813904  2.007245  4.491197e-02  0.037127  3.230283            1\n",
       "const     1.921409  0.620655  3.095774  2.001226e-03  0.703913  3.138904            1\n",
       "C0120     1.944766  0.970100  2.004706  4.518321e-02  0.041789  3.847742            1\n",
       "C0142     2.095281  0.616348  3.399511  6.936949e-04  0.886235  3.304326            1\n",
       "C0116     2.448417  1.503155  1.628852  1.035653e-01 -0.500216  5.397051            0\n",
       "FR_SIZE   3.818910  0.426632  8.951300  1.068442e-18  2.982017  4.655804            1"
      ]
     },
     "execution_count": 395,
     "metadata": {},
     "output_type": "execute_result"
    }
   ],
   "source": [
    "import statsmodels.api as sm\n",
    "model = sm.OLS(y_train, sm.add_constant(X_train_subset_scaled))\n",
    "model_fit = model.fit()\n",
    "\n",
    "significance_df = model_fit.summary2().tables[1]\n",
    "significance_df[\"reject_null\"] = significance_df[\"P>|t|\"].apply(lambda x: 1 if x<.05 else 0)\n",
    "\n",
    "significance_df.sort_values(by=\"Coef.\")"
   ]
  },
  {
   "cell_type": "markdown",
   "metadata": {},
   "source": [
    "Now, I wanted to analyze how model error varied depending on the value of the target variable. As shown below, residuals were generally more negative for y_train < 10 (model prediction was too high) and more positive for y_train > 10 (model prediction was too low). This suggests that there may be some different dynamics at play between the data in each group (which could potentially be addressed by the addition of polynomial/interaction features."
   ]
  },
  {
   "cell_type": "code",
   "execution_count": 409,
   "metadata": {},
   "outputs": [
    {
     "data": {
      "text/plain": [
       "<matplotlib.collections.PathCollection at 0x1d3ba1fdc88>"
      ]
     },
     "execution_count": 409,
     "metadata": {},
     "output_type": "execute_result"
    },
    {
     "data": {
      "image/png": "[encoded data removed]",
      "text/plain": [
       "<Figure size 864x648 with 1 Axes>"
      ]
     },
     "metadata": {
      "needs_background": "light"
     },
     "output_type": "display_data"
    }
   ],
   "source": [
    "y_train_pred = lr_rfe.predict(X_train_subset_scaled)\n",
    "residuals = y_train-y_train_pred\n",
    "fig, ax = plt.subplots(figsize = (12,9))\n",
    "plt.scatter(y_train, residuals)"
   ]
  },
  {
   "cell_type": "markdown",
   "metadata": {},
   "source": [
    "One byproduct of linear regression is that it can predict negative values even when such a prediction does not make real-world sense. In fact, some schools with 0 violent incidents were predicted as having negative incidents. As a final adjustment to the OLS with RFE model, I adjusted any negative predictions to output 0 instead. Below is a cross-validated simulation of the model. Given that only a few predictions were negative, this final model only gives marginal improvement."
   ]
  },
  {
   "cell_type": "code",
   "execution_count": 410,
   "metadata": {
    "scrolled": true
   },
   "outputs": [
    {
     "data": {
      "text/plain": [
       "7.022960908337237"
      ]
     },
     "execution_count": 410,
     "metadata": {},
     "output_type": "execute_result"
    }
   ],
   "source": [
    "from sklearn.metrics import mean_squared_error\n",
    "cvs_final_model = []\n",
    "for train_index, cv_index in kf.split(X_train_subset_scaled):\n",
    "    x_train_temp, x_cv = X_train_subset_scaled.iloc[train_index], X_train_subset_scaled.iloc[cv_index]\n",
    "    y_train_temp, y_cv = y_train.iloc[train_index], y_train.iloc[cv_index]\n",
    "    lr_rfe.fit(x_train_temp,y_train_temp)\n",
    "    y_pred = lr_rfe.predict(x_cv)\n",
    "    #Adjust negative predictions to 0\n",
    "    y_pred = [y if y>0 else 0 for y in y_pred]\n",
    "    rmse = mean_squared_error(y_cv, y_pred)**.5\n",
    "    cvs_final_model.append(rmse)\n",
    "np.mean(cvs_final_model)"
   ]
  },
  {
   "cell_type": "markdown",
   "metadata": {},
   "source": [
    "Finally, for an unbiased estimate of how this model would perform on unseen data, I fit it on the whole training set (ignoring CV folds) and calculated a final RMSE value for the test set."
   ]
  },
  {
   "cell_type": "code",
   "execution_count": 474,
   "metadata": {
    "scrolled": true
   },
   "outputs": [
    {
     "data": {
      "text/plain": [
       "7.822365366897361"
      ]
     },
     "execution_count": 474,
     "metadata": {},
     "output_type": "execute_result"
    }
   ],
   "source": [
    "lr_rfe.fit(X_train_subset_scaled, y_train)\n",
    "y_pred = lr_rfe.predict(X_test_subset_scaled)\n",
    "y_pred = [y if y>0 else 0 for y in y_pred]\n",
    "rmse = mean_squared_error(y_test, y_pred)**.5\n",
    "rmse"
   ]
  },
  {
   "cell_type": "markdown",
   "metadata": {},
   "source": [
    "## 4. Conclusion/Further Steps"
   ]
  },
  {
   "cell_type": "markdown",
   "metadata": {},
   "source": [
    "While the OLS RFE model did show some modest promise in making predictions about violent incidents, it can clearly be improved. The RMSE of 7.82 on the test set is quite high given that the range of violent incidents for the schools studied was 0 to 31. However, the statistical significance of the model features suggests that these inputs are useful.\n",
    "\n",
    "As a first additional step, I would focus on reducing model bias and bringing the k-fold RMSE value down to a more reasonable number. This can be accomplished in a variety of ways:\n",
    "1. Introduce interaction/polynomial features\n",
    "2. Get additional data on the schools in this survey\n",
    "    1. Precise number of students in each school\n",
    "    2. More granular demographic information (ethnicity, religion, political)\n",
    "    3. Geographical location (state, city, etc.)\n",
    "3. Get additional data about the area surrounding the school\n",
    "    1. Weapon laws/sales\n",
    "    2. Precise crime rate\n",
    " \n",
    "Unfortunately, this survey anonymized responses, so it isn't currently possible to gather additional data corresponding to an individual school. However, the SSOCS has also been conducted during several other years in the past, and it would be interesting to see how the temporal component affects violent incidents and whether any trends have appeared over time."
   ]
  }
 ],
 "metadata": {
  "kernelspec": {
   "display_name": "Python 3",
   "language": "python",
   "name": "python3"
  },
  "language_info": {
   "codemirror_mode": {
    "name": "ipython",
    "version": 3
   },
   "file_extension": ".py",
   "mimetype": "text/x-python",
   "name": "python",
   "nbconvert_exporter": "python",
   "pygments_lexer": "ipython3",
   "version": "3.7.6"
  }
 },
 "nbformat": 4,
 "nbformat_minor": 4
}
